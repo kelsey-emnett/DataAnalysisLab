{
 "cells": [
  {
   "cell_type": "code",
   "execution_count": 10,
   "metadata": {},
   "outputs": [
    {
     "name": "stdout",
     "output_type": "stream",
     "text": [
      "/Users/kelsey.huntzberry/Documents/Classes/Machine_Learning_Class/Data\n"
     ]
    }
   ],
   "source": [
    "import pandas as pd\n",
    "import numpy as np\n",
    "import os\n",
    "import itertools\n",
    "import matplotlib.pyplot as plt\n",
    "from matplotlib import rcParams, gridspec\n",
    "from pandas.api.types import CategoricalDtype\n",
    "import pickle\n",
    "\n",
    "import sklearn\n",
    "from sklearn import model_selection\n",
    "from sklearn.model_selection import StratifiedShuffleSplit\n",
    "from sklearn.ensemble import GradientBoostingClassifier\n",
    "from sklearn.ensemble import RandomForestClassifier\n",
    "from sklearn.neighbors import KNeighborsClassifier\n",
    "from sklearn.linear_model import LogisticRegression\n",
    "\n",
    "from sklearn import metrics\n",
    "from sklearn.impute import SimpleImputer\n",
    "from sklearn.metrics import classification_report\n",
    "from sklearn.metrics import roc_curve\n",
    "from sklearn.metrics import roc_auc_score\n",
    "from sklearn.metrics import roc_curve\n",
    "from sklearn.metrics import roc_auc_score\n",
    "from sklearn.metrics import f1_score\n",
    "from sklearn.metrics import confusion_matrix\n",
    "from sklearn.model_selection import cross_val_score\n",
    "\n",
    "os.chdir(\"/Users/kelsey.huntzberry/Documents/Classes/Machine_Learning_Class/Data\")\n",
    "print(os.getcwd())"
   ]
  },
  {
   "cell_type": "code",
   "execution_count": 2,
   "metadata": {},
   "outputs": [
    {
     "data": {
      "text/plain": [
       "31"
      ]
     },
     "execution_count": 2,
     "metadata": {},
     "output_type": "execute_result"
    }
   ],
   "source": [
    "import gc\n",
    "gc.collect()"
   ]
  },
  {
   "cell_type": "code",
   "execution_count": 4,
   "metadata": {},
   "outputs": [],
   "source": [
    "# Read in Treatment Episode Data Set data\n",
    "teds18 = pd.read_csv('tedsa_puf_2018.csv')"
   ]
  },
  {
   "cell_type": "code",
   "execution_count": 5,
   "metadata": {},
   "outputs": [
    {
     "data": {
      "text/plain": [
       "Index(['ADMYR', 'CASEID', 'STFIPS', 'CBSA2010', 'EDUC', 'MARSTAT', 'SERVICES',\n",
       "       'DETCRIM', 'NOPRIOR', 'PSOURCE', 'ARRESTS', 'EMPLOY', 'METHUSE',\n",
       "       'PSYPROB', 'PREG', 'GENDER', 'VET', 'LIVARAG', 'DAYWAIT', 'DSMCRIT',\n",
       "       'AGE', 'RACE', 'ETHNIC', 'DETNLF', 'PRIMINC', 'SUB1', 'SUB2', 'SUB3',\n",
       "       'ROUTE1', 'ROUTE2', 'ROUTE3', 'FREQ1', 'FREQ2', 'FREQ3', 'FRSTUSE1',\n",
       "       'FRSTUSE2', 'FRSTUSE3', 'HLTHINS', 'PRIMPAY', 'FREQ_ATND_SELF_HELP',\n",
       "       'ALCFLG', 'COKEFLG', 'MARFLG', 'HERFLG', 'METHFLG', 'OPSYNFLG',\n",
       "       'PCPFLG', 'HALLFLG', 'MTHAMFLG', 'AMPHFLG', 'STIMFLG', 'BENZFLG',\n",
       "       'TRNQFLG', 'BARBFLG', 'SEDHPFLG', 'INHFLG', 'OTCFLG', 'OTHERFLG',\n",
       "       'DIVISION', 'REGION', 'IDU', 'ALCDRUG'],\n",
       "      dtype='object')"
      ]
     },
     "execution_count": 5,
     "metadata": {},
     "output_type": "execute_result"
    }
   ],
   "source": [
    "teds18.columns"
   ]
  },
  {
   "cell_type": "code",
   "execution_count": 6,
   "metadata": {},
   "outputs": [],
   "source": [
    "# Subset the data to just the 0/1 drug flag variables\n",
    "flags = teds18.filter(regex='FLG$', axis = 1)"
   ]
  },
  {
   "cell_type": "code",
   "execution_count": 7,
   "metadata": {},
   "outputs": [],
   "source": [
    "# Sum the flag variables to calculate the number of drugs recorded for each individual\n",
    "NUMSUBS = flags.sum(axis=1)"
   ]
  },
  {
   "cell_type": "code",
   "execution_count": 8,
   "metadata": {},
   "outputs": [],
   "source": [
    "# Concatenate flag variables back into the 2015-17 data\n",
    "teds_wflgs = pd.concat([teds18, NUMSUBS], axis = 1)\n",
    "teds_wflgs.rename(columns={0:'NUMSUBS'}, inplace = True)"
   ]
  },
  {
   "cell_type": "code",
   "execution_count": 9,
   "metadata": {},
   "outputs": [],
   "source": [
    "# Remove rows where the first substance was \"None\"\n",
    "teds_sm_temp = teds_wflgs[teds_wflgs.SUB1 != 1]\n",
    "# Remove rows where number of prior treatments is NA (target variable)\n",
    "teds_sm1 = teds_sm_temp[teds_sm_temp.NOPRIOR != -9]"
   ]
  },
  {
   "cell_type": "code",
   "execution_count": 10,
   "metadata": {},
   "outputs": [],
   "source": [
    "# Select subset of columns\n",
    "teds_sm = teds_sm1.loc[:,['CASEID','ADMYR','AGE','GENDER','RACE','ETHNIC','EDUC','EMPLOY','VET','LIVARAG',\\\n",
    "                          'STFIPS','CBSA2010','DIVISION','REGION','SERVICES','PSOURCE','NOPRIOR','ARRESTS','ROUTE1','FRSTUSE1','FREQ1', \\\n",
    "                          'ROUTE2','FRSTUSE2', 'FREQ2','ROUTE3','FRSTUSE3','FREQ3','NUMSUBS','METHUSE','ALCFLG','PSYPROB', \\\n",
    "                          'COKEFLG','MARFLG','HERFLG','METHFLG','OPSYNFLG','PCPFLG','HALLFLG','MTHAMFLG','AMPHFLG','STIMFLG', \\\n",
    "                          'BENZFLG','TRNQFLG','BARBFLG','SEDHPFLG','INHFLG','OTCFLG','OTHERFLG']]"
   ]
  },
  {
   "cell_type": "code",
   "execution_count": 11,
   "metadata": {},
   "outputs": [
    {
     "name": "stderr",
     "output_type": "stream",
     "text": [
      "/opt/anaconda3/lib/python3.7/site-packages/pandas/core/indexing.py:376: SettingWithCopyWarning: \n",
      "A value is trying to be set on a copy of a slice from a DataFrame.\n",
      "Try using .loc[row_indexer,col_indexer] = value instead\n",
      "\n",
      "See the caveats in the documentation: http://pandas.pydata.org/pandas-docs/stable/user_guide/indexing.html#returning-a-view-versus-a-copy\n",
      "  self.obj[key] = _infer_fill_value(value)\n",
      "/opt/anaconda3/lib/python3.7/site-packages/pandas/core/indexing.py:494: SettingWithCopyWarning: \n",
      "A value is trying to be set on a copy of a slice from a DataFrame.\n",
      "Try using .loc[row_indexer,col_indexer] = value instead\n",
      "\n",
      "See the caveats in the documentation: http://pandas.pydata.org/pandas-docs/stable/user_guide/indexing.html#returning-a-view-versus-a-copy\n",
      "  self.obj[item] = s\n"
     ]
    }
   ],
   "source": [
    "# Recode age group variable\n",
    "def age_groups(series):\n",
    "    if series == 1:\n",
    "        return '12_14_years'\n",
    "    elif series == 2:\n",
    "        return '15_17_years'\n",
    "    elif series == 3:\n",
    "        return '18_20_years'\n",
    "    elif series == 4:\n",
    "        return '21_24_years'\n",
    "    elif series == 5:\n",
    "        return '25_29_years'\n",
    "    elif series == 6:\n",
    "        return '30_34_years'\n",
    "    elif series == 7:\n",
    "        return '35_39_years'\n",
    "    elif series == 8:\n",
    "        return '40_44_years'\n",
    "    elif series == 9:\n",
    "        return '45_49_years'\n",
    "    elif series == 10:\n",
    "        return '50_54_years'\n",
    "    elif series == 11:\n",
    "        return '55_64_years'\n",
    "    elif series == 12:\n",
    "        return '65_plus_years'\n",
    "    \n",
    "teds_sm1.loc[:, 'age_group'] = teds_sm1.AGE.apply(age_groups)\n",
    "\n",
    "# Change variable to an ordered factor\n",
    "teds_sm1.loc[:, 'age_group'] = pd.Categorical(teds_sm1['age_group'], categories = ['12_14_years', '15_17_years', '18_20_years',\n",
    "                                                                                   '21_24_years', '25_29_years', '30_34_years',\n",
    "                                                                                   '35_39_years', '40_44_years', '45_49_years',\n",
    "                                                                                   '50_54_years', '55_64_years', '65_plus_years'], ordered = True)\n",
    "\n",
    "# Change variable to an ordered factor with values as numbers\n",
    "labels, unique = pd.factorize(teds_sm1.loc[:, 'age_group'], sort = True)\n",
    "teds_sm1.loc[:, 'age_group'] = labels"
   ]
  },
  {
   "cell_type": "code",
   "execution_count": 12,
   "metadata": {},
   "outputs": [],
   "source": [
    "# Recode gender variable\n",
    "def gen_rc(series):\n",
    "    if series == 1:\n",
    "        return 0\n",
    "    elif series == 2:\n",
    "        return 1\n",
    "    \n",
    "teds_sm1.loc[:, 'gender'] = teds_sm1.GENDER.apply(gen_rc)"
   ]
  },
  {
   "cell_type": "code",
   "execution_count": 13,
   "metadata": {},
   "outputs": [],
   "source": [
    "# Recode methadone variable\n",
    "def methadone_rc(series):\n",
    "    if series == 1:\n",
    "        return 1\n",
    "    elif series == 2:\n",
    "        return 0\n",
    "    \n",
    "teds_sm1.loc[:, 'methadone_use'] = teds_sm1.METHUSE.apply(methadone_rc)"
   ]
  },
  {
   "cell_type": "code",
   "execution_count": 14,
   "metadata": {},
   "outputs": [],
   "source": [
    "def educ_rc(series):\n",
    "    if series == 1:\n",
    "        return 'No_Schooling'\n",
    "    elif series == 2:\n",
    "        return 'Grades_9_to_11'\n",
    "    elif series == 3:\n",
    "        return 'Grades_12_or_GED'\n",
    "    elif series == 4:\n",
    "        return 'College_1_to_3_years'\n",
    "    elif series == 5:\n",
    "        return 'College_4_or_more_years'\n",
    "\n",
    "teds_sm1.loc[:, 'educ'] = teds_sm1.EDUC.apply(educ_rc)\n",
    "\n",
    "# Change variable to an ordered factor\n",
    "teds_sm1.loc[:, 'educ'] = pd.Categorical(teds_sm1['educ'], categories = ['No_Schooling', 'Grades_9_to_11', 'Grades_12_or_GED',\n",
    "                                                                         'College_1_to_3_years', 'College_4_or_more_years'], ordered = True)\n",
    "\n",
    "# Change variable to an ordered factor with values as numbers\n",
    "labels, unique = pd.factorize(teds_sm1.loc[:, 'educ'], sort = True)\n",
    "teds_sm1.loc[:, 'educ'] = labels"
   ]
  },
  {
   "cell_type": "code",
   "execution_count": 15,
   "metadata": {},
   "outputs": [],
   "source": [
    "# Record race variable\n",
    "def race_rc(series):\n",
    "    if series == 1:\n",
    "        return 'Alaska_Native'\n",
    "    elif series == 2:\n",
    "        return 'American_Indian'\n",
    "    elif series == 3 or series == 9:\n",
    "        return 'Hawaiian_Pacific_Islander'\n",
    "    elif series == 4:\n",
    "        return 'Black'\n",
    "    elif series == 5:\n",
    "        return 'White'\n",
    "    elif series == 6:\n",
    "        return 'Asian'\n",
    "    elif series == 7:\n",
    "        return 'Other_race'\n",
    "    elif series == 8:\n",
    "        return 'Two_or_more_races'\n",
    "    \n",
    "teds_sm1.loc[:, 'race'] = teds_sm1.RACE.apply(race_rc)"
   ]
  },
  {
   "cell_type": "code",
   "execution_count": 16,
   "metadata": {},
   "outputs": [],
   "source": [
    "# Recode ethnicity variable\n",
    "def ethnic_rc(series):\n",
    "    if (series >= 1 or series <= 3) or series == 5:\n",
    "        return 1\n",
    "    elif series == 4:\n",
    "        return 0\n",
    "    \n",
    "teds_sm1.loc[:, 'ethnic'] = teds_sm1.ETHNIC.apply(ethnic_rc)"
   ]
  },
  {
   "cell_type": "code",
   "execution_count": 17,
   "metadata": {},
   "outputs": [],
   "source": [
    "# Recode service setting variable\n",
    "def servseta_rc(series):\n",
    "    if series == 1 or series == 2:\n",
    "        return 'Detox'\n",
    "    elif series >= 3 and series <= 5:\n",
    "        return 'Rehab_Residential'\n",
    "    elif series >= 6 and series <= 8:\n",
    "        return 'Ambulatory'\n",
    "\n",
    "teds_sm1.loc[:, 'services'] = teds_sm1.SERVICES.apply(servseta_rc)"
   ]
  },
  {
   "cell_type": "code",
   "execution_count": 18,
   "metadata": {},
   "outputs": [],
   "source": [
    "# Recode marital status variable\n",
    "def marstat_rc(series):\n",
    "    if series == 1:\n",
    "        return 'Never_Married'\n",
    "    elif series == 2:\n",
    "        return 'Married'\n",
    "    elif series == 3:\n",
    "        return 'Separated'\n",
    "    elif series == 4:\n",
    "        return 'Divorced_or_Widowed'\n",
    "\n",
    "teds_sm1.loc[:, 'marstat'] = teds_sm1.MARSTAT.apply(marstat_rc)"
   ]
  },
  {
   "cell_type": "code",
   "execution_count": 19,
   "metadata": {},
   "outputs": [],
   "source": [
    "# Recode employment status variable\n",
    "def employ_rc(series):\n",
    "    if series == 1:\n",
    "        return 'Full_time'\n",
    "    elif series == 2:\n",
    "        return 'Part_time'\n",
    "    elif series == 3:\n",
    "        return 'Unemployed'\n",
    "    elif series == 4:\n",
    "        return 'Not_in_labor_force'\n",
    "    \n",
    "teds_sm1.loc[:, 'employ'] = teds_sm1.EMPLOY.apply(employ_rc)"
   ]
  },
  {
   "cell_type": "code",
   "execution_count": 20,
   "metadata": {},
   "outputs": [],
   "source": [
    "# Recode veteran variable\n",
    "def vet_rc(series):\n",
    "    if series == 1:\n",
    "        return 1\n",
    "    elif series == 2:\n",
    "        return 0\n",
    "    \n",
    "teds_sm1.loc[:, 'vet'] = teds_sm1.VET.apply(vet_rc)"
   ]
  },
  {
   "cell_type": "code",
   "execution_count": 21,
   "metadata": {},
   "outputs": [],
   "source": [
    "# Recode living arrangement variable\n",
    "def livarag_rc(series):\n",
    "    if series == 1:\n",
    "        return 'Homeless'\n",
    "    elif series == 2:\n",
    "        return 'Dependent_Living'\n",
    "    elif series == 3:\n",
    "        return 'Independent_Living'\n",
    "\n",
    "teds_sm1.loc[:, 'livarag'] = teds_sm1.LIVARAG.apply(livarag_rc)"
   ]
  },
  {
   "cell_type": "code",
   "execution_count": 22,
   "metadata": {},
   "outputs": [],
   "source": [
    "# Recode arrests variable\n",
    "def arrests_rc(series):\n",
    "    if series == 0:\n",
    "        return 'None'\n",
    "    elif series == 1:\n",
    "        return 'Once'\n",
    "    elif series == 2:\n",
    "        return 'Two_or_more_times'\n",
    "    \n",
    "teds_sm1.loc[:, 'arrests'] = teds_sm1.ARRESTS.apply(arrests_rc)\n",
    "\n",
    "# Change variable to an ordered factor variable\n",
    "teds_sm1.loc[:, 'arrests'] = pd.Categorical(teds_sm1['arrests'], categories = ['None', 'Once',\n",
    "                                                                              '2 or more times'],\n",
    "                                           ordered = True)\n",
    "\n",
    "# Change variable to an ordered factor with values as numbers\n",
    "labels, unique = pd.factorize(teds_sm1.loc[:, 'arrests'], sort = True)\n",
    "teds_sm1.loc[:, 'arrests'] = labels"
   ]
  },
  {
   "cell_type": "code",
   "execution_count": 23,
   "metadata": {},
   "outputs": [],
   "source": [
    "# Recode division variable\n",
    "def division_rc(series):\n",
    "    if series == 0:\n",
    "        return 'US_Territories'\n",
    "    elif series == 1:\n",
    "        return 'New_England'\n",
    "    elif series == 2:\n",
    "        return 'Mid_Atlantic'\n",
    "    elif series == 3:\n",
    "        return 'East_North_Central'\n",
    "    elif series == 4:\n",
    "        return 'West_North_Central'\n",
    "    elif series == 5:\n",
    "        return 'South_Atlantic'\n",
    "    elif series == 6:\n",
    "        return 'East_South_Central'\n",
    "    elif series == 7:\n",
    "        return 'West_South_Central'\n",
    "    elif series == 8:\n",
    "        return 'Mountain'\n",
    "    elif series == 9:\n",
    "        return 'Pacific'\n",
    "    \n",
    "teds_sm1.loc[:, 'division'] = teds_sm1.DIVISION.apply(division_rc)"
   ]
  },
  {
   "cell_type": "code",
   "execution_count": 24,
   "metadata": {},
   "outputs": [],
   "source": [
    "# Recode referral source variable\n",
    "def psource_rc(series):\n",
    "    if series == 1:\n",
    "        return 'Self_referral'\n",
    "    elif series == 2:\n",
    "        return 'Alcohol_Drug_Care_Professional'\n",
    "    elif series == 3:\n",
    "        return 'Other_Health_Care_Professional'\n",
    "    elif series == 4:\n",
    "        return 'School_Referral'\n",
    "    elif series == 5:\n",
    "        return 'Employer_Referral'\n",
    "    elif series == 6:\n",
    "        return 'Community_Referral'\n",
    "    elif series == 7:\n",
    "        return 'Court_Referral'\n",
    "    \n",
    "teds_sm1.loc[:, 'psource'] = teds_sm1.PSOURCE.apply(psource_rc)"
   ]
  },
  {
   "cell_type": "code",
   "execution_count": 25,
   "metadata": {},
   "outputs": [],
   "source": [
    "# Recode number of prior treatment encounters\n",
    "def noprior_rc(series):\n",
    "    if series == 0:\n",
    "        return 0\n",
    "    elif series >= 1:\n",
    "        return 1\n",
    "    \n",
    "teds_sm1.loc[:, 'noprior'] = teds_sm1.NOPRIOR.apply(noprior_rc)"
   ]
  },
  {
   "cell_type": "code",
   "execution_count": 26,
   "metadata": {},
   "outputs": [],
   "source": [
    "# Recode mental illness variable\n",
    "def psyprob_rc(series):\n",
    "    if series == 1:\n",
    "        return 1\n",
    "    elif series == 2:\n",
    "        return 0\n",
    "    \n",
    "teds_sm1.loc[:, 'psyprob'] = teds_sm1.PSYPROB.apply(psyprob_rc)"
   ]
  },
  {
   "cell_type": "code",
   "execution_count": 27,
   "metadata": {},
   "outputs": [],
   "source": [
    "# Recode number of substances variable\n",
    "def numsubs_rc(series):\n",
    "    if series == 0:\n",
    "        return 'Zero_substances'\n",
    "    elif series == 1:\n",
    "        return 'One_substance'\n",
    "    elif series == 2:\n",
    "        return 'Two_substances'\n",
    "    elif series == 3:\n",
    "        return 'Three_substances'\n",
    "    \n",
    "teds_sm1.loc[:, 'numsubs'] = teds_sm1.NUMSUBS.apply(numsubs_rc)\n",
    "\n",
    "# Change first use into an ordered factor\n",
    "teds_sm1.loc[:, 'numsubs'] = pd.Categorical(teds_sm1['numsubs'], categories = ['Zero substances', 'One substance',\n",
    "                                                                               'Two substances', \"Three substances\"], ordered = True)\n",
    "\n",
    "# Convert year to factor with numeric value\n",
    "labels, unique = pd.factorize(teds_sm1.loc[:, 'numsubs'], sort = True)\n",
    "teds_sm1.loc[:, 'numsubs'] = labels"
   ]
  },
  {
   "cell_type": "code",
   "execution_count": 28,
   "metadata": {},
   "outputs": [],
   "source": [
    "def first_age_recode(column1, column2, column3):\n",
    "    if column1 == 1 or column2 == 1 or column3 == 1:\n",
    "        return '11_years_and_under'\n",
    "    elif column1 == 2 or column2 == 2 or column3 == 2:\n",
    "        return '12_14_years'\n",
    "    elif column1 == 3 or column2 == 3 or column3 == 3:\n",
    "        return '15_17_years'\n",
    "    elif column1 == 4 or column2 == 4 or column3 == 4:\n",
    "        return '18_20_years'\n",
    "    elif column1 == 5 or column2 == 5 or column3 == 5:\n",
    "        return '21_24_years'\n",
    "    elif column1 == 6 or column2 == 6 or column3 == 6:\n",
    "        return '25_29_years'\n",
    "    elif column1 == 7 or column2 == 7 or column3 == 7:\n",
    "        return '30_years_older'\n",
    "\n",
    "teds_sm1.loc[:, 'frstuse'] = teds_sm1.apply(lambda x: first_age_recode(x.FRSTUSE1, x.FRSTUSE2, x.FRSTUSE3), axis=1)\n",
    "\n",
    "# Change first use into an ordered factor\n",
    "teds_sm1.loc[:, 'frstuse'] = pd.Categorical(teds_sm1['frstuse'], categories = ['11_years_and_under', '12_14_years', '15_17_years',\n",
    "                                                                               '18_20_years', '21_24_years',\n",
    "                                                                               '25_29_years', '30_years_older'], ordered = True)\n",
    "# Convert year to factor with numeric value\n",
    "labels, unique = pd.factorize(teds_sm1.loc[:, 'frstuse'], sort = True)\n",
    "teds_sm1.loc[:, 'frstuse'] = labels"
   ]
  },
  {
   "cell_type": "code",
   "execution_count": 29,
   "metadata": {},
   "outputs": [],
   "source": [
    "def freq_recode(column1, column2, column3):\n",
    "    if (column1 == 1 and column2 == 1 and column3 == 1):\n",
    "        return 'No_Use_Past_Month'\n",
    "    elif (column1 == 3 or column2 == 3 or column3 == 3):\n",
    "        return 'Daily_Use'\n",
    "    elif (column1 == 2 or column2 == 2 or column3 == 2):\n",
    "        return 'Some_Use'\n",
    "    elif (column1 == 1 or column2 == 1 or column3 == 1):\n",
    "        return 'No_Use_Past_Month'\n",
    "\n",
    "teds_sm1.loc[:, 'freq_use'] = teds_sm1.apply(lambda x: freq_recode(x.FREQ1, x.FREQ2, x.FREQ3), axis=1)\n",
    "\n",
    "# Change first use into an ordered factor\n",
    "teds_sm1.loc[:, 'freq_use'] = pd.Categorical(teds_sm1['freq_use'], categories = ['No_Use_Past_Month', 'Daily_Use', 'Some_Use'], ordered = True)\n",
    "# Convert year to factor with numeric value\n",
    "labels, unique = pd.factorize(teds_sm1.loc[:, 'freq_use'], sort = True)\n",
    "teds_sm1.loc[:, 'freq_use'] = labels"
   ]
  },
  {
   "cell_type": "code",
   "execution_count": 30,
   "metadata": {},
   "outputs": [],
   "source": [
    "def oral_recode(column1, column2, column3):\n",
    "    if (column1 == 1 and column1 != None) or (column2 == 1 and column2 != None) or (column3 == 1 and column3 != None):\n",
    "        return 1\n",
    "    elif (column1 > 1 and column1 != None) or (column2 > 1 and column2 != None) or (column3 > 1 and column3 != None):\n",
    "        return 0\n",
    "\n",
    "teds_sm1.loc[:, 'oral_drug_use'] = teds_sm1.apply(lambda x: oral_recode(x.ROUTE1, x.ROUTE2, x.ROUTE3), axis=1)\n",
    "\n",
    "def smoking_recode(column1, column2, column3):\n",
    "    if (column1 == 2 and column1 != None) or (column2 == 2 and column2 != None) or (column3 == 2 and column3 != None):\n",
    "        return 1\n",
    "    elif (column1 > 0 and column1 != None) or (column2 > 0 and column2 != None) or (column3 > 0 and column3 != None):\n",
    "        return 0\n",
    "\n",
    "teds_sm1.loc[:, 'smoking_drug_use'] = teds_sm1.apply(lambda x: smoking_recode(x.ROUTE1, x.ROUTE2, x.ROUTE3), axis=1)\n",
    "\n",
    "def inhalation_recode(column1, column2, column3):\n",
    "    if (column1 == 3 and column1 != None) or (column2 == 3 and column2 != None) or (column3 == 3 and column3 != None):\n",
    "        return 1\n",
    "    elif (column1 > 0 and column1 != None) or (column2 > 0 and column2 != None) or (column3 > 0 and column3 != None):\n",
    "        return 0\n",
    "    \n",
    "teds_sm1.loc[:, 'inhale_drug_use'] = teds_sm1.apply(lambda x: inhalation_recode(x.ROUTE1, x.ROUTE2, x.ROUTE3), axis=1)\n",
    "    \n",
    "def injection_recode(column1, column2, column3):\n",
    "    if (column1 == 4 and column1 != None) or (column2 == 4 and column2 != None) or (column3 == 4 and column3 != None):\n",
    "        return 1\n",
    "    elif (column1 > 0 and column1 != None) or (column2 > 0 and column2 != None) or (column3 > 0 and column3 != None):\n",
    "        return 0\n",
    "    \n",
    "teds_sm1.loc[:, 'injection_drug_use'] = teds_sm1.apply(lambda x: injection_recode(x.ROUTE1, x.ROUTE2, x.ROUTE3), axis=1)"
   ]
  },
  {
   "cell_type": "code",
   "execution_count": 31,
   "metadata": {},
   "outputs": [],
   "source": [
    "# Subset to fewer variables, mostly dropping those with many missing values\n",
    "teds_clean = teds_sm1.drop(['ADMYR', 'CASEID', 'STFIPS', 'CBSA2010', 'EDUC', 'MARSTAT', 'SERVICES',\n",
    "                            'DETCRIM', 'NOPRIOR', 'PSOURCE', 'ARRESTS', 'EMPLOY', 'METHUSE',\n",
    "                            'PSYPROB', 'PREG', 'GENDER', 'VET', 'LIVARAG', 'DAYWAIT', 'DSMCRIT',\n",
    "                            'AGE', 'RACE', 'ETHNIC', 'DETNLF', 'PRIMINC', 'SUB1', 'SUB2', 'SUB3',\n",
    "                            'ROUTE1', 'ROUTE2', 'ROUTE3', 'FREQ1', 'FREQ2', 'FREQ3', 'FRSTUSE1',\n",
    "                            'FRSTUSE2', 'FRSTUSE3', 'HLTHINS', 'PRIMPAY', 'FREQ_ATND_SELF_HELP', \n",
    "                            'IDU','REGION'], axis = 1)"
   ]
  },
  {
   "cell_type": "code",
   "execution_count": 32,
   "metadata": {},
   "outputs": [
    {
     "data": {
      "text/plain": [
       "Index(['ALCFLG', 'COKEFLG', 'MARFLG', 'HERFLG', 'METHFLG', 'OPSYNFLG',\n",
       "       'PCPFLG', 'HALLFLG', 'MTHAMFLG', 'AMPHFLG', 'STIMFLG', 'BENZFLG',\n",
       "       'TRNQFLG', 'BARBFLG', 'SEDHPFLG', 'INHFLG', 'OTCFLG', 'OTHERFLG',\n",
       "       'DIVISION', 'ALCDRUG', 'NUMSUBS', 'age_group', 'gender',\n",
       "       'methadone_use', 'educ', 'race', 'ethnic', 'services', 'marstat',\n",
       "       'employ', 'vet', 'livarag', 'arrests', 'division', 'psource', 'noprior',\n",
       "       'psyprob', 'numsubs', 'frstuse', 'freq_use', 'oral_drug_use',\n",
       "       'smoking_drug_use', 'inhale_drug_use', 'injection_drug_use'],\n",
       "      dtype='object')"
      ]
     },
     "execution_count": 32,
     "metadata": {},
     "output_type": "execute_result"
    }
   ],
   "source": [
    "teds_clean.columns"
   ]
  },
  {
   "cell_type": "code",
   "execution_count": 33,
   "metadata": {},
   "outputs": [],
   "source": [
    "# Create dummy variables for unordered categorical variables\n",
    "teds2018 = pd.get_dummies(teds_clean, columns=['race','psource','division','ethnic','services','marstat','employ',\n",
    "                                                 'livarag'])"
   ]
  },
  {
   "cell_type": "code",
   "execution_count": 34,
   "metadata": {},
   "outputs": [],
   "source": [
    "# Subset data for easy analysis\n",
    "teds2018 = teds2018.sample(n = 200000, random_state=16)"
   ]
  },
  {
   "cell_type": "code",
   "execution_count": 19,
   "metadata": {},
   "outputs": [],
   "source": [
    "#teds2018.to_csv(\"teds_data_small.csv\",index=False)\n",
    "teds2018 = pd.read_csv(\"teds_data_small.csv\")"
   ]
  },
  {
   "cell_type": "code",
   "execution_count": 20,
   "metadata": {},
   "outputs": [],
   "source": [
    "# Drop response variable and year since only 2017 will be used in final modeling\n",
    "data = teds2018.drop(columns = ['noprior'])\n",
    "# Create data frame with just the response variable\n",
    "response = teds2018.loc[:,['noprior']]"
   ]
  },
  {
   "cell_type": "code",
   "execution_count": 21,
   "metadata": {},
   "outputs": [],
   "source": [
    "# Impute missing data witn mode\n",
    "my_imputer = SimpleImputer(strategy = 'most_frequent')\n",
    "data_imputed = pd.DataFrame(my_imputer.fit_transform(data))\n",
    "data_imputed.columns = data.columns\n",
    "columns = data_imputed.columns"
   ]
  },
  {
   "cell_type": "code",
   "execution_count": 31,
   "metadata": {},
   "outputs": [],
   "source": [
    "# Change response and predictor data frames to numpy arrays\n",
    "data_imp_np = np.array(data_imputed)\n",
    "response_np = np.array(response)"
   ]
  },
  {
   "cell_type": "code",
   "execution_count": 32,
   "metadata": {},
   "outputs": [],
   "source": [
    "# Create holdout data set and keep remaining 80% in one data frame\n",
    "# Used stratefied random sampling because there was class imbalance\n",
    "sss = StratifiedShuffleSplit(n_splits = 2, test_size=0.2, random_state=0)\n",
    "\n",
    "sss.get_n_splits(data_imp_np, response_np)\n",
    "\n",
    "for train_index, test_index in sss.split(data_imp_np, response_np):\n",
    "    x_train_temp, x_test = data_imp_np[train_index], data_imp_np[test_index]\n",
    "    y_train_temp, y_test = response_np[train_index], response_np[test_index]\n",
    "\n",
    "# Split the remaining data into a training and validation data set (50% and 30% respectively)\n",
    "sss_valid = StratifiedShuffleSplit(n_splits = 2, test_size = 0.3, random_state = 10)  \n",
    "    \n",
    "for train_index, test_index in sss_valid.split(x_train_temp, y_train_temp):\n",
    "    x_train, x_validation = x_train_temp[train_index], x_train_temp[test_index]\n",
    "    y_train, y_validation = y_train_temp[train_index], y_train_temp[test_index]\n",
    "\n",
    "    \n",
    "# Removing unimportant features (will cover feature selection in future classes)\n",
    "x_train_sm = x_train[:, [7, 0, 3, 45, 2, 49, 43, 26, 48, 8, 56, 41, 39, 40, 25, 37, 1, 44, 11, 4, 42, 58, 33, 30, 57, 27, 47, 28]]\n",
    "x_validation_sm = x_validation[:, [7, 0, 3, 45, 2, 49, 43, 26, 48, 8, 56, 41, 39, 40, 25, 37, 1, 44, 11, 4, 42, 58, 33, 30, 57, 27, 47, 28]]\n",
    "x_test_sm = x_test[:, [7, 0, 3, 45, 2, 49, 43, 26, 48, 8, 56, 41, 39, 40, 25, 37, 1, 44, 11, 4, 42, 58, 33, 30, 57, 27, 47, 28]]\n",
    "features_sm = data_imputed.iloc[:, [7, 0, 3, 45, 2, 49, 43, 26, 48, 8, 56, 41, 39, 40, 25, 37, 1, 44, 11, 4, 42, 58, 33, 30, 57, 27, 47, 28]]\n",
    "\n",
    "full_data = data_imputed.iloc[:, [7, 0, 3, 45, 2, 49, 43, 26, 48, 8, 56, 41, 39, 40, 25, 37, 1, 44, 11, 4, 42, 58, 33, 30, 57, 27, 47, 28]]\n",
    "    \n",
    "x_train = np.array(x_train)\n",
    "y_train = np.array(y_train)\n",
    "x_validation = np.array(x_validation)\n",
    "y_validation = np.array(y_validation)\n",
    "x_test = np.array(x_test)\n",
    "y_test = np.array(y_test)\n",
    "full_data = np.array(full_data)"
   ]
  },
  {
   "cell_type": "code",
   "execution_count": 33,
   "metadata": {
    "scrolled": true
   },
   "outputs": [
    {
     "name": "stderr",
     "output_type": "stream",
     "text": [
      "/opt/anaconda3/lib/python3.7/site-packages/sklearn/model_selection/_validation.py:516: DataConversionWarning: A column-vector y was passed when a 1d array was expected. Please change the shape of y to (n_samples, ), for example using ravel().\n",
      "  estimator.fit(X_train, y_train, **fit_params)\n",
      "/opt/anaconda3/lib/python3.7/site-packages/sklearn/model_selection/_validation.py:516: DataConversionWarning: A column-vector y was passed when a 1d array was expected. Please change the shape of y to (n_samples, ), for example using ravel().\n",
      "  estimator.fit(X_train, y_train, **fit_params)\n",
      "/opt/anaconda3/lib/python3.7/site-packages/sklearn/model_selection/_validation.py:516: DataConversionWarning: A column-vector y was passed when a 1d array was expected. Please change the shape of y to (n_samples, ), for example using ravel().\n",
      "  estimator.fit(X_train, y_train, **fit_params)\n",
      "/opt/anaconda3/lib/python3.7/site-packages/sklearn/model_selection/_validation.py:516: DataConversionWarning: A column-vector y was passed when a 1d array was expected. Please change the shape of y to (n_samples, ), for example using ravel().\n",
      "  estimator.fit(X_train, y_train, **fit_params)\n",
      "/opt/anaconda3/lib/python3.7/site-packages/sklearn/model_selection/_validation.py:516: DataConversionWarning: A column-vector y was passed when a 1d array was expected. Please change the shape of y to (n_samples, ), for example using ravel().\n",
      "  estimator.fit(X_train, y_train, **fit_params)\n"
     ]
    },
    {
     "data": {
      "text/plain": [
       "0.622064952280853"
      ]
     },
     "execution_count": 33,
     "metadata": {},
     "output_type": "execute_result"
    }
   ],
   "source": [
    "# Example of how you use k-fold cross validation (by default for classification models it used stratified k-fold cross validation)\n",
    "knn_kfold_cv = KNeighborsClassifier(n_neighbors = 3, p = 2, n_jobs = 7)\n",
    "accuracy_scores = cross_val_score(knn_kfold_cv, full_data, response_np, cv=5, scoring='accuracy')\n",
    "accuracy_scores.mean()"
   ]
  },
  {
   "cell_type": "code",
   "execution_count": 34,
   "metadata": {},
   "outputs": [],
   "source": [
    "# Create user-defined function to create formatted confusion matrix\n",
    "def plot_confusion_matrix(cm, classes,\n",
    "                          normalize=True,\n",
    "                          title='Confusion matrix',\n",
    "                          cmap=plt.cm.Blues):\n",
    "    \"\"\"\n",
    "    This function prints and plots the confusion matrix.\n",
    "    Normalization can be applied by setting `normalize=True`.\n",
    "    \"\"\"\n",
    "    if normalize:\n",
    "        cm = cm.astype('float') / cm.sum(axis=1)[:, np.newaxis]\n",
    "        print(\"\\nNormalized confusion matrix\")\n",
    "    else:\n",
    "        print('\\nConfusion matrix, without normalization')\n",
    "\n",
    "    print ()\n",
    "\n",
    "    plt.imshow(cm, interpolation='nearest', cmap=cmap)\n",
    "    plt.title(title, fontsize = 15)\n",
    "    plt.colorbar()\n",
    "    tick_marks = np.arange(len(classes))\n",
    "    plt.xticks(tick_marks, classes, rotation=20, fontsize = 14)\n",
    "    plt.yticks(tick_marks, classes, fontsize = 14)\n",
    "\n",
    "    plt.tight_layout()\n",
    "    plt.ylabel('True label', fontsize = 14)\n",
    "    plt.xlabel('Predicted label', fontsize = 14)\n"
   ]
  },
  {
   "cell_type": "code",
   "execution_count": 36,
   "metadata": {},
   "outputs": [
    {
     "name": "stdout",
     "output_type": "stream",
     "text": [
      "0\n",
      "1\n",
      "2\n",
      "3\n"
     ]
    }
   ],
   "source": [
    "# K-Nearest Neighbors, grid search varying k with Euclidean distance\n",
    "k = [5, 8, 12, 15]\n",
    "\n",
    "knn_euclidean = pd.DataFrame([])\n",
    "\n",
    "for i in range(0,4):\n",
    "    \n",
    "    print(i)\n",
    "    \n",
    "    k_value = k[i]\n",
    "\n",
    "    knn_model = KNeighborsClassifier(n_neighbors = k_value, p = 2, n_jobs = 7)\n",
    "\n",
    "    knn_model.fit(x_train_sm, np.ravel(y_train, order='C'))\n",
    "\n",
    "    pkl_filename = \"pickle_model_knn_k\"+str(k_value)+\".pkl\"\n",
    "    with open(pkl_filename, 'wb') as file:\n",
    "        pickle.dump(knn_model, file)\n",
    "    \n",
    "    valid_predict_knn = knn_model.predict(x_validation_sm)\n",
    "\n",
    "    class_report = pd.DataFrame(classification_report(y_validation, valid_predict_knn, \n",
    "                                                      output_dict = True)).iloc[:, 0:2]\n",
    "\n",
    "    class_report = class_report.T\n",
    "\n",
    "    class_report.loc[:, 'accuracy'] = pd.DataFrame(classification_report(y_validation, valid_predict_knn, \n",
    "                                                                         output_dict = True)).iloc[1, 2]\n",
    "    class_report.loc[:, 'k'] = k_value\n",
    "    class_report.loc[:, 'distance_metric'] = 'Euclidean'\n",
    "    class_report.loc[:, 'model'] = 'K-Nearest Neighbors'\n",
    "    class_report.loc[:, 'model_value'] = ['First Treatment Episode', '2+ Treatment Episodes']\n",
    "\n",
    "    knn_euclidean = pd.concat([knn_euclidean, class_report], axis = 0)\n",
    "\n",
    "# Results: Accuracy dropped from mid to high 60s with lower F1-scores"
   ]
  },
  {
   "cell_type": "code",
   "execution_count": 37,
   "metadata": {},
   "outputs": [
    {
     "data": {
      "text/html": [
       "<div>\n",
       "<style scoped>\n",
       "    .dataframe tbody tr th:only-of-type {\n",
       "        vertical-align: middle;\n",
       "    }\n",
       "\n",
       "    .dataframe tbody tr th {\n",
       "        vertical-align: top;\n",
       "    }\n",
       "\n",
       "    .dataframe thead th {\n",
       "        text-align: right;\n",
       "    }\n",
       "</style>\n",
       "<table border=\"1\" class=\"dataframe\">\n",
       "  <thead>\n",
       "    <tr style=\"text-align: right;\">\n",
       "      <th></th>\n",
       "      <th>precision</th>\n",
       "      <th>recall</th>\n",
       "      <th>f1-score</th>\n",
       "      <th>support</th>\n",
       "      <th>accuracy</th>\n",
       "      <th>k</th>\n",
       "      <th>distance_metric</th>\n",
       "      <th>model</th>\n",
       "      <th>model_value</th>\n",
       "    </tr>\n",
       "  </thead>\n",
       "  <tbody>\n",
       "    <tr>\n",
       "      <td>0</td>\n",
       "      <td>0.545904</td>\n",
       "      <td>0.481483</td>\n",
       "      <td>0.511674</td>\n",
       "      <td>19253.0</td>\n",
       "      <td>0.631375</td>\n",
       "      <td>5</td>\n",
       "      <td>Euclidean</td>\n",
       "      <td>K-Nearest Neighbors</td>\n",
       "      <td>First Treatment Episode</td>\n",
       "    </tr>\n",
       "    <tr>\n",
       "      <td>1</td>\n",
       "      <td>0.678165</td>\n",
       "      <td>0.731763</td>\n",
       "      <td>0.703945</td>\n",
       "      <td>28747.0</td>\n",
       "      <td>0.631375</td>\n",
       "      <td>5</td>\n",
       "      <td>Euclidean</td>\n",
       "      <td>K-Nearest Neighbors</td>\n",
       "      <td>2+ Treatment Episodes</td>\n",
       "    </tr>\n",
       "    <tr>\n",
       "      <td>0</td>\n",
       "      <td>0.543579</td>\n",
       "      <td>0.572067</td>\n",
       "      <td>0.557459</td>\n",
       "      <td>19253.0</td>\n",
       "      <td>0.635687</td>\n",
       "      <td>8</td>\n",
       "      <td>Euclidean</td>\n",
       "      <td>K-Nearest Neighbors</td>\n",
       "      <td>First Treatment Episode</td>\n",
       "    </tr>\n",
       "    <tr>\n",
       "      <td>1</td>\n",
       "      <td>0.702971</td>\n",
       "      <td>0.678297</td>\n",
       "      <td>0.690413</td>\n",
       "      <td>28747.0</td>\n",
       "      <td>0.635687</td>\n",
       "      <td>8</td>\n",
       "      <td>Euclidean</td>\n",
       "      <td>K-Nearest Neighbors</td>\n",
       "      <td>2+ Treatment Episodes</td>\n",
       "    </tr>\n",
       "    <tr>\n",
       "      <td>0</td>\n",
       "      <td>0.557777</td>\n",
       "      <td>0.565107</td>\n",
       "      <td>0.561418</td>\n",
       "      <td>19253.0</td>\n",
       "      <td>0.645854</td>\n",
       "      <td>12</td>\n",
       "      <td>Euclidean</td>\n",
       "      <td>K-Nearest Neighbors</td>\n",
       "      <td>First Treatment Episode</td>\n",
       "    </tr>\n",
       "    <tr>\n",
       "      <td>1</td>\n",
       "      <td>0.706149</td>\n",
       "      <td>0.699934</td>\n",
       "      <td>0.703028</td>\n",
       "      <td>28747.0</td>\n",
       "      <td>0.645854</td>\n",
       "      <td>12</td>\n",
       "      <td>Euclidean</td>\n",
       "      <td>K-Nearest Neighbors</td>\n",
       "      <td>2+ Treatment Episodes</td>\n",
       "    </tr>\n",
       "    <tr>\n",
       "      <td>0</td>\n",
       "      <td>0.581983</td>\n",
       "      <td>0.488911</td>\n",
       "      <td>0.531403</td>\n",
       "      <td>19253.0</td>\n",
       "      <td>0.654146</td>\n",
       "      <td>15</td>\n",
       "      <td>Euclidean</td>\n",
       "      <td>K-Nearest Neighbors</td>\n",
       "      <td>First Treatment Episode</td>\n",
       "    </tr>\n",
       "    <tr>\n",
       "      <td>1</td>\n",
       "      <td>0.690819</td>\n",
       "      <td>0.764810</td>\n",
       "      <td>0.725934</td>\n",
       "      <td>28747.0</td>\n",
       "      <td>0.654146</td>\n",
       "      <td>15</td>\n",
       "      <td>Euclidean</td>\n",
       "      <td>K-Nearest Neighbors</td>\n",
       "      <td>2+ Treatment Episodes</td>\n",
       "    </tr>\n",
       "  </tbody>\n",
       "</table>\n",
       "</div>"
      ],
      "text/plain": [
       "   precision    recall  f1-score  support  accuracy   k distance_metric  \\\n",
       "0   0.545904  0.481483  0.511674  19253.0  0.631375   5       Euclidean   \n",
       "1   0.678165  0.731763  0.703945  28747.0  0.631375   5       Euclidean   \n",
       "0   0.543579  0.572067  0.557459  19253.0  0.635687   8       Euclidean   \n",
       "1   0.702971  0.678297  0.690413  28747.0  0.635687   8       Euclidean   \n",
       "0   0.557777  0.565107  0.561418  19253.0  0.645854  12       Euclidean   \n",
       "1   0.706149  0.699934  0.703028  28747.0  0.645854  12       Euclidean   \n",
       "0   0.581983  0.488911  0.531403  19253.0  0.654146  15       Euclidean   \n",
       "1   0.690819  0.764810  0.725934  28747.0  0.654146  15       Euclidean   \n",
       "\n",
       "                 model              model_value  \n",
       "0  K-Nearest Neighbors  First Treatment Episode  \n",
       "1  K-Nearest Neighbors    2+ Treatment Episodes  \n",
       "0  K-Nearest Neighbors  First Treatment Episode  \n",
       "1  K-Nearest Neighbors    2+ Treatment Episodes  \n",
       "0  K-Nearest Neighbors  First Treatment Episode  \n",
       "1  K-Nearest Neighbors    2+ Treatment Episodes  \n",
       "0  K-Nearest Neighbors  First Treatment Episode  \n",
       "1  K-Nearest Neighbors    2+ Treatment Episodes  "
      ]
     },
     "execution_count": 37,
     "metadata": {},
     "output_type": "execute_result"
    }
   ],
   "source": [
    "knn_euclidean"
   ]
  },
  {
   "cell_type": "code",
   "execution_count": 38,
   "metadata": {},
   "outputs": [
    {
     "name": "stdout",
     "output_type": "stream",
     "text": [
      "0\n",
      "1\n",
      "2\n",
      "3\n"
     ]
    }
   ],
   "source": [
    "# K-Nearest Neighbors, grid search varying k for Minkowski distance\n",
    "k = [5, 8, 12, 15]\n",
    "\n",
    "knn_minkowski = pd.DataFrame([])\n",
    "\n",
    "for i in range(0,4):\n",
    "    \n",
    "    print(i)\n",
    "    \n",
    "    k_value = k[i]\n",
    "\n",
    "    knn_model = KNeighborsClassifier(n_neighbors = k_value, n_jobs = 7)\n",
    "\n",
    "    knn_model.fit(x_train_sm, np.ravel(y_train, order='C'))\n",
    "\n",
    "    valid_predict_knn = knn_model.predict(x_validation_sm)\n",
    "\n",
    "    class_report = pd.DataFrame(classification_report(y_validation, valid_predict_knn, \n",
    "                                                      output_dict = True)).iloc[:, 0:2]\n",
    "\n",
    "    class_report = class_report.T\n",
    "\n",
    "    class_report.loc[:, 'accuracy'] = pd.DataFrame(classification_report(y_validation, valid_predict_knn, \n",
    "                                                                         output_dict = True)).iloc[1, 2]\n",
    "    class_report.loc[:, 'k'] = k_value\n",
    "    class_report.loc[:, 'distance_metric'] = 'Minkowski'\n",
    "    class_report.loc[:, 'model'] = 'K-Nearest Neighbors'\n",
    "    class_report.loc[:, 'model_value'] = ['First Treatment Episode', '2+ Treatment Episodes']\n",
    "\n",
    "    knn_minkowski = pd.concat([knn_minkowski, class_report], axis = 0)\n",
    "\n",
    "# Results: Accuracy looked virtually identical to Euclidean distance"
   ]
  },
  {
   "cell_type": "code",
   "execution_count": 39,
   "metadata": {},
   "outputs": [
    {
     "data": {
      "text/html": [
       "<div>\n",
       "<style scoped>\n",
       "    .dataframe tbody tr th:only-of-type {\n",
       "        vertical-align: middle;\n",
       "    }\n",
       "\n",
       "    .dataframe tbody tr th {\n",
       "        vertical-align: top;\n",
       "    }\n",
       "\n",
       "    .dataframe thead th {\n",
       "        text-align: right;\n",
       "    }\n",
       "</style>\n",
       "<table border=\"1\" class=\"dataframe\">\n",
       "  <thead>\n",
       "    <tr style=\"text-align: right;\">\n",
       "      <th></th>\n",
       "      <th>precision</th>\n",
       "      <th>recall</th>\n",
       "      <th>f1-score</th>\n",
       "      <th>support</th>\n",
       "      <th>accuracy</th>\n",
       "      <th>k</th>\n",
       "      <th>distance_metric</th>\n",
       "      <th>model</th>\n",
       "      <th>model_value</th>\n",
       "    </tr>\n",
       "  </thead>\n",
       "  <tbody>\n",
       "    <tr>\n",
       "      <td>0</td>\n",
       "      <td>0.545904</td>\n",
       "      <td>0.481483</td>\n",
       "      <td>0.511674</td>\n",
       "      <td>19253.0</td>\n",
       "      <td>0.631375</td>\n",
       "      <td>5</td>\n",
       "      <td>Minkowski</td>\n",
       "      <td>K-Nearest Neighbors</td>\n",
       "      <td>First Treatment Episode</td>\n",
       "    </tr>\n",
       "    <tr>\n",
       "      <td>1</td>\n",
       "      <td>0.678165</td>\n",
       "      <td>0.731763</td>\n",
       "      <td>0.703945</td>\n",
       "      <td>28747.0</td>\n",
       "      <td>0.631375</td>\n",
       "      <td>5</td>\n",
       "      <td>Minkowski</td>\n",
       "      <td>K-Nearest Neighbors</td>\n",
       "      <td>2+ Treatment Episodes</td>\n",
       "    </tr>\n",
       "    <tr>\n",
       "      <td>0</td>\n",
       "      <td>0.543579</td>\n",
       "      <td>0.572067</td>\n",
       "      <td>0.557459</td>\n",
       "      <td>19253.0</td>\n",
       "      <td>0.635687</td>\n",
       "      <td>8</td>\n",
       "      <td>Minkowski</td>\n",
       "      <td>K-Nearest Neighbors</td>\n",
       "      <td>First Treatment Episode</td>\n",
       "    </tr>\n",
       "    <tr>\n",
       "      <td>1</td>\n",
       "      <td>0.702971</td>\n",
       "      <td>0.678297</td>\n",
       "      <td>0.690413</td>\n",
       "      <td>28747.0</td>\n",
       "      <td>0.635687</td>\n",
       "      <td>8</td>\n",
       "      <td>Minkowski</td>\n",
       "      <td>K-Nearest Neighbors</td>\n",
       "      <td>2+ Treatment Episodes</td>\n",
       "    </tr>\n",
       "    <tr>\n",
       "      <td>0</td>\n",
       "      <td>0.557777</td>\n",
       "      <td>0.565107</td>\n",
       "      <td>0.561418</td>\n",
       "      <td>19253.0</td>\n",
       "      <td>0.645854</td>\n",
       "      <td>12</td>\n",
       "      <td>Minkowski</td>\n",
       "      <td>K-Nearest Neighbors</td>\n",
       "      <td>First Treatment Episode</td>\n",
       "    </tr>\n",
       "    <tr>\n",
       "      <td>1</td>\n",
       "      <td>0.706149</td>\n",
       "      <td>0.699934</td>\n",
       "      <td>0.703028</td>\n",
       "      <td>28747.0</td>\n",
       "      <td>0.645854</td>\n",
       "      <td>12</td>\n",
       "      <td>Minkowski</td>\n",
       "      <td>K-Nearest Neighbors</td>\n",
       "      <td>2+ Treatment Episodes</td>\n",
       "    </tr>\n",
       "    <tr>\n",
       "      <td>0</td>\n",
       "      <td>0.581983</td>\n",
       "      <td>0.488911</td>\n",
       "      <td>0.531403</td>\n",
       "      <td>19253.0</td>\n",
       "      <td>0.654146</td>\n",
       "      <td>15</td>\n",
       "      <td>Minkowski</td>\n",
       "      <td>K-Nearest Neighbors</td>\n",
       "      <td>First Treatment Episode</td>\n",
       "    </tr>\n",
       "    <tr>\n",
       "      <td>1</td>\n",
       "      <td>0.690819</td>\n",
       "      <td>0.764810</td>\n",
       "      <td>0.725934</td>\n",
       "      <td>28747.0</td>\n",
       "      <td>0.654146</td>\n",
       "      <td>15</td>\n",
       "      <td>Minkowski</td>\n",
       "      <td>K-Nearest Neighbors</td>\n",
       "      <td>2+ Treatment Episodes</td>\n",
       "    </tr>\n",
       "  </tbody>\n",
       "</table>\n",
       "</div>"
      ],
      "text/plain": [
       "   precision    recall  f1-score  support  accuracy   k distance_metric  \\\n",
       "0   0.545904  0.481483  0.511674  19253.0  0.631375   5       Minkowski   \n",
       "1   0.678165  0.731763  0.703945  28747.0  0.631375   5       Minkowski   \n",
       "0   0.543579  0.572067  0.557459  19253.0  0.635687   8       Minkowski   \n",
       "1   0.702971  0.678297  0.690413  28747.0  0.635687   8       Minkowski   \n",
       "0   0.557777  0.565107  0.561418  19253.0  0.645854  12       Minkowski   \n",
       "1   0.706149  0.699934  0.703028  28747.0  0.645854  12       Minkowski   \n",
       "0   0.581983  0.488911  0.531403  19253.0  0.654146  15       Minkowski   \n",
       "1   0.690819  0.764810  0.725934  28747.0  0.654146  15       Minkowski   \n",
       "\n",
       "                 model              model_value  \n",
       "0  K-Nearest Neighbors  First Treatment Episode  \n",
       "1  K-Nearest Neighbors    2+ Treatment Episodes  \n",
       "0  K-Nearest Neighbors  First Treatment Episode  \n",
       "1  K-Nearest Neighbors    2+ Treatment Episodes  \n",
       "0  K-Nearest Neighbors  First Treatment Episode  \n",
       "1  K-Nearest Neighbors    2+ Treatment Episodes  \n",
       "0  K-Nearest Neighbors  First Treatment Episode  \n",
       "1  K-Nearest Neighbors    2+ Treatment Episodes  "
      ]
     },
     "execution_count": 39,
     "metadata": {},
     "output_type": "execute_result"
    }
   ],
   "source": [
    "knn_minkowski"
   ]
  },
  {
   "cell_type": "code",
   "execution_count": 42,
   "metadata": {},
   "outputs": [
    {
     "name": "stdout",
     "output_type": "stream",
     "text": [
      "\n",
      "Normalized confusion matrix\n",
      "\n"
     ]
    },
    {
     "data": {
      "image/png": "[encoded data removed]",
      "text/plain": [
       "<Figure size 720x360 with 2 Axes>"
      ]
     },
     "metadata": {
      "needs_background": "light"
     },
     "output_type": "display_data"
    }
   ],
   "source": [
    "## K-Nearest Neighbors\n",
    "knn_model_final = KNeighborsClassifier(n_neighbors = 15, n_jobs = 7)\n",
    "knn_model_final.fit(x_train_sm, np.ravel(y_train, order='C'))\n",
    "valid_predict_knn_final = knn_model_final.predict(x_test_sm)\n",
    "\n",
    "class_names = ['First', 'Two or More']\n",
    "\n",
    "# Compute confusion matrix\n",
    "cnf_matrix_knn = confusion_matrix(y_test, valid_predict_knn_final)\n",
    "np.set_printoptions(precision=2) # set NumPy to 2 decimal places\n",
    "\n",
    "# Plot normalized confusion matrix\n",
    "plt.figure(figsize=(10,5))\n",
    "plot_confusion_matrix(cnf_matrix_knn, classes=class_names, normalize=True,\n",
    "                      title='Normalized confusion matrix, Random Forest')"
   ]
  },
  {
   "cell_type": "code",
   "execution_count": 44,
   "metadata": {
    "scrolled": true
   },
   "outputs": [
    {
     "data": {
      "image/png": "[encoded data removed]",
      "text/plain": [
       "<Figure size 1440x1080 with 1 Axes>"
      ]
     },
     "metadata": {
      "needs_background": "light"
     },
     "output_type": "display_data"
    },
    {
     "data": {
      "text/plain": [
       "<Figure size 2160x1800 with 0 Axes>"
      ]
     },
     "metadata": {},
     "output_type": "display_data"
    }
   ],
   "source": [
    "# Building and printing ROC curves for all final models\n",
    "classes = ['First', 'Two or More']\n",
    "\n",
    "# k=5\n",
    "with open(\"pickle_model_knn_k5.pkl\", 'rb') as file:\n",
    "    knn_model_5 = pickle.load(file)\n",
    "    \n",
    "probs5 = knn_model_5.predict_proba(x_validation_sm)\n",
    "probs5 = probs5[:, 1]\n",
    "\n",
    "# k=8\n",
    "with open(\"pickle_model_knn_k8.pkl\", 'rb') as file:\n",
    "    knn_model_8 = pickle.load(file)\n",
    "    \n",
    "probs8 = knn_model_8.predict_proba(x_validation_sm)\n",
    "probs8 = probs8[:, 1]\n",
    "\n",
    "# k=12\n",
    "with open(\"pickle_model_knn_k12.pkl\", 'rb') as file:\n",
    "    knn_model_12 = pickle.load(file)\n",
    "    \n",
    "probs12 = knn_model_12.predict_proba(x_validation_sm)\n",
    "probs12 = probs12[:, 1]\n",
    "\n",
    "# k=15\n",
    "with open(\"pickle_model_knn_k15.pkl\", 'rb') as file:\n",
    "    knn_model_15 = pickle.load(file)\n",
    "    \n",
    "probs15 = knn_model_15.predict_proba(x_validation_sm)\n",
    "probs15 = probs15[:, 1]\n",
    "\n",
    "fpr, tpr, thresh = metrics.roc_curve(y_validation, probs5)\n",
    "auc = metrics.roc_auc_score(y_validation, probs5)\n",
    "np.set_printoptions(precision=2)\n",
    "plt.plot(fpr,tpr,label=\"KNN, k=5, auc=\"+str(round(auc, 2)), color = 'red')\n",
    "\n",
    "fpr, tpr, thresh = metrics.roc_curve(y_validation, probs8)\n",
    "auc = metrics.roc_auc_score(y_validation, probs8)\n",
    "np.set_printoptions(precision=2)\n",
    "plt.plot(fpr,tpr,label=\"KNN, k=8, auc=\"+str(round(auc, 2)), color = 'blue')\n",
    "\n",
    "fpr, tpr, thresh = metrics.roc_curve(y_validation, probs12)\n",
    "auc = metrics.roc_auc_score(y_validation, probs12)\n",
    "np.set_printoptions(precision=2)\n",
    "plt.plot(fpr,tpr,label=\"KNN, k=12, auc=\"+str(round(auc, 2)), color = 'darkorchid')\n",
    "\n",
    "fpr, tpr, thresh = metrics.roc_curve(y_validation, probs15)\n",
    "auc = metrics.roc_auc_score(y_validation, probs15)\n",
    "np.set_printoptions(precision=2)\n",
    "plt.plot(fpr,tpr,label=\"KNN, k=15, auc=\"+str(round(auc, 2)), color = 'gold')"
   ]
  }
 ],
 "metadata": {
  "kernelspec": {
   "display_name": "Python 3",
   "language": "python",
   "name": "python3"
  },
  "language_info": {
   "codemirror_mode": {
    "name": "ipython",
    "version": 3
   },
   "file_extension": ".py",
   "mimetype": "text/x-python",
   "name": "python",
   "nbconvert_exporter": "python",
   "pygments_lexer": "ipython3",
   "version": "3.7.4"
  }
 },
 "nbformat": 4,
 "nbformat_minor": 2
}
