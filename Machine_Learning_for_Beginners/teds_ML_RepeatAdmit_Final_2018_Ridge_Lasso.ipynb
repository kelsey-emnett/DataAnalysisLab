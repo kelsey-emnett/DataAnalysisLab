{
 "cells": [
  {
   "cell_type": "code",
   "execution_count": 2,
   "metadata": {},
   "outputs": [
    {
     "name": "stdout",
     "output_type": "stream",
     "text": [
      "/Users/kelsey.huntzberry/Documents/Classes/Machine_Learning_Class/Data\n"
     ]
    }
   ],
   "source": [
    "import pandas as pd\n",
    "import numpy as np\n",
    "import os\n",
    "import itertools\n",
    "import matplotlib.pyplot as plt\n",
    "from matplotlib import rcParams, gridspec\n",
    "from pandas.api.types import CategoricalDtype\n",
    "import pickle\n",
    "\n",
    "import sklearn\n",
    "from sklearn import model_selection\n",
    "from sklearn.model_selection import StratifiedShuffleSplit\n",
    "from sklearn.ensemble import GradientBoostingClassifier\n",
    "from sklearn.ensemble import RandomForestClassifier\n",
    "from sklearn.neighbors import KNeighborsClassifier\n",
    "from sklearn.linear_model import LogisticRegression\n",
    "\n",
    "from sklearn import metrics\n",
    "from sklearn.impute import SimpleImputer\n",
    "from sklearn.metrics import classification_report\n",
    "from sklearn.metrics import roc_curve\n",
    "from sklearn.metrics import roc_auc_score\n",
    "from sklearn.metrics import roc_curve\n",
    "from sklearn.metrics import roc_auc_score\n",
    "from sklearn.metrics import f1_score\n",
    "from sklearn.metrics import confusion_matrix\n",
    "from sklearn.model_selection import cross_val_score\n",
    "\n",
    "os.chdir(\"/Users/kelsey.huntzberry/Documents/Classes/Machine_Learning_Class/Data\")\n",
    "print(os.getcwd())"
   ]
  },
  {
   "cell_type": "code",
   "execution_count": 3,
   "metadata": {},
   "outputs": [
    {
     "data": {
      "text/plain": [
       "31"
      ]
     },
     "execution_count": 3,
     "metadata": {},
     "output_type": "execute_result"
    }
   ],
   "source": [
    "import gc\n",
    "gc.collect()"
   ]
  },
  {
   "cell_type": "code",
   "execution_count": 4,
   "metadata": {},
   "outputs": [],
   "source": [
    "# Read in Treatment Episode Data Set data\n",
    "teds18 = pd.read_csv('tedsa_puf_2018.csv')"
   ]
  },
  {
   "cell_type": "code",
   "execution_count": 5,
   "metadata": {},
   "outputs": [
    {
     "data": {
      "text/plain": [
       "Index(['ADMYR', 'CASEID', 'STFIPS', 'CBSA2010', 'EDUC', 'MARSTAT', 'SERVICES',\n",
       "       'DETCRIM', 'NOPRIOR', 'PSOURCE', 'ARRESTS', 'EMPLOY', 'METHUSE',\n",
       "       'PSYPROB', 'PREG', 'GENDER', 'VET', 'LIVARAG', 'DAYWAIT', 'DSMCRIT',\n",
       "       'AGE', 'RACE', 'ETHNIC', 'DETNLF', 'PRIMINC', 'SUB1', 'SUB2', 'SUB3',\n",
       "       'ROUTE1', 'ROUTE2', 'ROUTE3', 'FREQ1', 'FREQ2', 'FREQ3', 'FRSTUSE1',\n",
       "       'FRSTUSE2', 'FRSTUSE3', 'HLTHINS', 'PRIMPAY', 'FREQ_ATND_SELF_HELP',\n",
       "       'ALCFLG', 'COKEFLG', 'MARFLG', 'HERFLG', 'METHFLG', 'OPSYNFLG',\n",
       "       'PCPFLG', 'HALLFLG', 'MTHAMFLG', 'AMPHFLG', 'STIMFLG', 'BENZFLG',\n",
       "       'TRNQFLG', 'BARBFLG', 'SEDHPFLG', 'INHFLG', 'OTCFLG', 'OTHERFLG',\n",
       "       'DIVISION', 'REGION', 'IDU', 'ALCDRUG'],\n",
       "      dtype='object')"
      ]
     },
     "execution_count": 5,
     "metadata": {},
     "output_type": "execute_result"
    }
   ],
   "source": [
    "teds18.columns"
   ]
  },
  {
   "cell_type": "code",
   "execution_count": 6,
   "metadata": {},
   "outputs": [],
   "source": [
    "# Subset the data to just the 0/1 drug flag variables\n",
    "flags = teds18.filter(regex='FLG$', axis = 1)"
   ]
  },
  {
   "cell_type": "code",
   "execution_count": 7,
   "metadata": {},
   "outputs": [],
   "source": [
    "# Sum the flag variables to calculate the number of drugs recorded for each individual\n",
    "NUMSUBS = flags.sum(axis=1)"
   ]
  },
  {
   "cell_type": "code",
   "execution_count": 8,
   "metadata": {},
   "outputs": [],
   "source": [
    "# Concatenate flag variables back into the 2015-17 data\n",
    "teds_wflgs = pd.concat([teds18, NUMSUBS], axis = 1)\n",
    "teds_wflgs.rename(columns={0:'NUMSUBS'}, inplace = True)"
   ]
  },
  {
   "cell_type": "code",
   "execution_count": 9,
   "metadata": {},
   "outputs": [],
   "source": [
    "# Remove rows where the first substance was \"None\"\n",
    "teds_sm_temp = teds_wflgs[teds_wflgs.SUB1 != 1]\n",
    "# Remove rows where number of prior treatments is NA (target variable)\n",
    "teds_sm1 = teds_sm_temp[teds_sm_temp.NOPRIOR != -9]"
   ]
  },
  {
   "cell_type": "code",
   "execution_count": 10,
   "metadata": {},
   "outputs": [],
   "source": [
    "# Select subset of columns\n",
    "teds_sm = teds_sm1.loc[:,['CASEID','ADMYR','AGE','GENDER','RACE','ETHNIC','EDUC','EMPLOY','VET','LIVARAG',\\\n",
    "                          'STFIPS','CBSA2010','DIVISION','REGION','SERVICES','PSOURCE','NOPRIOR','ARRESTS','ROUTE1','FRSTUSE1','FREQ1', \\\n",
    "                          'ROUTE2','FRSTUSE2', 'FREQ2','ROUTE3','FRSTUSE3','FREQ3','NUMSUBS','METHUSE','ALCFLG','PSYPROB', \\\n",
    "                          'COKEFLG','MARFLG','HERFLG','METHFLG','OPSYNFLG','PCPFLG','HALLFLG','MTHAMFLG','AMPHFLG','STIMFLG', \\\n",
    "                          'BENZFLG','TRNQFLG','BARBFLG','SEDHPFLG','INHFLG','OTCFLG','OTHERFLG']]"
   ]
  },
  {
   "cell_type": "code",
   "execution_count": 11,
   "metadata": {},
   "outputs": [
    {
     "name": "stderr",
     "output_type": "stream",
     "text": [
      "/opt/anaconda3/lib/python3.7/site-packages/pandas/core/indexing.py:376: SettingWithCopyWarning: \n",
      "A value is trying to be set on a copy of a slice from a DataFrame.\n",
      "Try using .loc[row_indexer,col_indexer] = value instead\n",
      "\n",
      "See the caveats in the documentation: http://pandas.pydata.org/pandas-docs/stable/user_guide/indexing.html#returning-a-view-versus-a-copy\n",
      "  self.obj[key] = _infer_fill_value(value)\n",
      "/opt/anaconda3/lib/python3.7/site-packages/pandas/core/indexing.py:494: SettingWithCopyWarning: \n",
      "A value is trying to be set on a copy of a slice from a DataFrame.\n",
      "Try using .loc[row_indexer,col_indexer] = value instead\n",
      "\n",
      "See the caveats in the documentation: http://pandas.pydata.org/pandas-docs/stable/user_guide/indexing.html#returning-a-view-versus-a-copy\n",
      "  self.obj[item] = s\n"
     ]
    }
   ],
   "source": [
    "# Recode age group variable\n",
    "def age_groups(series):\n",
    "    if series == 1:\n",
    "        return '12_14_years'\n",
    "    elif series == 2:\n",
    "        return '15_17_years'\n",
    "    elif series == 3:\n",
    "        return '18_20_years'\n",
    "    elif series == 4:\n",
    "        return '21_24_years'\n",
    "    elif series == 5:\n",
    "        return '25_29_years'\n",
    "    elif series == 6:\n",
    "        return '30_34_years'\n",
    "    elif series == 7:\n",
    "        return '35_39_years'\n",
    "    elif series == 8:\n",
    "        return '40_44_years'\n",
    "    elif series == 9:\n",
    "        return '45_49_years'\n",
    "    elif series == 10:\n",
    "        return '50_54_years'\n",
    "    elif series == 11:\n",
    "        return '55_64_years'\n",
    "    elif series == 12:\n",
    "        return '65_plus_years'\n",
    "    \n",
    "teds_sm1.loc[:, 'age_group'] = teds_sm1.AGE.apply(age_groups)\n",
    "\n",
    "# Change variable to an ordered factor\n",
    "teds_sm1.loc[:, 'age_group'] = pd.Categorical(teds_sm1['age_group'], categories = ['12_14_years', '15_17_years', '18_20_years',\n",
    "                                                                                   '21_24_years', '25_29_years', '30_34_years',\n",
    "                                                                                   '35_39_years', '40_44_years', '45_49_years',\n",
    "                                                                                   '50_54_years', '55_64_years', '65_plus_years'], ordered = True)\n",
    "\n",
    "# Change variable to an ordered factor with values as numbers\n",
    "labels, unique = pd.factorize(teds_sm1.loc[:, 'age_group'], sort = True)\n",
    "teds_sm1.loc[:, 'age_group'] = labels"
   ]
  },
  {
   "cell_type": "code",
   "execution_count": 12,
   "metadata": {},
   "outputs": [],
   "source": [
    "# Recode gender variable\n",
    "def gen_rc(series):\n",
    "    if series == 1:\n",
    "        return 0\n",
    "    elif series == 2:\n",
    "        return 1\n",
    "    \n",
    "teds_sm1.loc[:, 'gender'] = teds_sm1.GENDER.apply(gen_rc)"
   ]
  },
  {
   "cell_type": "code",
   "execution_count": 13,
   "metadata": {},
   "outputs": [],
   "source": [
    "# Recode methadone variable\n",
    "def methadone_rc(series):\n",
    "    if series == 1:\n",
    "        return 1\n",
    "    elif series == 2:\n",
    "        return 0\n",
    "    \n",
    "teds_sm1.loc[:, 'methadone_use'] = teds_sm1.METHUSE.apply(methadone_rc)"
   ]
  },
  {
   "cell_type": "code",
   "execution_count": 14,
   "metadata": {},
   "outputs": [],
   "source": [
    "def educ_rc(series):\n",
    "    if series == 1:\n",
    "        return 'No_Schooling'\n",
    "    elif series == 2:\n",
    "        return 'Grades_9_to_11'\n",
    "    elif series == 3:\n",
    "        return 'Grades_12_or_GED'\n",
    "    elif series == 4:\n",
    "        return 'College_1_to_3_years'\n",
    "    elif series == 5:\n",
    "        return 'College_4_or_more_years'\n",
    "\n",
    "teds_sm1.loc[:, 'educ'] = teds_sm1.EDUC.apply(educ_rc)\n",
    "\n",
    "# Change variable to an ordered factor\n",
    "teds_sm1.loc[:, 'educ'] = pd.Categorical(teds_sm1['educ'], categories = ['No_Schooling', 'Grades_9_to_11', 'Grades_12_or_GED',\n",
    "                                                                         'College_1_to_3_years', 'College_4_or_more_years'], ordered = True)\n",
    "\n",
    "# Change variable to an ordered factor with values as numbers\n",
    "labels, unique = pd.factorize(teds_sm1.loc[:, 'educ'], sort = True)\n",
    "teds_sm1.loc[:, 'educ'] = labels"
   ]
  },
  {
   "cell_type": "code",
   "execution_count": 15,
   "metadata": {},
   "outputs": [],
   "source": [
    "# Record race variable\n",
    "def race_rc(series):\n",
    "    if series == 1:\n",
    "        return 'Alaska_Native'\n",
    "    elif series == 2:\n",
    "        return 'American_Indian'\n",
    "    elif series == 3 or series == 9:\n",
    "        return 'Hawaiian_Pacific_Islander'\n",
    "    elif series == 4:\n",
    "        return 'Black'\n",
    "    elif series == 5:\n",
    "        return 'White'\n",
    "    elif series == 6:\n",
    "        return 'Asian'\n",
    "    elif series == 7:\n",
    "        return 'Other_race'\n",
    "    elif series == 8:\n",
    "        return 'Two_or_more_races'\n",
    "    \n",
    "teds_sm1.loc[:, 'race'] = teds_sm1.RACE.apply(race_rc)"
   ]
  },
  {
   "cell_type": "code",
   "execution_count": 16,
   "metadata": {},
   "outputs": [],
   "source": [
    "# Recode ethnicity variable\n",
    "def ethnic_rc(series):\n",
    "    if (series >= 1 or series <= 3) or series == 5:\n",
    "        return 1\n",
    "    elif series == 4:\n",
    "        return 0\n",
    "    \n",
    "teds_sm1.loc[:, 'ethnic'] = teds_sm1.ETHNIC.apply(ethnic_rc)"
   ]
  },
  {
   "cell_type": "code",
   "execution_count": 17,
   "metadata": {},
   "outputs": [],
   "source": [
    "# Recode service setting variable\n",
    "def servseta_rc(series):\n",
    "    if series == 1 or series == 2:\n",
    "        return 'Detox'\n",
    "    elif series >= 3 and series <= 5:\n",
    "        return 'Rehab_Residential'\n",
    "    elif series >= 6 and series <= 8:\n",
    "        return 'Ambulatory'\n",
    "\n",
    "teds_sm1.loc[:, 'services'] = teds_sm1.SERVICES.apply(servseta_rc)"
   ]
  },
  {
   "cell_type": "code",
   "execution_count": 18,
   "metadata": {},
   "outputs": [],
   "source": [
    "# Recode marital status variable\n",
    "def marstat_rc(series):\n",
    "    if series == 1:\n",
    "        return 'Never_Married'\n",
    "    elif series == 2:\n",
    "        return 'Married'\n",
    "    elif series == 3:\n",
    "        return 'Separated'\n",
    "    elif series == 4:\n",
    "        return 'Divorced_or_Widowed'\n",
    "\n",
    "teds_sm1.loc[:, 'marstat'] = teds_sm1.MARSTAT.apply(marstat_rc)"
   ]
  },
  {
   "cell_type": "code",
   "execution_count": 19,
   "metadata": {},
   "outputs": [],
   "source": [
    "# Recode employment status variable\n",
    "def employ_rc(series):\n",
    "    if series == 1:\n",
    "        return 'Full_time'\n",
    "    elif series == 2:\n",
    "        return 'Part_time'\n",
    "    elif series == 3:\n",
    "        return 'Unemployed'\n",
    "    elif series == 4:\n",
    "        return 'Not_in_labor_force'\n",
    "    \n",
    "teds_sm1.loc[:, 'employ'] = teds_sm1.EMPLOY.apply(employ_rc)"
   ]
  },
  {
   "cell_type": "code",
   "execution_count": 20,
   "metadata": {},
   "outputs": [],
   "source": [
    "# Recode veteran variable\n",
    "def vet_rc(series):\n",
    "    if series == 1:\n",
    "        return 1\n",
    "    elif series == 2:\n",
    "        return 0\n",
    "    \n",
    "teds_sm1.loc[:, 'vet'] = teds_sm1.VET.apply(vet_rc)"
   ]
  },
  {
   "cell_type": "code",
   "execution_count": 21,
   "metadata": {},
   "outputs": [],
   "source": [
    "# Recode living arrangement variable\n",
    "def livarag_rc(series):\n",
    "    if series == 1:\n",
    "        return 'Homeless'\n",
    "    elif series == 2:\n",
    "        return 'Dependent_Living'\n",
    "    elif series == 3:\n",
    "        return 'Independent_Living'\n",
    "\n",
    "teds_sm1.loc[:, 'livarag'] = teds_sm1.LIVARAG.apply(livarag_rc)"
   ]
  },
  {
   "cell_type": "code",
   "execution_count": 22,
   "metadata": {},
   "outputs": [],
   "source": [
    "# Recode arrests variable\n",
    "def arrests_rc(series):\n",
    "    if series == 0:\n",
    "        return 'None'\n",
    "    elif series == 1:\n",
    "        return 'Once'\n",
    "    elif series == 2:\n",
    "        return 'Two_or_more_times'\n",
    "    \n",
    "teds_sm1.loc[:, 'arrests'] = teds_sm1.ARRESTS.apply(arrests_rc)\n",
    "\n",
    "# Change variable to an ordered factor variable\n",
    "teds_sm1.loc[:, 'arrests'] = pd.Categorical(teds_sm1['arrests'], categories = ['None', 'Once',\n",
    "                                                                              '2 or more times'],\n",
    "                                           ordered = True)\n",
    "\n",
    "# Change variable to an ordered factor with values as numbers\n",
    "labels, unique = pd.factorize(teds_sm1.loc[:, 'arrests'], sort = True)\n",
    "teds_sm1.loc[:, 'arrests'] = labels"
   ]
  },
  {
   "cell_type": "code",
   "execution_count": 23,
   "metadata": {},
   "outputs": [],
   "source": [
    "# Recode division variable\n",
    "def division_rc(series):\n",
    "    if series == 0:\n",
    "        return 'US_Territories'\n",
    "    elif series == 1:\n",
    "        return 'New_England'\n",
    "    elif series == 2:\n",
    "        return 'Mid_Atlantic'\n",
    "    elif series == 3:\n",
    "        return 'East_North_Central'\n",
    "    elif series == 4:\n",
    "        return 'West_North_Central'\n",
    "    elif series == 5:\n",
    "        return 'South_Atlantic'\n",
    "    elif series == 6:\n",
    "        return 'East_South_Central'\n",
    "    elif series == 7:\n",
    "        return 'West_South_Central'\n",
    "    elif series == 8:\n",
    "        return 'Mountain'\n",
    "    elif series == 9:\n",
    "        return 'Pacific'\n",
    "    \n",
    "teds_sm1.loc[:, 'division'] = teds_sm1.DIVISION.apply(division_rc)"
   ]
  },
  {
   "cell_type": "code",
   "execution_count": 24,
   "metadata": {},
   "outputs": [],
   "source": [
    "# Recode referral source variable\n",
    "def psource_rc(series):\n",
    "    if series == 1:\n",
    "        return 'Self_referral'\n",
    "    elif series == 2:\n",
    "        return 'Alcohol_Drug_Care_Professional'\n",
    "    elif series == 3:\n",
    "        return 'Other_Health_Care_Professional'\n",
    "    elif series == 4:\n",
    "        return 'School_Referral'\n",
    "    elif series == 5:\n",
    "        return 'Employer_Referral'\n",
    "    elif series == 6:\n",
    "        return 'Community_Referral'\n",
    "    elif series == 7:\n",
    "        return 'Court_Referral'\n",
    "    \n",
    "teds_sm1.loc[:, 'psource'] = teds_sm1.PSOURCE.apply(psource_rc)"
   ]
  },
  {
   "cell_type": "code",
   "execution_count": 25,
   "metadata": {},
   "outputs": [],
   "source": [
    "# Recode number of prior treatment encounters\n",
    "def noprior_rc(series):\n",
    "    if series == 0:\n",
    "        return 0\n",
    "    elif series >= 1:\n",
    "        return 1\n",
    "    \n",
    "teds_sm1.loc[:, 'noprior'] = teds_sm1.NOPRIOR.apply(noprior_rc)"
   ]
  },
  {
   "cell_type": "code",
   "execution_count": 26,
   "metadata": {},
   "outputs": [],
   "source": [
    "# Recode mental illness variable\n",
    "def psyprob_rc(series):\n",
    "    if series == 1:\n",
    "        return 1\n",
    "    elif series == 2:\n",
    "        return 0\n",
    "    \n",
    "teds_sm1.loc[:, 'psyprob'] = teds_sm1.PSYPROB.apply(psyprob_rc)"
   ]
  },
  {
   "cell_type": "code",
   "execution_count": 27,
   "metadata": {},
   "outputs": [],
   "source": [
    "# Recode number of substances variable\n",
    "def numsubs_rc(series):\n",
    "    if series == 0:\n",
    "        return 'Zero_substances'\n",
    "    elif series == 1:\n",
    "        return 'One_substance'\n",
    "    elif series == 2:\n",
    "        return 'Two_substances'\n",
    "    elif series == 3:\n",
    "        return 'Three_substances'\n",
    "    \n",
    "teds_sm1.loc[:, 'numsubs'] = teds_sm1.NUMSUBS.apply(numsubs_rc)\n",
    "\n",
    "# Change first use into an ordered factor\n",
    "teds_sm1.loc[:, 'numsubs'] = pd.Categorical(teds_sm1['numsubs'], categories = ['Zero substances', 'One substance',\n",
    "                                                                               'Two substances', \"Three substances\"], ordered = True)\n",
    "\n",
    "# Convert year to factor with numeric value\n",
    "labels, unique = pd.factorize(teds_sm1.loc[:, 'numsubs'], sort = True)\n",
    "teds_sm1.loc[:, 'numsubs'] = labels"
   ]
  },
  {
   "cell_type": "code",
   "execution_count": 28,
   "metadata": {},
   "outputs": [],
   "source": [
    "def first_age_recode(column1, column2, column3):\n",
    "    if column1 == 1 or column2 == 1 or column3 == 1:\n",
    "        return '11_years_and_under'\n",
    "    elif column1 == 2 or column2 == 2 or column3 == 2:\n",
    "        return '12_14_years'\n",
    "    elif column1 == 3 or column2 == 3 or column3 == 3:\n",
    "        return '15_17_years'\n",
    "    elif column1 == 4 or column2 == 4 or column3 == 4:\n",
    "        return '18_20_years'\n",
    "    elif column1 == 5 or column2 == 5 or column3 == 5:\n",
    "        return '21_24_years'\n",
    "    elif column1 == 6 or column2 == 6 or column3 == 6:\n",
    "        return '25_29_years'\n",
    "    elif column1 == 7 or column2 == 7 or column3 == 7:\n",
    "        return '30_years_older'\n",
    "\n",
    "teds_sm1.loc[:, 'frstuse'] = teds_sm1.apply(lambda x: first_age_recode(x.FRSTUSE1, x.FRSTUSE2, x.FRSTUSE3), axis=1)\n",
    "\n",
    "# Change first use into an ordered factor\n",
    "teds_sm1.loc[:, 'frstuse'] = pd.Categorical(teds_sm1['frstuse'], categories = ['11_years_and_under', '12_14_years', '15_17_years',\n",
    "                                                                               '18_20_years', '21_24_years',\n",
    "                                                                               '25_29_years', '30_years_older'], ordered = True)\n",
    "# Convert year to factor with numeric value\n",
    "labels, unique = pd.factorize(teds_sm1.loc[:, 'frstuse'], sort = True)\n",
    "teds_sm1.loc[:, 'frstuse'] = labels"
   ]
  },
  {
   "cell_type": "code",
   "execution_count": 29,
   "metadata": {},
   "outputs": [],
   "source": [
    "def freq_recode(column1, column2, column3):\n",
    "    if (column1 == 1 and column2 == 1 and column3 == 1):\n",
    "        return 'No_Use_Past_Month'\n",
    "    elif (column1 == 3 or column2 == 3 or column3 == 3):\n",
    "        return 'Daily_Use'\n",
    "    elif (column1 == 2 or column2 == 2 or column3 == 2):\n",
    "        return 'Some_Use'\n",
    "    elif (column1 == 1 or column2 == 1 or column3 == 1):\n",
    "        return 'No_Use_Past_Month'\n",
    "\n",
    "teds_sm1.loc[:, 'freq_use'] = teds_sm1.apply(lambda x: freq_recode(x.FREQ1, x.FREQ2, x.FREQ3), axis=1)\n",
    "\n",
    "# Change first use into an ordered factor\n",
    "teds_sm1.loc[:, 'freq_use'] = pd.Categorical(teds_sm1['freq_use'], categories = ['No_Use_Past_Month', 'Daily_Use', 'Some_Use'], ordered = True)\n",
    "# Convert year to factor with numeric value\n",
    "labels, unique = pd.factorize(teds_sm1.loc[:, 'freq_use'], sort = True)\n",
    "teds_sm1.loc[:, 'freq_use'] = labels"
   ]
  },
  {
   "cell_type": "code",
   "execution_count": 30,
   "metadata": {},
   "outputs": [],
   "source": [
    "def oral_recode(column1, column2, column3):\n",
    "    if (column1 == 1 and column1 != None) or (column2 == 1 and column2 != None) or (column3 == 1 and column3 != None):\n",
    "        return 1\n",
    "    elif (column1 > 1 and column1 != None) or (column2 > 1 and column2 != None) or (column3 > 1 and column3 != None):\n",
    "        return 0\n",
    "\n",
    "teds_sm1.loc[:, 'oral_drug_use'] = teds_sm1.apply(lambda x: oral_recode(x.ROUTE1, x.ROUTE2, x.ROUTE3), axis=1)\n",
    "\n",
    "def smoking_recode(column1, column2, column3):\n",
    "    if (column1 == 2 and column1 != None) or (column2 == 2 and column2 != None) or (column3 == 2 and column3 != None):\n",
    "        return 1\n",
    "    elif (column1 > 0 and column1 != None) or (column2 > 0 and column2 != None) or (column3 > 0 and column3 != None):\n",
    "        return 0\n",
    "\n",
    "teds_sm1.loc[:, 'smoking_drug_use'] = teds_sm1.apply(lambda x: smoking_recode(x.ROUTE1, x.ROUTE2, x.ROUTE3), axis=1)\n",
    "\n",
    "def inhalation_recode(column1, column2, column3):\n",
    "    if (column1 == 3 and column1 != None) or (column2 == 3 and column2 != None) or (column3 == 3 and column3 != None):\n",
    "        return 1\n",
    "    elif (column1 > 0 and column1 != None) or (column2 > 0 and column2 != None) or (column3 > 0 and column3 != None):\n",
    "        return 0\n",
    "    \n",
    "teds_sm1.loc[:, 'inhale_drug_use'] = teds_sm1.apply(lambda x: inhalation_recode(x.ROUTE1, x.ROUTE2, x.ROUTE3), axis=1)\n",
    "    \n",
    "def injection_recode(column1, column2, column3):\n",
    "    if (column1 == 4 and column1 != None) or (column2 == 4 and column2 != None) or (column3 == 4 and column3 != None):\n",
    "        return 1\n",
    "    elif (column1 > 0 and column1 != None) or (column2 > 0 and column2 != None) or (column3 > 0 and column3 != None):\n",
    "        return 0\n",
    "    \n",
    "teds_sm1.loc[:, 'injection_drug_use'] = teds_sm1.apply(lambda x: injection_recode(x.ROUTE1, x.ROUTE2, x.ROUTE3), axis=1)"
   ]
  },
  {
   "cell_type": "code",
   "execution_count": 31,
   "metadata": {},
   "outputs": [],
   "source": [
    "# Subset to fewer variables, mostly dropping those with many missing values\n",
    "teds_clean = teds_sm1.drop(['ADMYR', 'CASEID', 'STFIPS', 'CBSA2010', 'EDUC', 'MARSTAT', 'SERVICES',\n",
    "                            'DETCRIM', 'NOPRIOR', 'PSOURCE', 'ARRESTS', 'EMPLOY', 'METHUSE',\n",
    "                            'PSYPROB', 'PREG', 'GENDER', 'VET', 'LIVARAG', 'DAYWAIT', 'DSMCRIT',\n",
    "                            'AGE', 'RACE', 'ETHNIC', 'DETNLF', 'PRIMINC', 'SUB1', 'SUB2', 'SUB3',\n",
    "                            'ROUTE1', 'ROUTE2', 'ROUTE3', 'FREQ1', 'FREQ2', 'FREQ3', 'FRSTUSE1',\n",
    "                            'FRSTUSE2', 'FRSTUSE3', 'HLTHINS', 'PRIMPAY', 'FREQ_ATND_SELF_HELP', \n",
    "                            'IDU','REGION'], axis = 1)"
   ]
  },
  {
   "cell_type": "code",
   "execution_count": 32,
   "metadata": {},
   "outputs": [
    {
     "data": {
      "text/plain": [
       "Index(['ALCFLG', 'COKEFLG', 'MARFLG', 'HERFLG', 'METHFLG', 'OPSYNFLG',\n",
       "       'PCPFLG', 'HALLFLG', 'MTHAMFLG', 'AMPHFLG', 'STIMFLG', 'BENZFLG',\n",
       "       'TRNQFLG', 'BARBFLG', 'SEDHPFLG', 'INHFLG', 'OTCFLG', 'OTHERFLG',\n",
       "       'DIVISION', 'ALCDRUG', 'NUMSUBS', 'age_group', 'gender',\n",
       "       'methadone_use', 'educ', 'race', 'ethnic', 'services', 'marstat',\n",
       "       'employ', 'vet', 'livarag', 'arrests', 'division', 'psource', 'noprior',\n",
       "       'psyprob', 'numsubs', 'frstuse', 'freq_use', 'oral_drug_use',\n",
       "       'smoking_drug_use', 'inhale_drug_use', 'injection_drug_use'],\n",
       "      dtype='object')"
      ]
     },
     "execution_count": 32,
     "metadata": {},
     "output_type": "execute_result"
    }
   ],
   "source": [
    "teds_clean.columns"
   ]
  },
  {
   "cell_type": "code",
   "execution_count": 33,
   "metadata": {},
   "outputs": [],
   "source": [
    "# Create dummy variables for unordered categorical variables\n",
    "teds2018 = pd.get_dummies(teds_clean, columns=['race','psource','division','ethnic','services','marstat','employ',\n",
    "                                                 'livarag'])"
   ]
  },
  {
   "cell_type": "code",
   "execution_count": 34,
   "metadata": {},
   "outputs": [],
   "source": [
    "# Subset data for easy analysis\n",
    "teds2018 = teds2018.sample(n = 200000, random_state=16)"
   ]
  },
  {
   "cell_type": "code",
   "execution_count": 4,
   "metadata": {},
   "outputs": [],
   "source": [
    "#teds2018.to_csv(\"teds_data_small.csv\",index=False)\n",
    "teds2018 = pd.read_csv(\"teds_data_small.csv\")"
   ]
  },
  {
   "cell_type": "code",
   "execution_count": 5,
   "metadata": {},
   "outputs": [],
   "source": [
    "# Drop response variable and year since only 2017 will be used in final modeling\n",
    "data = teds2018.drop(columns = ['noprior'])\n",
    "# Create data frame with just the response variable\n",
    "response = teds2018.loc[:,['noprior']]"
   ]
  },
  {
   "cell_type": "code",
   "execution_count": 6,
   "metadata": {},
   "outputs": [],
   "source": [
    "# Impute missing data witn mode\n",
    "my_imputer = SimpleImputer(strategy = 'most_frequent')\n",
    "data_imputed = pd.DataFrame(my_imputer.fit_transform(data))\n",
    "data_imputed.columns = data.columns\n",
    "columns = data_imputed.columns"
   ]
  },
  {
   "cell_type": "code",
   "execution_count": 7,
   "metadata": {},
   "outputs": [],
   "source": [
    "# Change response and predictor data frames to numpy arrays\n",
    "data_imp_np = np.array(data_imputed)\n",
    "response_np = np.array(response)"
   ]
  },
  {
   "cell_type": "code",
   "execution_count": 8,
   "metadata": {},
   "outputs": [],
   "source": [
    "# Create holdout data set and keep remaining 80% in one data frame\n",
    "# Used stratefied random sampling because there was class imbalance\n",
    "sss = StratifiedShuffleSplit(n_splits = 2, test_size=0.2, random_state=0)\n",
    "\n",
    "sss.get_n_splits(data_imp_np, response_np)\n",
    "\n",
    "for train_index, test_index in sss.split(data_imp_np, response_np):\n",
    "    x_train_temp, x_test = data_imp_np[train_index], data_imp_np[test_index]\n",
    "    y_train_temp, y_test = response_np[train_index], response_np[test_index]\n",
    "\n",
    "# Split the remaining data into a training and validation data set (50% and 30% respectively)\n",
    "sss_valid = StratifiedShuffleSplit(n_splits = 2, test_size = 0.3, random_state = 10)  \n",
    "    \n",
    "for train_index, test_index in sss_valid.split(x_train_temp, y_train_temp):\n",
    "    x_train, x_validation = x_train_temp[train_index], x_train_temp[test_index]\n",
    "    y_train, y_validation = y_train_temp[train_index], y_train_temp[test_index]\n",
    "\n",
    "    \n",
    "x_train = np.array(x_train)\n",
    "y_train = np.array(y_train)\n",
    "x_validation = np.array(x_validation)\n",
    "y_validation = np.array(y_validation)\n",
    "x_test = np.array(x_test)\n",
    "y_test = np.array(y_test)"
   ]
  },
  {
   "cell_type": "code",
   "execution_count": 9,
   "metadata": {},
   "outputs": [],
   "source": [
    "# Create user-defined function to create formatted confusion matrix\n",
    "def plot_confusion_matrix(cm, classes,\n",
    "                          normalize=True,\n",
    "                          title='Confusion matrix',\n",
    "                          cmap=plt.cm.Blues):\n",
    "    \"\"\"\n",
    "    This function prints and plots the confusion matrix.\n",
    "    Normalization can be applied by setting `normalize=True`.\n",
    "    \"\"\"\n",
    "    if normalize:\n",
    "        cm = cm.astype('float') / cm.sum(axis=1)[:, np.newaxis]\n",
    "        print(\"\\nNormalized confusion matrix\")\n",
    "    else:\n",
    "        print('\\nConfusion matrix, without normalization')\n",
    "\n",
    "    print ()\n",
    "\n",
    "    plt.imshow(cm, interpolation='nearest', cmap=cmap)\n",
    "    plt.title(title, fontsize = 15)\n",
    "    plt.colorbar()\n",
    "    tick_marks = np.arange(len(classes))\n",
    "    plt.xticks(tick_marks, classes, rotation=20, fontsize = 14)\n",
    "    plt.yticks(tick_marks, classes, fontsize = 14)\n",
    "\n",
    "    plt.tight_layout()\n",
    "    plt.ylabel('True label', fontsize = 14)\n",
    "    plt.xlabel('Predicted label', fontsize = 14)\n"
   ]
  },
  {
   "cell_type": "markdown",
   "metadata": {},
   "source": [
    "# Logistic Regression Model\n",
    "\n",
    "This is the logistic regression model you have likely heard of before. Its C parameter is 1 so no regularization is performed to decrease the values/penalize coefficients."
   ]
  },
  {
   "cell_type": "code",
   "execution_count": 11,
   "metadata": {},
   "outputs": [
    {
     "name": "stderr",
     "output_type": "stream",
     "text": [
      "/opt/anaconda3/lib/python3.7/site-packages/sklearn/linear_model/logistic.py:432: FutureWarning: Default solver will be changed to 'lbfgs' in 0.22. Specify a solver to silence this warning.\n",
      "  FutureWarning)\n"
     ]
    }
   ],
   "source": [
    "# Run logistic regression model as a baseline\n",
    "logreg_model = LogisticRegression()\n",
    "logreg_model.fit(x_train, np.ravel(y_train, order='C'))\n",
    "valid_predict_logreg = logreg_model.predict(x_validation)"
   ]
  },
  {
   "cell_type": "code",
   "execution_count": 12,
   "metadata": {},
   "outputs": [
    {
     "name": "stdout",
     "output_type": "stream",
     "text": [
      "              precision    recall  f1-score   support\n",
      "\n",
      "           0       0.67      0.52      0.59     19253\n",
      "           1       0.72      0.83      0.77     28747\n",
      "\n",
      "    accuracy                           0.71     48000\n",
      "   macro avg       0.70      0.67      0.68     48000\n",
      "weighted avg       0.70      0.71      0.70     48000\n",
      "\n",
      "\n",
      "Normalized confusion matrix\n",
      "\n"
     ]
    },
    {
     "data": {
      "image/png": "[encoded data removed]",
      "text/plain": [
       "<Figure size 720x360 with 2 Axes>"
      ]
     },
     "metadata": {
      "needs_background": "light"
     },
     "output_type": "display_data"
    }
   ],
   "source": [
    "# Print classification report\n",
    "print(classification_report(y_validation, valid_predict_logreg))\n",
    "\n",
    "# Assign classes\n",
    "class_names = ['First', 'Two or More']\n",
    "\n",
    "# Compute confusion matrix\n",
    "cnf_matrix_logreg = confusion_matrix(y_validation, valid_predict_logreg)\n",
    "np.set_printoptions(precision=2) # set NumPy to 2 decimal places\n",
    "\n",
    "# Plot normalized confusion matrix\n",
    "plt.figure(figsize=(10,5))\n",
    "plot_confusion_matrix(cnf_matrix_logreg, classes=class_names, normalize=True,\n",
    "                      title='Normalized confusion matrix, Logistic Regression')\n",
    "\n",
    "# Results: Accuracy is 71%, but very bad accuracy for identifying first admission patients"
   ]
  },
  {
   "cell_type": "code",
   "execution_count": 13,
   "metadata": {
    "scrolled": true
   },
   "outputs": [
    {
     "data": {
      "text/html": [
       "<div>\n",
       "<style scoped>\n",
       "    .dataframe tbody tr th:only-of-type {\n",
       "        vertical-align: middle;\n",
       "    }\n",
       "\n",
       "    .dataframe tbody tr th {\n",
       "        vertical-align: top;\n",
       "    }\n",
       "\n",
       "    .dataframe thead th {\n",
       "        text-align: right;\n",
       "    }\n",
       "</style>\n",
       "<table border=\"1\" class=\"dataframe\">\n",
       "  <thead>\n",
       "    <tr style=\"text-align: right;\">\n",
       "      <th></th>\n",
       "      <th>coefficients</th>\n",
       "      <th>features</th>\n",
       "    </tr>\n",
       "  </thead>\n",
       "  <tbody>\n",
       "    <tr>\n",
       "      <td>35</td>\n",
       "      <td>1.344424</td>\n",
       "      <td>race_Alaska_Native</td>\n",
       "    </tr>\n",
       "    <tr>\n",
       "      <td>53</td>\n",
       "      <td>0.964959</td>\n",
       "      <td>division_Mountain</td>\n",
       "    </tr>\n",
       "    <tr>\n",
       "      <td>58</td>\n",
       "      <td>0.681342</td>\n",
       "      <td>division_West_North_Central</td>\n",
       "    </tr>\n",
       "    <tr>\n",
       "      <td>6</td>\n",
       "      <td>0.582636</td>\n",
       "      <td>PCPFLG</td>\n",
       "    </tr>\n",
       "    <tr>\n",
       "      <td>43</td>\n",
       "      <td>0.534430</td>\n",
       "      <td>psource_Alcohol_Drug_Care_Professional</td>\n",
       "    </tr>\n",
       "    <tr>\n",
       "      <td>...</td>\n",
       "      <td>...</td>\n",
       "      <td>...</td>\n",
       "    </tr>\n",
       "    <tr>\n",
       "      <td>70</td>\n",
       "      <td>-0.482592</td>\n",
       "      <td>employ_Part_time</td>\n",
       "    </tr>\n",
       "    <tr>\n",
       "      <td>68</td>\n",
       "      <td>-0.592550</td>\n",
       "      <td>employ_Full_time</td>\n",
       "    </tr>\n",
       "    <tr>\n",
       "      <td>10</td>\n",
       "      <td>-0.688233</td>\n",
       "      <td>STIMFLG</td>\n",
       "    </tr>\n",
       "    <tr>\n",
       "      <td>55</td>\n",
       "      <td>-0.942245</td>\n",
       "      <td>division_Pacific</td>\n",
       "    </tr>\n",
       "    <tr>\n",
       "      <td>57</td>\n",
       "      <td>-0.984074</td>\n",
       "      <td>division_US_Territories</td>\n",
       "    </tr>\n",
       "  </tbody>\n",
       "</table>\n",
       "<p>75 rows × 2 columns</p>\n",
       "</div>"
      ],
      "text/plain": [
       "    coefficients                                features\n",
       "35      1.344424                      race_Alaska_Native\n",
       "53      0.964959                       division_Mountain\n",
       "58      0.681342             division_West_North_Central\n",
       "6       0.582636                                  PCPFLG\n",
       "43      0.534430  psource_Alcohol_Drug_Care_Professional\n",
       "..           ...                                     ...\n",
       "70     -0.482592                        employ_Part_time\n",
       "68     -0.592550                        employ_Full_time\n",
       "10     -0.688233                                 STIMFLG\n",
       "55     -0.942245                        division_Pacific\n",
       "57     -0.984074                 division_US_Territories\n",
       "\n",
       "[75 rows x 2 columns]"
      ]
     },
     "execution_count": 13,
     "metadata": {},
     "output_type": "execute_result"
    }
   ],
   "source": [
    "# Create a data frame with coefficients\n",
    "logreg_coefs = pd.DataFrame(columns, list(logreg_model.coef_)).reset_index()\n",
    "logreg_coefs.columns = ['coefficients','features']\n",
    "logreg_coefs = logreg_coefs.sort_values(by='coefficients', ascending=False)\n",
    "logreg_coefs"
   ]
  },
  {
   "cell_type": "code",
   "execution_count": 14,
   "metadata": {},
   "outputs": [
    {
     "data": {
      "text/plain": [
       "0.04510915238682355"
      ]
     },
     "execution_count": 14,
     "metadata": {},
     "output_type": "execute_result"
    }
   ],
   "source": [
    "# Finding the mean coefficient\n",
    "logreg_coefs.coefficients.mean()"
   ]
  },
  {
   "cell_type": "code",
   "execution_count": 15,
   "metadata": {
    "scrolled": false
   },
   "outputs": [
    {
     "data": {
      "text/plain": [
       "<Figure size 1440x576 with 0 Axes>"
      ]
     },
     "execution_count": 15,
     "metadata": {},
     "output_type": "execute_result"
    },
    {
     "data": {
      "image/png": "[encoded data removed]",
      "text/plain": [
       "<Figure size 432x288 with 1 Axes>"
      ]
     },
     "metadata": {
      "needs_background": "light"
     },
     "output_type": "display_data"
    },
    {
     "data": {
      "text/plain": [
       "<Figure size 1440x576 with 0 Axes>"
      ]
     },
     "metadata": {},
     "output_type": "display_data"
    }
   ],
   "source": [
    "# Plotting logistic regression coefficients\n",
    "logreg_coefs.plot(kind='bar')\n",
    "plt.title('Model Coefficients', fontsize = 15)\n",
    "classes = logreg_coefs.loc[:,'features']\n",
    "tick_marks = np.arange(len(classes))\n",
    "plt.xticks(tick_marks, classes, rotation=90, fontsize = 5)\n",
    "plt.yticks(fontsize = 14)\n",
    "\n",
    "plt.tight_layout()\n",
    "plt.ylabel(\"Coefficient\",fontsize = 14)\n",
    "plt.xlabel(\"Features\",fontsize = 14)\n",
    "\n",
    "plt.ylim([-1, 1.5])\n",
    "plt.figure(figsize=(20,8))"
   ]
  },
  {
   "cell_type": "markdown",
   "metadata": {},
   "source": [
    "# Ridge Regression Model\n",
    "\n",
    "Below is an example of Ridge Regression. Regularization is being applied to penalize the coefficients to drive them towards zero. Ridge Regression is specified by \"penalty=0.2\" in the example below. This will decrease overfitting. With Ridge Regression coefficients can go close to zero but are never exactly zero.\n",
    "\n",
    "The lower C is, the higher the penalty and lower the coefficients are in your model."
   ]
  },
  {
   "cell_type": "markdown",
   "metadata": {},
   "source": [
    "## C = 0.2\n",
    "Below the C parameter in the Ridge Regression model is 0.2."
   ]
  },
  {
   "cell_type": "code",
   "execution_count": 16,
   "metadata": {},
   "outputs": [
    {
     "name": "stderr",
     "output_type": "stream",
     "text": [
      "/opt/anaconda3/lib/python3.7/site-packages/sklearn/linear_model/logistic.py:432: FutureWarning: Default solver will be changed to 'lbfgs' in 0.22. Specify a solver to silence this warning.\n",
      "  FutureWarning)\n"
     ]
    }
   ],
   "source": [
    "c_value = 0.2\n",
    "\n",
    "# Run ridge regression model with a c (regularization parameter) of 0.2\n",
    "ridge_model2 = LogisticRegression(penalty = 'l2', C = c_value)\n",
    "ridge_model2.fit(x_train, np.ravel(y_train, order='C'))\n",
    "valid_predict_ridge2 = ridge_model2.predict(x_validation)"
   ]
  },
  {
   "cell_type": "code",
   "execution_count": 17,
   "metadata": {},
   "outputs": [
    {
     "name": "stdout",
     "output_type": "stream",
     "text": [
      "              precision    recall  f1-score   support\n",
      "\n",
      "           0       0.67      0.52      0.59     19253\n",
      "           1       0.72      0.83      0.77     28747\n",
      "\n",
      "    accuracy                           0.71     48000\n",
      "   macro avg       0.70      0.67      0.68     48000\n",
      "weighted avg       0.70      0.71      0.70     48000\n",
      "\n",
      "\n",
      "Normalized confusion matrix\n",
      "\n"
     ]
    },
    {
     "data": {
      "image/png": "[encoded data removed]",
      "text/plain": [
       "<Figure size 720x360 with 2 Axes>"
      ]
     },
     "metadata": {
      "needs_background": "light"
     },
     "output_type": "display_data"
    }
   ],
   "source": [
    "# Print classification report\n",
    "print(classification_report(y_validation, valid_predict_ridge2))\n",
    "\n",
    "# Assign classes\n",
    "class_names = ['First', 'Two or More']\n",
    "\n",
    "# Compute confusion matrix\n",
    "cnf_matrix_ridge2 = confusion_matrix(y_validation, valid_predict_ridge2)\n",
    "np.set_printoptions(precision=2) # set NumPy to 2 decimal places\n",
    "\n",
    "# Plot normalized confusion matrix\n",
    "plt.figure(figsize=(10,5))\n",
    "plot_confusion_matrix(cnf_matrix_ridge2, classes=class_names, normalize=True,\n",
    "                      title='Normalized Confusion Matrix, Ridge Regression, C=0.2')\n",
    "\n",
    "# Results: Accuracy is 71%, but very bad accuracy for identifying first admission patients"
   ]
  },
  {
   "cell_type": "code",
   "execution_count": 18,
   "metadata": {
    "scrolled": true
   },
   "outputs": [
    {
     "data": {
      "text/html": [
       "<div>\n",
       "<style scoped>\n",
       "    .dataframe tbody tr th:only-of-type {\n",
       "        vertical-align: middle;\n",
       "    }\n",
       "\n",
       "    .dataframe tbody tr th {\n",
       "        vertical-align: top;\n",
       "    }\n",
       "\n",
       "    .dataframe thead th {\n",
       "        text-align: right;\n",
       "    }\n",
       "</style>\n",
       "<table border=\"1\" class=\"dataframe\">\n",
       "  <thead>\n",
       "    <tr style=\"text-align: right;\">\n",
       "      <th></th>\n",
       "      <th>coefficients</th>\n",
       "      <th>features</th>\n",
       "    </tr>\n",
       "  </thead>\n",
       "  <tbody>\n",
       "    <tr>\n",
       "      <td>35</td>\n",
       "      <td>1.230329</td>\n",
       "      <td>race_Alaska_Native</td>\n",
       "    </tr>\n",
       "    <tr>\n",
       "      <td>53</td>\n",
       "      <td>0.966074</td>\n",
       "      <td>division_Mountain</td>\n",
       "    </tr>\n",
       "    <tr>\n",
       "      <td>58</td>\n",
       "      <td>0.670283</td>\n",
       "      <td>division_West_North_Central</td>\n",
       "    </tr>\n",
       "    <tr>\n",
       "      <td>6</td>\n",
       "      <td>0.563900</td>\n",
       "      <td>PCPFLG</td>\n",
       "    </tr>\n",
       "    <tr>\n",
       "      <td>43</td>\n",
       "      <td>0.532893</td>\n",
       "      <td>psource_Alcohol_Drug_Care_Professional</td>\n",
       "    </tr>\n",
       "    <tr>\n",
       "      <td>...</td>\n",
       "      <td>...</td>\n",
       "      <td>...</td>\n",
       "    </tr>\n",
       "    <tr>\n",
       "      <td>70</td>\n",
       "      <td>-0.475537</td>\n",
       "      <td>employ_Part_time</td>\n",
       "    </tr>\n",
       "    <tr>\n",
       "      <td>68</td>\n",
       "      <td>-0.586483</td>\n",
       "      <td>employ_Full_time</td>\n",
       "    </tr>\n",
       "    <tr>\n",
       "      <td>10</td>\n",
       "      <td>-0.668094</td>\n",
       "      <td>STIMFLG</td>\n",
       "    </tr>\n",
       "    <tr>\n",
       "      <td>57</td>\n",
       "      <td>-0.924999</td>\n",
       "      <td>division_US_Territories</td>\n",
       "    </tr>\n",
       "    <tr>\n",
       "      <td>55</td>\n",
       "      <td>-0.925153</td>\n",
       "      <td>division_Pacific</td>\n",
       "    </tr>\n",
       "  </tbody>\n",
       "</table>\n",
       "<p>75 rows × 2 columns</p>\n",
       "</div>"
      ],
      "text/plain": [
       "    coefficients                                features\n",
       "35      1.230329                      race_Alaska_Native\n",
       "53      0.966074                       division_Mountain\n",
       "58      0.670283             division_West_North_Central\n",
       "6       0.563900                                  PCPFLG\n",
       "43      0.532893  psource_Alcohol_Drug_Care_Professional\n",
       "..           ...                                     ...\n",
       "70     -0.475537                        employ_Part_time\n",
       "68     -0.586483                        employ_Full_time\n",
       "10     -0.668094                                 STIMFLG\n",
       "57     -0.924999                 division_US_Territories\n",
       "55     -0.925153                        division_Pacific\n",
       "\n",
       "[75 rows x 2 columns]"
      ]
     },
     "execution_count": 18,
     "metadata": {},
     "output_type": "execute_result"
    }
   ],
   "source": [
    "# Create a data frame with coefficients\n",
    "ridge2_coefs = pd.DataFrame(columns, list(ridge_model2.coef_)).reset_index()\n",
    "ridge2_coefs.columns = ['coefficients','features']\n",
    "ridge2_coefs = ridge2_coefs.sort_values(by='coefficients', ascending=False)\n",
    "ridge2_coefs"
   ]
  },
  {
   "cell_type": "code",
   "execution_count": 19,
   "metadata": {},
   "outputs": [
    {
     "data": {
      "text/plain": [
       "0.0431375645611084"
      ]
     },
     "execution_count": 19,
     "metadata": {},
     "output_type": "execute_result"
    }
   ],
   "source": [
    "# Mean of all coefficients\n",
    "ridge2_coefs.coefficients.mean()"
   ]
  },
  {
   "cell_type": "code",
   "execution_count": 20,
   "metadata": {},
   "outputs": [
    {
     "data": {
      "text/plain": [
       "<Figure size 1440x576 with 0 Axes>"
      ]
     },
     "execution_count": 20,
     "metadata": {},
     "output_type": "execute_result"
    },
    {
     "data": {
      "image/png": "[encoded data removed]",
      "text/plain": [
       "<Figure size 432x288 with 1 Axes>"
      ]
     },
     "metadata": {
      "needs_background": "light"
     },
     "output_type": "display_data"
    },
    {
     "data": {
      "text/plain": [
       "<Figure size 1440x576 with 0 Axes>"
      ]
     },
     "metadata": {},
     "output_type": "display_data"
    }
   ],
   "source": [
    "# Plotting coefficients\n",
    "ridge2_coefs.plot(kind='bar')\n",
    "plt.title('Model Coefficients', fontsize = 15)\n",
    "classes = ridge2_coefs.loc[:,'features']\n",
    "tick_marks = np.arange(len(classes))\n",
    "plt.xticks(tick_marks, classes, rotation=90, fontsize = 5)\n",
    "plt.yticks(fontsize = 14)\n",
    "\n",
    "plt.tight_layout()\n",
    "plt.ylabel(\"Coefficient\",fontsize = 14)\n",
    "plt.xlabel(\"Features\",fontsize = 14)\n",
    "\n",
    "plt.ylim([-1, 1.5])\n",
    "plt.figure(figsize=(20,8))"
   ]
  },
  {
   "cell_type": "markdown",
   "metadata": {},
   "source": [
    "## C = 0.001\n",
    "Below the C parameter in the Ridge Regression model is 0.001."
   ]
  },
  {
   "cell_type": "code",
   "execution_count": 21,
   "metadata": {},
   "outputs": [
    {
     "name": "stderr",
     "output_type": "stream",
     "text": [
      "/opt/anaconda3/lib/python3.7/site-packages/sklearn/linear_model/logistic.py:432: FutureWarning: Default solver will be changed to 'lbfgs' in 0.22. Specify a solver to silence this warning.\n",
      "  FutureWarning)\n"
     ]
    }
   ],
   "source": [
    "# Run ridge regression model with a c (regularization parameter) of 0.001\n",
    "c_value = 0.001\n",
    "\n",
    "ridge_model001 = LogisticRegression(penalty = 'l2', C = c_value)\n",
    "ridge_model001.fit(x_train, np.ravel(y_train, order='C'))\n",
    "valid_predict_ridge001 = ridge_model001.predict(x_validation)"
   ]
  },
  {
   "cell_type": "code",
   "execution_count": 22,
   "metadata": {},
   "outputs": [
    {
     "name": "stdout",
     "output_type": "stream",
     "text": [
      "              precision    recall  f1-score   support\n",
      "\n",
      "           0       0.67      0.51      0.58     19253\n",
      "           1       0.72      0.83      0.77     28747\n",
      "\n",
      "    accuracy                           0.70     48000\n",
      "   macro avg       0.69      0.67      0.68     48000\n",
      "weighted avg       0.70      0.70      0.69     48000\n",
      "\n",
      "\n",
      "Normalized confusion matrix\n",
      "\n"
     ]
    },
    {
     "data": {
      "image/png": "[encoded data removed]",
      "text/plain": [
       "<Figure size 720x360 with 2 Axes>"
      ]
     },
     "metadata": {
      "needs_background": "light"
     },
     "output_type": "display_data"
    }
   ],
   "source": [
    "# Print classification report\n",
    "print(classification_report(y_validation, valid_predict_ridge001))\n",
    "\n",
    "# Assign classes\n",
    "class_names = ['First', 'Two or More']\n",
    "\n",
    "# Compute confusion matrix\n",
    "cnf_matrix_ridge001 = confusion_matrix(y_validation, valid_predict_ridge001)\n",
    "np.set_printoptions(precision=2) # set NumPy to 2 decimal places\n",
    "\n",
    "# Plot normalized confusion matrix\n",
    "plt.figure(figsize=(10,5))\n",
    "plot_confusion_matrix(cnf_matrix_ridge001, classes=class_names, normalize=True,\n",
    "                      title='Normalized Confusion Matrix, Ridge Regression, C=0.001')\n",
    "\n",
    "# Results: Accuracy is 70%, but very bad accuracy for identifying first admission patients"
   ]
  },
  {
   "cell_type": "code",
   "execution_count": 41,
   "metadata": {},
   "outputs": [
    {
     "data": {
      "text/html": [
       "<div>\n",
       "<style scoped>\n",
       "    .dataframe tbody tr th:only-of-type {\n",
       "        vertical-align: middle;\n",
       "    }\n",
       "\n",
       "    .dataframe tbody tr th {\n",
       "        vertical-align: top;\n",
       "    }\n",
       "\n",
       "    .dataframe thead th {\n",
       "        text-align: right;\n",
       "    }\n",
       "</style>\n",
       "<table border=\"1\" class=\"dataframe\">\n",
       "  <thead>\n",
       "    <tr style=\"text-align: right;\">\n",
       "      <th></th>\n",
       "      <th>coefficients</th>\n",
       "      <th>features</th>\n",
       "    </tr>\n",
       "  </thead>\n",
       "  <tbody>\n",
       "    <tr>\n",
       "      <td>53</td>\n",
       "      <td>0.694294</td>\n",
       "      <td>division_Mountain</td>\n",
       "    </tr>\n",
       "    <tr>\n",
       "      <td>58</td>\n",
       "      <td>0.336906</td>\n",
       "      <td>division_West_North_Central</td>\n",
       "    </tr>\n",
       "    <tr>\n",
       "      <td>27</td>\n",
       "      <td>0.329715</td>\n",
       "      <td>psyprob</td>\n",
       "    </tr>\n",
       "    <tr>\n",
       "      <td>3</td>\n",
       "      <td>0.312641</td>\n",
       "      <td>HERFLG</td>\n",
       "    </tr>\n",
       "    <tr>\n",
       "      <td>43</td>\n",
       "      <td>0.277009</td>\n",
       "      <td>psource_Alcohol_Drug_Care_Professional</td>\n",
       "    </tr>\n",
       "    <tr>\n",
       "      <td>34</td>\n",
       "      <td>0.256243</td>\n",
       "      <td>injection_drug_use</td>\n",
       "    </tr>\n",
       "    <tr>\n",
       "      <td>20</td>\n",
       "      <td>0.249511</td>\n",
       "      <td>NUMSUBS</td>\n",
       "    </tr>\n",
       "    <tr>\n",
       "      <td>66</td>\n",
       "      <td>0.213173</td>\n",
       "      <td>marstat_Never_Married</td>\n",
       "    </tr>\n",
       "    <tr>\n",
       "      <td>64</td>\n",
       "      <td>0.169129</td>\n",
       "      <td>marstat_Divorced_or_Widowed</td>\n",
       "    </tr>\n",
       "    <tr>\n",
       "      <td>23</td>\n",
       "      <td>0.167271</td>\n",
       "      <td>methadone_use</td>\n",
       "    </tr>\n",
       "    <tr>\n",
       "      <td>67</td>\n",
       "      <td>0.147495</td>\n",
       "      <td>marstat_Separated</td>\n",
       "    </tr>\n",
       "    <tr>\n",
       "      <td>1</td>\n",
       "      <td>0.146147</td>\n",
       "      <td>COKEFLG</td>\n",
       "    </tr>\n",
       "    <tr>\n",
       "      <td>36</td>\n",
       "      <td>0.143561</td>\n",
       "      <td>race_American_Indian</td>\n",
       "    </tr>\n",
       "    <tr>\n",
       "      <td>62</td>\n",
       "      <td>0.138246</td>\n",
       "      <td>services_Detox</td>\n",
       "    </tr>\n",
       "    <tr>\n",
       "      <td>26</td>\n",
       "      <td>0.117674</td>\n",
       "      <td>arrests</td>\n",
       "    </tr>\n",
       "    <tr>\n",
       "      <td>63</td>\n",
       "      <td>0.109275</td>\n",
       "      <td>services_Rehab_Residential</td>\n",
       "    </tr>\n",
       "    <tr>\n",
       "      <td>21</td>\n",
       "      <td>0.103648</td>\n",
       "      <td>age_group</td>\n",
       "    </tr>\n",
       "    <tr>\n",
       "      <td>73</td>\n",
       "      <td>0.080560</td>\n",
       "      <td>livarag_Homeless</td>\n",
       "    </tr>\n",
       "    <tr>\n",
       "      <td>33</td>\n",
       "      <td>0.072917</td>\n",
       "      <td>inhale_drug_use</td>\n",
       "    </tr>\n",
       "    <tr>\n",
       "      <td>11</td>\n",
       "      <td>0.070357</td>\n",
       "      <td>BENZFLG</td>\n",
       "    </tr>\n",
       "    <tr>\n",
       "      <td>6</td>\n",
       "      <td>0.059252</td>\n",
       "      <td>PCPFLG</td>\n",
       "    </tr>\n",
       "    <tr>\n",
       "      <td>24</td>\n",
       "      <td>0.051439</td>\n",
       "      <td>educ</td>\n",
       "    </tr>\n",
       "    <tr>\n",
       "      <td>35</td>\n",
       "      <td>0.045645</td>\n",
       "      <td>race_Alaska_Native</td>\n",
       "    </tr>\n",
       "    <tr>\n",
       "      <td>42</td>\n",
       "      <td>0.045525</td>\n",
       "      <td>race_White</td>\n",
       "    </tr>\n",
       "    <tr>\n",
       "      <td>19</td>\n",
       "      <td>0.041718</td>\n",
       "      <td>ALCDRUG</td>\n",
       "    </tr>\n",
       "    <tr>\n",
       "      <td>72</td>\n",
       "      <td>0.039843</td>\n",
       "      <td>livarag_Dependent_Living</td>\n",
       "    </tr>\n",
       "    <tr>\n",
       "      <td>32</td>\n",
       "      <td>0.037537</td>\n",
       "      <td>smoking_drug_use</td>\n",
       "    </tr>\n",
       "    <tr>\n",
       "      <td>0</td>\n",
       "      <td>0.034531</td>\n",
       "      <td>ALCFLG</td>\n",
       "    </tr>\n",
       "    <tr>\n",
       "      <td>74</td>\n",
       "      <td>0.031350</td>\n",
       "      <td>livarag_Independent_Living</td>\n",
       "    </tr>\n",
       "    <tr>\n",
       "      <td>50</td>\n",
       "      <td>0.025563</td>\n",
       "      <td>division_East_North_Central</td>\n",
       "    </tr>\n",
       "  </tbody>\n",
       "</table>\n",
       "</div>"
      ],
      "text/plain": [
       "    coefficients                                features\n",
       "53      0.694294                       division_Mountain\n",
       "58      0.336906             division_West_North_Central\n",
       "27      0.329715                                 psyprob\n",
       "3       0.312641                                  HERFLG\n",
       "43      0.277009  psource_Alcohol_Drug_Care_Professional\n",
       "34      0.256243                      injection_drug_use\n",
       "20      0.249511                                 NUMSUBS\n",
       "66      0.213173                   marstat_Never_Married\n",
       "64      0.169129             marstat_Divorced_or_Widowed\n",
       "23      0.167271                           methadone_use\n",
       "67      0.147495                       marstat_Separated\n",
       "1       0.146147                                 COKEFLG\n",
       "36      0.143561                    race_American_Indian\n",
       "62      0.138246                          services_Detox\n",
       "26      0.117674                                 arrests\n",
       "63      0.109275              services_Rehab_Residential\n",
       "21      0.103648                               age_group\n",
       "73      0.080560                        livarag_Homeless\n",
       "33      0.072917                         inhale_drug_use\n",
       "11      0.070357                                 BENZFLG\n",
       "6       0.059252                                  PCPFLG\n",
       "24      0.051439                                    educ\n",
       "35      0.045645                      race_Alaska_Native\n",
       "42      0.045525                              race_White\n",
       "19      0.041718                                 ALCDRUG\n",
       "72      0.039843                livarag_Dependent_Living\n",
       "32      0.037537                        smoking_drug_use\n",
       "0       0.034531                                  ALCFLG\n",
       "74      0.031350              livarag_Independent_Living\n",
       "50      0.025563             division_East_North_Central"
      ]
     },
     "execution_count": 41,
     "metadata": {},
     "output_type": "execute_result"
    }
   ],
   "source": [
    "# Create a data frame with coefficients\n",
    "ridge001_coefs = pd.DataFrame(columns, list(ridge_model001.coef_)).reset_index()\n",
    "ridge001_coefs.columns = ['coefficients','features']\n",
    "ridge001_coefs = ridge001_coefs.sort_values(by='coefficients', ascending=False)\n",
    "ridge001_coefs.iloc[0:30,:]"
   ]
  },
  {
   "cell_type": "code",
   "execution_count": 24,
   "metadata": {},
   "outputs": [
    {
     "data": {
      "text/plain": [
       "0.02114564965263451"
      ]
     },
     "execution_count": 24,
     "metadata": {},
     "output_type": "execute_result"
    }
   ],
   "source": [
    "# Mean coefficient value\n",
    "ridge001_coefs.coefficients.mean()"
   ]
  },
  {
   "cell_type": "code",
   "execution_count": 25,
   "metadata": {},
   "outputs": [
    {
     "data": {
      "text/plain": [
       "<Figure size 1440x576 with 0 Axes>"
      ]
     },
     "execution_count": 25,
     "metadata": {},
     "output_type": "execute_result"
    },
    {
     "data": {
      "image/png": "[encoded data removed]",
      "text/plain": [
       "<Figure size 432x288 with 1 Axes>"
      ]
     },
     "metadata": {
      "needs_background": "light"
     },
     "output_type": "display_data"
    },
    {
     "data": {
      "text/plain": [
       "<Figure size 1440x576 with 0 Axes>"
      ]
     },
     "metadata": {},
     "output_type": "display_data"
    }
   ],
   "source": [
    "# Plotting coefficients\n",
    "ridge001_coefs.plot(kind='bar')\n",
    "plt.title('Model Coefficients', fontsize = 15)\n",
    "classes = ridge001_coefs.loc[:,'features']\n",
    "tick_marks = np.arange(len(classes))\n",
    "plt.xticks(tick_marks, classes, rotation=90, fontsize = 5)\n",
    "plt.yticks(fontsize = 14)\n",
    "\n",
    "plt.tight_layout()\n",
    "plt.ylabel(\"Coefficient\",fontsize = 14)\n",
    "plt.xlabel(\"Features\",fontsize = 14)\n",
    "plt.ylim([-1, 1.5])\n",
    "\n",
    "plt.figure(figsize=(20,8))"
   ]
  },
  {
   "cell_type": "markdown",
   "metadata": {},
   "source": [
    "# Lasso Regression\n",
    "Below are examples of Lasso Regression. Lasso Regression is specified by the \"penalty='l1'\" in the model below. Regularization is being applied to penalize the coefficients to drive them to zero. This will decrease overfitting. Lasso Regression differs from Ridge Regression because it will drive features with low coefficients all the way to zero, removing them from the model all together. More information will be lost for less important features in Lasso versus Ridge Regression.\n",
    "\n",
    "The lower C is, the higher the penalty and lower the coefficients are in your model."
   ]
  },
  {
   "cell_type": "markdown",
   "metadata": {},
   "source": [
    "# C = 0.2\n",
    "Below is a Lasso Regression model with a C value of 0.2"
   ]
  },
  {
   "cell_type": "code",
   "execution_count": 26,
   "metadata": {},
   "outputs": [
    {
     "name": "stderr",
     "output_type": "stream",
     "text": [
      "/opt/anaconda3/lib/python3.7/site-packages/sklearn/linear_model/logistic.py:432: FutureWarning: Default solver will be changed to 'lbfgs' in 0.22. Specify a solver to silence this warning.\n",
      "  FutureWarning)\n"
     ]
    }
   ],
   "source": [
    "c_value = 0.2\n",
    "\n",
    "# Run lasso regression model with a c (regularization parameter) of 0.2\n",
    "lasso_model2 = LogisticRegression(penalty = 'l1', C = c_value)\n",
    "lasso_model2.fit(x_train, np.ravel(y_train, order='C'))\n",
    "valid_predict_lasso2 = lasso_model2.predict(x_validation)"
   ]
  },
  {
   "cell_type": "code",
   "execution_count": 27,
   "metadata": {},
   "outputs": [
    {
     "name": "stdout",
     "output_type": "stream",
     "text": [
      "              precision    recall  f1-score   support\n",
      "\n",
      "           0       0.67      0.52      0.59     19253\n",
      "           1       0.72      0.83      0.77     28747\n",
      "\n",
      "    accuracy                           0.71     48000\n",
      "   macro avg       0.70      0.67      0.68     48000\n",
      "weighted avg       0.70      0.71      0.70     48000\n",
      "\n",
      "\n",
      "Normalized confusion matrix\n",
      "\n"
     ]
    },
    {
     "data": {
      "image/png": "[encoded data removed]",
      "text/plain": [
       "<Figure size 720x360 with 2 Axes>"
      ]
     },
     "metadata": {
      "needs_background": "light"
     },
     "output_type": "display_data"
    }
   ],
   "source": [
    "# Print classification report\n",
    "print(classification_report(y_validation, valid_predict_lasso2))\n",
    "\n",
    "# Assign classes\n",
    "class_names = ['First', 'Two or More']\n",
    "\n",
    "# Compute confusion matrix\n",
    "cnf_matrix_lasso2 = confusion_matrix(y_validation, valid_predict_lasso2)\n",
    "np.set_printoptions(precision=2) # set NumPy to 2 decimal places\n",
    "\n",
    "# Plot normalized confusion matrix\n",
    "plt.figure(figsize=(10,5))\n",
    "plot_confusion_matrix(cnf_matrix_lasso2, classes=class_names, normalize=True,\n",
    "                      title='Normalized Confusion Matrix, Lasso Regression, C=0.2')\n",
    "\n",
    "# Results: Accuracy is 71%, but very bad accuracy for identifying first admission patients"
   ]
  },
  {
   "cell_type": "code",
   "execution_count": 42,
   "metadata": {},
   "outputs": [
    {
     "data": {
      "text/html": [
       "<div>\n",
       "<style scoped>\n",
       "    .dataframe tbody tr th:only-of-type {\n",
       "        vertical-align: middle;\n",
       "    }\n",
       "\n",
       "    .dataframe tbody tr th {\n",
       "        vertical-align: top;\n",
       "    }\n",
       "\n",
       "    .dataframe thead th {\n",
       "        text-align: right;\n",
       "    }\n",
       "</style>\n",
       "<table border=\"1\" class=\"dataframe\">\n",
       "  <thead>\n",
       "    <tr style=\"text-align: right;\">\n",
       "      <th></th>\n",
       "      <th>coefficients</th>\n",
       "      <th>features</th>\n",
       "    </tr>\n",
       "  </thead>\n",
       "  <tbody>\n",
       "    <tr>\n",
       "      <td>35</td>\n",
       "      <td>1.250688</td>\n",
       "      <td>race_Alaska_Native</td>\n",
       "    </tr>\n",
       "    <tr>\n",
       "      <td>53</td>\n",
       "      <td>1.126461</td>\n",
       "      <td>division_Mountain</td>\n",
       "    </tr>\n",
       "    <tr>\n",
       "      <td>58</td>\n",
       "      <td>0.585833</td>\n",
       "      <td>division_West_North_Central</td>\n",
       "    </tr>\n",
       "    <tr>\n",
       "      <td>6</td>\n",
       "      <td>0.540720</td>\n",
       "      <td>PCPFLG</td>\n",
       "    </tr>\n",
       "    <tr>\n",
       "      <td>43</td>\n",
       "      <td>0.522833</td>\n",
       "      <td>psource_Alcohol_Drug_Care_Professional</td>\n",
       "    </tr>\n",
       "    <tr>\n",
       "      <td>...</td>\n",
       "      <td>...</td>\n",
       "      <td>...</td>\n",
       "    </tr>\n",
       "    <tr>\n",
       "      <td>70</td>\n",
       "      <td>-0.461117</td>\n",
       "      <td>employ_Part_time</td>\n",
       "    </tr>\n",
       "    <tr>\n",
       "      <td>68</td>\n",
       "      <td>-0.572903</td>\n",
       "      <td>employ_Full_time</td>\n",
       "    </tr>\n",
       "    <tr>\n",
       "      <td>10</td>\n",
       "      <td>-0.655817</td>\n",
       "      <td>STIMFLG</td>\n",
       "    </tr>\n",
       "    <tr>\n",
       "      <td>55</td>\n",
       "      <td>-0.705503</td>\n",
       "      <td>division_Pacific</td>\n",
       "    </tr>\n",
       "    <tr>\n",
       "      <td>57</td>\n",
       "      <td>-1.249208</td>\n",
       "      <td>division_US_Territories</td>\n",
       "    </tr>\n",
       "  </tbody>\n",
       "</table>\n",
       "<p>75 rows × 2 columns</p>\n",
       "</div>"
      ],
      "text/plain": [
       "    coefficients                                features\n",
       "35      1.250688                      race_Alaska_Native\n",
       "53      1.126461                       division_Mountain\n",
       "58      0.585833             division_West_North_Central\n",
       "6       0.540720                                  PCPFLG\n",
       "43      0.522833  psource_Alcohol_Drug_Care_Professional\n",
       "..           ...                                     ...\n",
       "70     -0.461117                        employ_Part_time\n",
       "68     -0.572903                        employ_Full_time\n",
       "10     -0.655817                                 STIMFLG\n",
       "55     -0.705503                        division_Pacific\n",
       "57     -1.249208                 division_US_Territories\n",
       "\n",
       "[75 rows x 2 columns]"
      ]
     },
     "execution_count": 42,
     "metadata": {},
     "output_type": "execute_result"
    }
   ],
   "source": [
    "# Create a data frame with coefficients\n",
    "lasso2_coefs = pd.DataFrame(columns, list(lasso_model2.coef_)).reset_index()\n",
    "lasso2_coefs.columns = ['coefficients','features']\n",
    "lasso2_coefs = lasso2_coefs.sort_values(by='coefficients', ascending=False)\n",
    "lasso2_coefs"
   ]
  },
  {
   "cell_type": "code",
   "execution_count": 29,
   "metadata": {},
   "outputs": [
    {
     "data": {
      "text/plain": [
       "0.0299886425724353"
      ]
     },
     "execution_count": 29,
     "metadata": {},
     "output_type": "execute_result"
    }
   ],
   "source": [
    "# Mean of all coefficients\n",
    "lasso2_coefs.coefficients.mean()"
   ]
  },
  {
   "cell_type": "code",
   "execution_count": 30,
   "metadata": {},
   "outputs": [
    {
     "data": {
      "text/plain": [
       "<Figure size 1440x576 with 0 Axes>"
      ]
     },
     "execution_count": 30,
     "metadata": {},
     "output_type": "execute_result"
    },
    {
     "data": {
      "image/png": "[encoded data removed]",
      "text/plain": [
       "<Figure size 432x288 with 1 Axes>"
      ]
     },
     "metadata": {
      "needs_background": "light"
     },
     "output_type": "display_data"
    },
    {
     "data": {
      "text/plain": [
       "<Figure size 1440x576 with 0 Axes>"
      ]
     },
     "metadata": {},
     "output_type": "display_data"
    }
   ],
   "source": [
    "# Plotting coefficients\n",
    "lasso2_coefs.plot(kind='bar')\n",
    "plt.title('Model Coefficients', fontsize = 15)\n",
    "classes = lasso2_coefs.loc[:,'features']\n",
    "tick_marks = np.arange(len(classes))\n",
    "plt.xticks(tick_marks, classes, rotation=90, fontsize = 5)\n",
    "plt.yticks(fontsize = 14)\n",
    "\n",
    "plt.tight_layout()\n",
    "plt.ylabel(\"Coefficient\",fontsize = 14)\n",
    "plt.xlabel(\"Features\",fontsize = 14)\n",
    "\n",
    "plt.ylim([-1, 1.5])\n",
    "plt.figure(figsize=(20,8))"
   ]
  },
  {
   "cell_type": "markdown",
   "metadata": {},
   "source": [
    "## C = 0.001\n",
    "Below the C parameter in the Lasso Regression model is 0.001."
   ]
  },
  {
   "cell_type": "code",
   "execution_count": 31,
   "metadata": {},
   "outputs": [
    {
     "name": "stderr",
     "output_type": "stream",
     "text": [
      "/opt/anaconda3/lib/python3.7/site-packages/sklearn/linear_model/logistic.py:432: FutureWarning: Default solver will be changed to 'lbfgs' in 0.22. Specify a solver to silence this warning.\n",
      "  FutureWarning)\n"
     ]
    }
   ],
   "source": [
    "c_value = 0.001\n",
    "\n",
    "# Run lasso regression model with a c (regularization parameter) of 0.001\n",
    "lasso_model001 = LogisticRegression(penalty = 'l1', C = c_value)\n",
    "lasso_model001.fit(x_train, np.ravel(y_train, order='C'))\n",
    "valid_predict_lasso001 = lasso_model001.predict(x_validation)"
   ]
  },
  {
   "cell_type": "code",
   "execution_count": 32,
   "metadata": {},
   "outputs": [
    {
     "name": "stdout",
     "output_type": "stream",
     "text": [
      "              precision    recall  f1-score   support\n",
      "\n",
      "           0       0.66      0.48      0.55     19253\n",
      "           1       0.70      0.83      0.76     28747\n",
      "\n",
      "    accuracy                           0.69     48000\n",
      "   macro avg       0.68      0.66      0.66     48000\n",
      "weighted avg       0.69      0.69      0.68     48000\n",
      "\n",
      "\n",
      "Normalized confusion matrix\n",
      "\n"
     ]
    },
    {
     "data": {
      "image/png": "[encoded data removed]",
      "text/plain": [
       "<Figure size 720x360 with 2 Axes>"
      ]
     },
     "metadata": {
      "needs_background": "light"
     },
     "output_type": "display_data"
    }
   ],
   "source": [
    "# Print classification report\n",
    "print(classification_report(y_validation, valid_predict_lasso001))\n",
    "\n",
    "# Assign classes\n",
    "class_names = ['First', 'Two or More']\n",
    "\n",
    "# Compute confusion matrix\n",
    "cnf_matrix_lasso001 = confusion_matrix(y_validation, valid_predict_lasso001)\n",
    "np.set_printoptions(precision=2) # set NumPy to 2 decimal places\n",
    "\n",
    "# Plot normalized confusion matrix\n",
    "plt.figure(figsize=(10,5))\n",
    "plot_confusion_matrix(cnf_matrix_lasso001, classes=class_names, normalize=True,\n",
    "                      title='Normalized Confusion Matrix, Lasso Regression, C=0.001')\n",
    "\n",
    "# Results: Accuracy is 69%, but very bad accuracy for identifying first admission patients"
   ]
  },
  {
   "cell_type": "code",
   "execution_count": 40,
   "metadata": {},
   "outputs": [
    {
     "data": {
      "text/html": [
       "<div>\n",
       "<style scoped>\n",
       "    .dataframe tbody tr th:only-of-type {\n",
       "        vertical-align: middle;\n",
       "    }\n",
       "\n",
       "    .dataframe tbody tr th {\n",
       "        vertical-align: top;\n",
       "    }\n",
       "\n",
       "    .dataframe thead th {\n",
       "        text-align: right;\n",
       "    }\n",
       "</style>\n",
       "<table border=\"1\" class=\"dataframe\">\n",
       "  <thead>\n",
       "    <tr style=\"text-align: right;\">\n",
       "      <th></th>\n",
       "      <th>coefficients</th>\n",
       "      <th>features</th>\n",
       "    </tr>\n",
       "  </thead>\n",
       "  <tbody>\n",
       "    <tr>\n",
       "      <td>53</td>\n",
       "      <td>0.787206</td>\n",
       "      <td>division_Mountain</td>\n",
       "    </tr>\n",
       "    <tr>\n",
       "      <td>20</td>\n",
       "      <td>0.306137</td>\n",
       "      <td>NUMSUBS</td>\n",
       "    </tr>\n",
       "    <tr>\n",
       "      <td>3</td>\n",
       "      <td>0.294526</td>\n",
       "      <td>HERFLG</td>\n",
       "    </tr>\n",
       "    <tr>\n",
       "      <td>27</td>\n",
       "      <td>0.254061</td>\n",
       "      <td>psyprob</td>\n",
       "    </tr>\n",
       "    <tr>\n",
       "      <td>34</td>\n",
       "      <td>0.152426</td>\n",
       "      <td>injection_drug_use</td>\n",
       "    </tr>\n",
       "    <tr>\n",
       "      <td>21</td>\n",
       "      <td>0.123201</td>\n",
       "      <td>age_group</td>\n",
       "    </tr>\n",
       "    <tr>\n",
       "      <td>66</td>\n",
       "      <td>0.109107</td>\n",
       "      <td>marstat_Never_Married</td>\n",
       "    </tr>\n",
       "    <tr>\n",
       "      <td>58</td>\n",
       "      <td>0.094121</td>\n",
       "      <td>division_West_North_Central</td>\n",
       "    </tr>\n",
       "    <tr>\n",
       "      <td>24</td>\n",
       "      <td>0.029675</td>\n",
       "      <td>educ</td>\n",
       "    </tr>\n",
       "    <tr>\n",
       "      <td>50</td>\n",
       "      <td>0.000000</td>\n",
       "      <td>division_East_North_Central</td>\n",
       "    </tr>\n",
       "    <tr>\n",
       "      <td>52</td>\n",
       "      <td>0.000000</td>\n",
       "      <td>division_Mid_Atlantic</td>\n",
       "    </tr>\n",
       "    <tr>\n",
       "      <td>51</td>\n",
       "      <td>0.000000</td>\n",
       "      <td>division_East_South_Central</td>\n",
       "    </tr>\n",
       "    <tr>\n",
       "      <td>0</td>\n",
       "      <td>0.000000</td>\n",
       "      <td>ALCFLG</td>\n",
       "    </tr>\n",
       "    <tr>\n",
       "      <td>49</td>\n",
       "      <td>0.000000</td>\n",
       "      <td>psource_Self_referral</td>\n",
       "    </tr>\n",
       "    <tr>\n",
       "      <td>54</td>\n",
       "      <td>0.000000</td>\n",
       "      <td>division_New_England</td>\n",
       "    </tr>\n",
       "    <tr>\n",
       "      <td>47</td>\n",
       "      <td>0.000000</td>\n",
       "      <td>psource_Other_Health_Care_Professional</td>\n",
       "    </tr>\n",
       "    <tr>\n",
       "      <td>46</td>\n",
       "      <td>0.000000</td>\n",
       "      <td>psource_Employer_Referral</td>\n",
       "    </tr>\n",
       "    <tr>\n",
       "      <td>45</td>\n",
       "      <td>0.000000</td>\n",
       "      <td>psource_Court_Referral</td>\n",
       "    </tr>\n",
       "    <tr>\n",
       "      <td>44</td>\n",
       "      <td>0.000000</td>\n",
       "      <td>psource_Community_Referral</td>\n",
       "    </tr>\n",
       "    <tr>\n",
       "      <td>43</td>\n",
       "      <td>0.000000</td>\n",
       "      <td>psource_Alcohol_Drug_Care_Professional</td>\n",
       "    </tr>\n",
       "    <tr>\n",
       "      <td>42</td>\n",
       "      <td>0.000000</td>\n",
       "      <td>race_White</td>\n",
       "    </tr>\n",
       "    <tr>\n",
       "      <td>48</td>\n",
       "      <td>0.000000</td>\n",
       "      <td>psource_School_Referral</td>\n",
       "    </tr>\n",
       "    <tr>\n",
       "      <td>55</td>\n",
       "      <td>0.000000</td>\n",
       "      <td>division_Pacific</td>\n",
       "    </tr>\n",
       "    <tr>\n",
       "      <td>40</td>\n",
       "      <td>0.000000</td>\n",
       "      <td>race_Other_race</td>\n",
       "    </tr>\n",
       "    <tr>\n",
       "      <td>57</td>\n",
       "      <td>0.000000</td>\n",
       "      <td>division_US_Territories</td>\n",
       "    </tr>\n",
       "    <tr>\n",
       "      <td>59</td>\n",
       "      <td>0.000000</td>\n",
       "      <td>division_West_South_Central</td>\n",
       "    </tr>\n",
       "    <tr>\n",
       "      <td>60</td>\n",
       "      <td>0.000000</td>\n",
       "      <td>ethnic_1</td>\n",
       "    </tr>\n",
       "    <tr>\n",
       "      <td>62</td>\n",
       "      <td>0.000000</td>\n",
       "      <td>services_Detox</td>\n",
       "    </tr>\n",
       "    <tr>\n",
       "      <td>63</td>\n",
       "      <td>0.000000</td>\n",
       "      <td>services_Rehab_Residential</td>\n",
       "    </tr>\n",
       "    <tr>\n",
       "      <td>64</td>\n",
       "      <td>0.000000</td>\n",
       "      <td>marstat_Divorced_or_Widowed</td>\n",
       "    </tr>\n",
       "  </tbody>\n",
       "</table>\n",
       "</div>"
      ],
      "text/plain": [
       "    coefficients                                features\n",
       "53      0.787206                       division_Mountain\n",
       "20      0.306137                                 NUMSUBS\n",
       "3       0.294526                                  HERFLG\n",
       "27      0.254061                                 psyprob\n",
       "34      0.152426                      injection_drug_use\n",
       "21      0.123201                               age_group\n",
       "66      0.109107                   marstat_Never_Married\n",
       "58      0.094121             division_West_North_Central\n",
       "24      0.029675                                    educ\n",
       "50      0.000000             division_East_North_Central\n",
       "52      0.000000                   division_Mid_Atlantic\n",
       "51      0.000000             division_East_South_Central\n",
       "0       0.000000                                  ALCFLG\n",
       "49      0.000000                   psource_Self_referral\n",
       "54      0.000000                    division_New_England\n",
       "47      0.000000  psource_Other_Health_Care_Professional\n",
       "46      0.000000               psource_Employer_Referral\n",
       "45      0.000000                  psource_Court_Referral\n",
       "44      0.000000              psource_Community_Referral\n",
       "43      0.000000  psource_Alcohol_Drug_Care_Professional\n",
       "42      0.000000                              race_White\n",
       "48      0.000000                 psource_School_Referral\n",
       "55      0.000000                        division_Pacific\n",
       "40      0.000000                         race_Other_race\n",
       "57      0.000000                 division_US_Territories\n",
       "59      0.000000             division_West_South_Central\n",
       "60      0.000000                                ethnic_1\n",
       "62      0.000000                          services_Detox\n",
       "63      0.000000              services_Rehab_Residential\n",
       "64      0.000000             marstat_Divorced_or_Widowed"
      ]
     },
     "execution_count": 40,
     "metadata": {},
     "output_type": "execute_result"
    }
   ],
   "source": [
    "# Create a data frame with coefficients\n",
    "lasso001_coefs = pd.DataFrame(columns, list(lasso_model001.coef_)).reset_index()\n",
    "lasso001_coefs.columns = ['coefficients','features']\n",
    "lasso001_coefs = lasso001_coefs.sort_values(by='coefficients', ascending=False)\n",
    "lasso001_coefs.iloc[0:30,:]"
   ]
  },
  {
   "cell_type": "code",
   "execution_count": 34,
   "metadata": {},
   "outputs": [
    {
     "data": {
      "text/plain": [
       "0.022030858595114854"
      ]
     },
     "execution_count": 34,
     "metadata": {},
     "output_type": "execute_result"
    }
   ],
   "source": [
    "# Mean of all coefficients\n",
    "lasso001_coefs.coefficients.mean()"
   ]
  },
  {
   "cell_type": "code",
   "execution_count": 35,
   "metadata": {},
   "outputs": [
    {
     "data": {
      "text/plain": [
       "<Figure size 1440x576 with 0 Axes>"
      ]
     },
     "execution_count": 35,
     "metadata": {},
     "output_type": "execute_result"
    },
    {
     "data": {
      "image/png": "[encoded data removed]",
      "text/plain": [
       "<Figure size 432x288 with 1 Axes>"
      ]
     },
     "metadata": {
      "needs_background": "light"
     },
     "output_type": "display_data"
    },
    {
     "data": {
      "text/plain": [
       "<Figure size 1440x576 with 0 Axes>"
      ]
     },
     "metadata": {},
     "output_type": "display_data"
    }
   ],
   "source": [
    "# Plotting coefficients\n",
    "lasso001_coefs.plot(kind='bar')\n",
    "plt.title('Model Coefficients', fontsize = 15)\n",
    "classes = lasso001_coefs.loc[:,'features']\n",
    "tick_marks = np.arange(len(classes))\n",
    "plt.xticks(tick_marks, classes, rotation=90, fontsize = 5)\n",
    "plt.yticks(fontsize = 14)\n",
    "\n",
    "plt.tight_layout()\n",
    "plt.ylabel(\"Coefficient\",fontsize = 14)\n",
    "plt.xlabel(\"Features\",fontsize = 14)\n",
    "\n",
    "plt.ylim([-1, 1.5])\n",
    "plt.figure(figsize=(20,8))"
   ]
  },
  {
   "cell_type": "code",
   "execution_count": 36,
   "metadata": {},
   "outputs": [
    {
     "data": {
      "text/plain": [
       "<Figure size 1440x576 with 0 Axes>"
      ]
     },
     "execution_count": 36,
     "metadata": {},
     "output_type": "execute_result"
    },
    {
     "data": {
      "image/png": "[encoded data removed]",
      "text/plain": [
       "<Figure size 432x288 with 1 Axes>"
      ]
     },
     "metadata": {
      "needs_background": "light"
     },
     "output_type": "display_data"
    },
    {
     "data": {
      "text/plain": [
       "<Figure size 1440x576 with 0 Axes>"
      ]
     },
     "metadata": {},
     "output_type": "display_data"
    }
   ],
   "source": [
    "# Building and printing ROC curves for all final models\n",
    "classes = ['First', 'Two or More']\n",
    "\n",
    "# Logistic Regression\n",
    "logreg_probs = logreg_model.predict_proba(x_validation)\n",
    "logreg_probs = logreg_probs[:, 1]\n",
    "\n",
    "# Ridge Regression, C=0.2\n",
    "ridge2_probs = ridge_model2.predict_proba(x_validation)\n",
    "ridge2_probs = ridge2_probs[:, 1]\n",
    "\n",
    "# Ridge Regression, C=0.001    \n",
    "ridge001_probs = ridge_model001.predict_proba(x_validation)\n",
    "ridge001_probs = ridge001_probs[:, 1]\n",
    "\n",
    "# Lasso Regression, C=0.2\n",
    "lasso2_probs = lasso_model2.predict_proba(x_validation)\n",
    "lasso2_probs = lasso2_probs[:, 1]\n",
    "\n",
    "# Lasso Regression, C=0.001 \n",
    "lasso001_probs = lasso_model001.predict_proba(x_validation)\n",
    "lasso001_probs = lasso001_probs[:, 1]\n",
    "\n",
    "fpr, tpr, thresh = metrics.roc_curve(y_validation, logreg_probs)\n",
    "auc = metrics.roc_auc_score(y_validation, logreg_probs)\n",
    "np.set_printoptions(precision=2)\n",
    "plt.plot(fpr,tpr,label=\"Logistic Regression, auc=\"+str(round(auc, 2)), color = 'red')\n",
    "\n",
    "fpr, tpr, thresh = metrics.roc_curve(y_validation, ridge2_probs)\n",
    "auc = metrics.roc_auc_score(y_validation, ridge2_probs)\n",
    "np.set_printoptions(precision=2)\n",
    "plt.plot(fpr,tpr,label=\"Ridge Regression, C=0.2, auc=\"+str(round(auc, 2)), color = 'blue')\n",
    "\n",
    "fpr, tpr, thresh = metrics.roc_curve(y_validation, ridge001_probs)\n",
    "auc = metrics.roc_auc_score(y_validation, ridge001_probs)\n",
    "np.set_printoptions(precision=2)\n",
    "plt.plot(fpr,tpr,label=\"Ridge Regression, C=0.001, auc=\"+str(round(auc, 2)), color = 'darkorchid')\n",
    "\n",
    "fpr, tpr, thresh = metrics.roc_curve(y_validation, lasso2_probs)\n",
    "auc = metrics.roc_auc_score(y_validation, lasso2_probs)\n",
    "np.set_printoptions(precision=2)\n",
    "plt.plot(fpr,tpr,label=\"Lasso Regression, C=0.2, auc=\"+str(round(auc, 2)), color = 'gold')\n",
    "\n",
    "fpr, tpr, thresh = metrics.roc_curve(y_validation, lasso001_probs)\n",
    "auc = metrics.roc_auc_score(y_validation, lasso001_probs)\n",
    "np.set_printoptions(precision=2)\n",
    "plt.plot(fpr,tpr,label=\"Lasso Regression, C=0.001, auc=\"+str(round(auc, 2)), color = 'green')\n",
    "\n",
    "plt.figure(figsize=(20,8))"
   ]
  },
  {
   "cell_type": "code",
   "execution_count": null,
   "metadata": {},
   "outputs": [],
   "source": []
  }
 ],
 "metadata": {
  "kernelspec": {
   "display_name": "Python 3",
   "language": "python",
   "name": "python3"
  },
  "language_info": {
   "codemirror_mode": {
    "name": "ipython",
    "version": 3
   },
   "file_extension": ".py",
   "mimetype": "text/x-python",
   "name": "python",
   "nbconvert_exporter": "python",
   "pygments_lexer": "ipython3",
   "version": "3.7.4"
  }
 },
 "nbformat": 4,
 "nbformat_minor": 2
}
