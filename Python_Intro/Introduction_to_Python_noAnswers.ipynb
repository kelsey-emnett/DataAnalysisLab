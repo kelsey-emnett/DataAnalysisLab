{
 "cells": [
  {
   "cell_type": "markdown",
   "metadata": {},
   "source": [
    "### Importing packages\n",
    "You have to **install** packages once. This is done in the anaconda prompt (terminal). See instructions here: https://docs.anaconda.com/anaconda/user-guide/tasks/install-packages/\n",
    "\n",
    "You have to **import** packages every time you open a new notebook. See the cell below. \n",
    "- You can import the entire package like done for import pandas which will install subpackages\n",
    "- You can shorten the name of packages, which will be referenced frequently throughout your code by adding \"as shortened_name\" after your import of the packages\n",
    "- You can also import subsets of entire packages as done in the final line where matplotlib.pyplot is imported"
   ]
  },
  {
   "cell_type": "markdown",
   "metadata": {},
   "source": [
    "#### Managing packages with static environments is a best practice in data science. To learn how to do this see my class here: https://kelseyemnett.com/2021/02/07/python-environments/"
   ]
  },
  {
   "cell_type": "code",
   "execution_count": 1,
   "metadata": {},
   "outputs": [],
   "source": [
    "# To install packages on Anaconda, see this link: https://docs.anaconda.com/anaconda/user-guide/tasks/install-packages/\n",
    "import pandas as pd\n",
    "import numpy as np\n",
    "import os\n",
    "import matplotlib.pyplot as plt"
   ]
  },
  {
   "cell_type": "markdown",
   "metadata": {},
   "source": [
    "### Setting your working directory\n",
    "Setting your working directory below will set a default location for all files to be imported and exported into and out of. Make sure to import the os package (previous cell) first!"
   ]
  },
  {
   "cell_type": "code",
   "execution_count": 2,
   "metadata": {},
   "outputs": [
    {
     "name": "stdout",
     "output_type": "stream",
     "text": [
      "/Users/kelsey.huntzberry/Documents/Mentorship/Intro/Python_Intro\n"
     ]
    }
   ],
   "source": [
    "# Set working directory\n",
    "os.chdir(\"/Users/kelsey.huntzberry/Documents/Mentorship/Intro/Python_Intro\")\n",
    "print(os.getcwd())"
   ]
  },
  {
   "cell_type": "markdown",
   "metadata": {},
   "source": [
    "### Read in csv data\n",
    "Below I am reading a csv into this notebook. NOTE: I recommend using encoding='latin', because without it if there are symbols that are not unicode compliant in your spreadsheet, the .csv file will not read in and error out."
   ]
  },
  {
   "cell_type": "code",
   "execution_count": 3,
   "metadata": {},
   "outputs": [],
   "source": [
    "# Read in data\n",
    "prescribe_data = pd.read_csv('state_prescribe_overdose_data.csv', encoding='latin')\n",
    "pres_data_county = pd.read_csv('county_prescribing_rates_data.csv', encoding='latin')\n",
    "census_data = pd.read_csv('US_census_data.csv', encoding='latin')"
   ]
  },
  {
   "cell_type": "markdown",
   "metadata": {},
   "source": [
    "### Get \"bird's eye view\" of the data\n",
    "You can see below how to see the first 5 rows of your Pandas dataframe. Add n=10 inside parentheses to see 10 rows instead of 5! The next cells shows how to see the last 5 rows of your dataframe."
   ]
  },
  {
   "cell_type": "code",
   "execution_count": 4,
   "metadata": {
    "scrolled": true
   },
   "outputs": [
    {
     "data": {
      "text/html": [
       "<div>\n",
       "<style scoped>\n",
       "    .dataframe tbody tr th:only-of-type {\n",
       "        vertical-align: middle;\n",
       "    }\n",
       "\n",
       "    .dataframe tbody tr th {\n",
       "        vertical-align: top;\n",
       "    }\n",
       "\n",
       "    .dataframe thead th {\n",
       "        text-align: right;\n",
       "    }\n",
       "</style>\n",
       "<table border=\"1\" class=\"dataframe\">\n",
       "  <thead>\n",
       "    <tr style=\"text-align: right;\">\n",
       "      <th></th>\n",
       "      <th>state</th>\n",
       "      <th>prescribing_rate</th>\n",
       "      <th>year</th>\n",
       "      <th>state_abbr</th>\n",
       "      <th>region</th>\n",
       "      <th>overdose.rate</th>\n",
       "    </tr>\n",
       "  </thead>\n",
       "  <tbody>\n",
       "    <tr>\n",
       "      <td>0</td>\n",
       "      <td>Alabama</td>\n",
       "      <td>107.2</td>\n",
       "      <td>2017</td>\n",
       "      <td>AL</td>\n",
       "      <td>South</td>\n",
       "      <td>6.6</td>\n",
       "    </tr>\n",
       "    <tr>\n",
       "      <td>1</td>\n",
       "      <td>Alabama</td>\n",
       "      <td>121.0</td>\n",
       "      <td>2016</td>\n",
       "      <td>AL</td>\n",
       "      <td>South</td>\n",
       "      <td>5.0</td>\n",
       "    </tr>\n",
       "    <tr>\n",
       "      <td>2</td>\n",
       "      <td>Alabama</td>\n",
       "      <td>125.0</td>\n",
       "      <td>2015</td>\n",
       "      <td>AL</td>\n",
       "      <td>South</td>\n",
       "      <td>3.4</td>\n",
       "    </tr>\n",
       "    <tr>\n",
       "      <td>3</td>\n",
       "      <td>Alabama</td>\n",
       "      <td>135.2</td>\n",
       "      <td>2014</td>\n",
       "      <td>AL</td>\n",
       "      <td>South</td>\n",
       "      <td>3.3</td>\n",
       "    </tr>\n",
       "    <tr>\n",
       "      <td>4</td>\n",
       "      <td>Alabama</td>\n",
       "      <td>142.4</td>\n",
       "      <td>2013</td>\n",
       "      <td>AL</td>\n",
       "      <td>South</td>\n",
       "      <td>2.4</td>\n",
       "    </tr>\n",
       "  </tbody>\n",
       "</table>\n",
       "</div>"
      ],
      "text/plain": [
       "     state  prescribing_rate  year state_abbr region  overdose.rate\n",
       "0  Alabama             107.2  2017         AL  South            6.6\n",
       "1  Alabama             121.0  2016         AL  South            5.0\n",
       "2  Alabama             125.0  2015         AL  South            3.4\n",
       "3  Alabama             135.2  2014         AL  South            3.3\n",
       "4  Alabama             142.4  2013         AL  South            2.4"
      ]
     },
     "execution_count": 4,
     "metadata": {},
     "output_type": "execute_result"
    }
   ],
   "source": [
    "# See top 5 rows of data\n",
    "prescribe_data.head()"
   ]
  },
  {
   "cell_type": "code",
   "execution_count": 5,
   "metadata": {
    "scrolled": true
   },
   "outputs": [
    {
     "data": {
      "text/html": [
       "<div>\n",
       "<style scoped>\n",
       "    .dataframe tbody tr th:only-of-type {\n",
       "        vertical-align: middle;\n",
       "    }\n",
       "\n",
       "    .dataframe tbody tr th {\n",
       "        vertical-align: top;\n",
       "    }\n",
       "\n",
       "    .dataframe thead th {\n",
       "        text-align: right;\n",
       "    }\n",
       "</style>\n",
       "<table border=\"1\" class=\"dataframe\">\n",
       "  <thead>\n",
       "    <tr style=\"text-align: right;\">\n",
       "      <th></th>\n",
       "      <th>state</th>\n",
       "      <th>prescribing_rate</th>\n",
       "      <th>year</th>\n",
       "      <th>state_abbr</th>\n",
       "      <th>region</th>\n",
       "      <th>overdose.rate</th>\n",
       "    </tr>\n",
       "  </thead>\n",
       "  <tbody>\n",
       "    <tr>\n",
       "      <td>607</td>\n",
       "      <td>Wyoming</td>\n",
       "      <td>80.4</td>\n",
       "      <td>2010</td>\n",
       "      <td>WY</td>\n",
       "      <td>West</td>\n",
       "      <td>6.4</td>\n",
       "    </tr>\n",
       "    <tr>\n",
       "      <td>608</td>\n",
       "      <td>Wyoming</td>\n",
       "      <td>81.0</td>\n",
       "      <td>2009</td>\n",
       "      <td>WY</td>\n",
       "      <td>West</td>\n",
       "      <td>4.3</td>\n",
       "    </tr>\n",
       "    <tr>\n",
       "      <td>609</td>\n",
       "      <td>Wyoming</td>\n",
       "      <td>81.0</td>\n",
       "      <td>2008</td>\n",
       "      <td>WY</td>\n",
       "      <td>West</td>\n",
       "      <td>5.3</td>\n",
       "    </tr>\n",
       "    <tr>\n",
       "      <td>610</td>\n",
       "      <td>Wyoming</td>\n",
       "      <td>80.8</td>\n",
       "      <td>2007</td>\n",
       "      <td>WY</td>\n",
       "      <td>West</td>\n",
       "      <td>NaN</td>\n",
       "    </tr>\n",
       "    <tr>\n",
       "      <td>611</td>\n",
       "      <td>Wyoming</td>\n",
       "      <td>79.9</td>\n",
       "      <td>2006</td>\n",
       "      <td>WY</td>\n",
       "      <td>West</td>\n",
       "      <td>NaN</td>\n",
       "    </tr>\n",
       "  </tbody>\n",
       "</table>\n",
       "</div>"
      ],
      "text/plain": [
       "       state  prescribing_rate  year state_abbr region  overdose.rate\n",
       "607  Wyoming              80.4  2010         WY   West            6.4\n",
       "608  Wyoming              81.0  2009         WY   West            4.3\n",
       "609  Wyoming              81.0  2008         WY   West            5.3\n",
       "610  Wyoming              80.8  2007         WY   West            NaN\n",
       "611  Wyoming              79.9  2006         WY   West            NaN"
      ]
     },
     "execution_count": 5,
     "metadata": {},
     "output_type": "execute_result"
    }
   ],
   "source": [
    "prescribe_data.tail()"
   ]
  },
  {
   "cell_type": "markdown",
   "metadata": {},
   "source": [
    "### See summary statistics easily\n",
    "Place .describe() after a dataframe to see basic summary statistics about all continuous columns in your dataframe."
   ]
  },
  {
   "cell_type": "code",
   "execution_count": 6,
   "metadata": {
    "scrolled": true
   },
   "outputs": [
    {
     "data": {
      "text/html": [
       "<div>\n",
       "<style scoped>\n",
       "    .dataframe tbody tr th:only-of-type {\n",
       "        vertical-align: middle;\n",
       "    }\n",
       "\n",
       "    .dataframe tbody tr th {\n",
       "        vertical-align: top;\n",
       "    }\n",
       "\n",
       "    .dataframe thead th {\n",
       "        text-align: right;\n",
       "    }\n",
       "</style>\n",
       "<table border=\"1\" class=\"dataframe\">\n",
       "  <thead>\n",
       "    <tr style=\"text-align: right;\">\n",
       "      <th></th>\n",
       "      <th>prescribing_rate</th>\n",
       "      <th>year</th>\n",
       "      <th>overdose.rate</th>\n",
       "    </tr>\n",
       "  </thead>\n",
       "  <tbody>\n",
       "    <tr>\n",
       "      <td>count</td>\n",
       "      <td>612.000000</td>\n",
       "      <td>612.000000</td>\n",
       "      <td>592.000000</td>\n",
       "    </tr>\n",
       "    <tr>\n",
       "      <td>mean</td>\n",
       "      <td>79.405392</td>\n",
       "      <td>2011.500000</td>\n",
       "      <td>6.805743</td>\n",
       "    </tr>\n",
       "    <tr>\n",
       "      <td>std</td>\n",
       "      <td>23.163919</td>\n",
       "      <td>3.454876</td>\n",
       "      <td>5.423637</td>\n",
       "    </tr>\n",
       "    <tr>\n",
       "      <td>min</td>\n",
       "      <td>28.500000</td>\n",
       "      <td>2006.000000</td>\n",
       "      <td>0.200000</td>\n",
       "    </tr>\n",
       "    <tr>\n",
       "      <td>25%</td>\n",
       "      <td>62.300000</td>\n",
       "      <td>2008.750000</td>\n",
       "      <td>3.500000</td>\n",
       "    </tr>\n",
       "    <tr>\n",
       "      <td>50%</td>\n",
       "      <td>77.200000</td>\n",
       "      <td>2011.500000</td>\n",
       "      <td>5.000000</td>\n",
       "    </tr>\n",
       "    <tr>\n",
       "      <td>75%</td>\n",
       "      <td>91.600000</td>\n",
       "      <td>2014.250000</td>\n",
       "      <td>7.900000</td>\n",
       "    </tr>\n",
       "    <tr>\n",
       "      <td>max</td>\n",
       "      <td>146.900000</td>\n",
       "      <td>2017.000000</td>\n",
       "      <td>43.100000</td>\n",
       "    </tr>\n",
       "  </tbody>\n",
       "</table>\n",
       "</div>"
      ],
      "text/plain": [
       "       prescribing_rate         year  overdose.rate\n",
       "count        612.000000   612.000000     592.000000\n",
       "mean          79.405392  2011.500000       6.805743\n",
       "std           23.163919     3.454876       5.423637\n",
       "min           28.500000  2006.000000       0.200000\n",
       "25%           62.300000  2008.750000       3.500000\n",
       "50%           77.200000  2011.500000       5.000000\n",
       "75%           91.600000  2014.250000       7.900000\n",
       "max          146.900000  2017.000000      43.100000"
      ]
     },
     "execution_count": 6,
     "metadata": {},
     "output_type": "execute_result"
    }
   ],
   "source": [
    "# Find summary statistics of all columns\n",
    "prescribe_data.describe()"
   ]
  },
  {
   "cell_type": "markdown",
   "metadata": {},
   "source": [
    "### Renaming columns\n",
    "- To rename columns in place in your current dataframe, .rename with the format {\"old_col_name\":\"new_col_name\"}\n",
    "- To create a *new* dataframe with a new name in your dataframe run the commented out code"
   ]
  },
  {
   "cell_type": "code",
   "execution_count": 7,
   "metadata": {},
   "outputs": [],
   "source": [
    "# Renaming columns in place\n",
    "prescribe_data.rename(columns={'overdose.rate':'overdose_rate'},inplace=True)\n",
    "# prescribe_data_new = prescribe_data.rename(columns={'overdose.rate':'overdose_rate'})"
   ]
  },
  {
   "cell_type": "markdown",
   "metadata": {},
   "source": [
    "### Printing column names of a dataframe in a list"
   ]
  },
  {
   "cell_type": "code",
   "execution_count": 8,
   "metadata": {
    "scrolled": true
   },
   "outputs": [
    {
     "data": {
      "text/plain": [
       "Index(['state', 'prescribing_rate', 'year', 'state_abbr', 'region',\n",
       "       'overdose_rate'],\n",
       "      dtype='object')"
      ]
     },
     "execution_count": 8,
     "metadata": {},
     "output_type": "execute_result"
    }
   ],
   "source": [
    "# Print column names\n",
    "prescribe_data.columns"
   ]
  },
  {
   "cell_type": "markdown",
   "metadata": {},
   "source": [
    "### Find summary statistic of one column\n",
    "As shown below, you should refer write the df.column_name followed by .mean(), .median(), or whatever summary statistic you want to find"
   ]
  },
  {
   "cell_type": "code",
   "execution_count": 9,
   "metadata": {},
   "outputs": [
    {
     "data": {
      "text/plain": [
       "79.40539215686273"
      ]
     },
     "execution_count": 9,
     "metadata": {},
     "output_type": "execute_result"
    }
   ],
   "source": [
    "# Find the mean of a single column\n",
    "prescribe_data.prescribing_rate.mean()"
   ]
  },
  {
   "cell_type": "code",
   "execution_count": 10,
   "metadata": {
    "scrolled": true
   },
   "outputs": [
    {
     "data": {
      "text/plain": [
       "77.2"
      ]
     },
     "execution_count": 10,
     "metadata": {},
     "output_type": "execute_result"
    }
   ],
   "source": [
    "prescribe_data.prescribing_rate.median()"
   ]
  },
  {
   "cell_type": "markdown",
   "metadata": {},
   "source": [
    "### Find number of rows by group\n",
    "Use the same structure as above except follow your column name with .value_counts() to see how many rows are in each group, in this case year."
   ]
  },
  {
   "cell_type": "code",
   "execution_count": 11,
   "metadata": {
    "scrolled": true
   },
   "outputs": [
    {
     "data": {
      "text/plain": [
       "2017    51\n",
       "2016    51\n",
       "2015    51\n",
       "2014    51\n",
       "2013    51\n",
       "2012    51\n",
       "2011    51\n",
       "2010    51\n",
       "2009    51\n",
       "2008    51\n",
       "2007    51\n",
       "2006    51\n",
       "Name: year, dtype: int64"
      ]
     },
     "execution_count": 11,
     "metadata": {},
     "output_type": "execute_result"
    }
   ],
   "source": [
    "# Count number of rows in each year\n",
    "prescribe_data.year.value_counts()"
   ]
  },
  {
   "cell_type": "code",
   "execution_count": 12,
   "metadata": {
    "scrolled": true
   },
   "outputs": [
    {
     "data": {
      "text/html": [
       "<div>\n",
       "<style scoped>\n",
       "    .dataframe tbody tr th:only-of-type {\n",
       "        vertical-align: middle;\n",
       "    }\n",
       "\n",
       "    .dataframe tbody tr th {\n",
       "        vertical-align: top;\n",
       "    }\n",
       "\n",
       "    .dataframe thead th {\n",
       "        text-align: right;\n",
       "    }\n",
       "</style>\n",
       "<table border=\"1\" class=\"dataframe\">\n",
       "  <thead>\n",
       "    <tr style=\"text-align: right;\">\n",
       "      <th></th>\n",
       "      <th>state</th>\n",
       "      <th>prescribing_rate</th>\n",
       "      <th>year</th>\n",
       "      <th>state_abbr</th>\n",
       "      <th>region</th>\n",
       "      <th>overdose_rate</th>\n",
       "    </tr>\n",
       "  </thead>\n",
       "  <tbody>\n",
       "    <tr>\n",
       "      <td>0</td>\n",
       "      <td>Alabama</td>\n",
       "      <td>107.2</td>\n",
       "      <td>2017</td>\n",
       "      <td>AL</td>\n",
       "      <td>South</td>\n",
       "      <td>6.6</td>\n",
       "    </tr>\n",
       "    <tr>\n",
       "      <td>1</td>\n",
       "      <td>Alabama</td>\n",
       "      <td>121.0</td>\n",
       "      <td>2016</td>\n",
       "      <td>AL</td>\n",
       "      <td>South</td>\n",
       "      <td>5.0</td>\n",
       "    </tr>\n",
       "    <tr>\n",
       "      <td>2</td>\n",
       "      <td>Alabama</td>\n",
       "      <td>125.0</td>\n",
       "      <td>2015</td>\n",
       "      <td>AL</td>\n",
       "      <td>South</td>\n",
       "      <td>3.4</td>\n",
       "    </tr>\n",
       "    <tr>\n",
       "      <td>3</td>\n",
       "      <td>Alabama</td>\n",
       "      <td>135.2</td>\n",
       "      <td>2014</td>\n",
       "      <td>AL</td>\n",
       "      <td>South</td>\n",
       "      <td>3.3</td>\n",
       "    </tr>\n",
       "    <tr>\n",
       "      <td>4</td>\n",
       "      <td>Alabama</td>\n",
       "      <td>142.4</td>\n",
       "      <td>2013</td>\n",
       "      <td>AL</td>\n",
       "      <td>South</td>\n",
       "      <td>2.4</td>\n",
       "    </tr>\n",
       "  </tbody>\n",
       "</table>\n",
       "</div>"
      ],
      "text/plain": [
       "     state  prescribing_rate  year state_abbr region  overdose_rate\n",
       "0  Alabama             107.2  2017         AL  South            6.6\n",
       "1  Alabama             121.0  2016         AL  South            5.0\n",
       "2  Alabama             125.0  2015         AL  South            3.4\n",
       "3  Alabama             135.2  2014         AL  South            3.3\n",
       "4  Alabama             142.4  2013         AL  South            2.4"
      ]
     },
     "execution_count": 12,
     "metadata": {},
     "output_type": "execute_result"
    }
   ],
   "source": [
    "prescribe_data.head()"
   ]
  },
  {
   "cell_type": "markdown",
   "metadata": {},
   "source": [
    "### Indexing in Python\n",
    "You index using [], .loc, and .iloc in Pandas. See this URL for an overview of indexing: https://www.geeksforgeeks.org/indexing-and-selecting-data-with-pandas/\n",
    "\n",
    "More information:\n",
    "- Indexing starts at 0 in Python, not 1!\n",
    "- Inside brackets when using iloc or loc, rows are listed first and columns are listed second (i.e. [rows, columns]\n",
    "- When you want to pull *all* rows or columns, place a colon (like seen below when pulling all rows) in the area where you want all of the values\n",
    "- When indexing by column names or row names, use .loc. When indexing by number, use .iloc.\n",
    "- When indexing **by number** the final number is **not inclusive**"
   ]
  },
  {
   "cell_type": "markdown",
   "metadata": {},
   "source": [
    "#### Selecting columns by name\n",
    "Below you can see how to select 3 specific columns by name (i.e. with .loc) and all rows in a Pandas dataframe. We are subsetting the data to just the state, year, and prescribing_rate columns. The colon : signifies all rows."
   ]
  },
  {
   "cell_type": "code",
   "execution_count": 13,
   "metadata": {},
   "outputs": [
    {
     "data": {
      "text/plain": [
       "Index(['state', 'prescribing_rate', 'year'], dtype='object')"
      ]
     },
     "execution_count": 13,
     "metadata": {},
     "output_type": "execute_result"
    }
   ],
   "source": [
    "# Select columns\n",
    "prescribe_df = prescribe_data.loc[:,['state','prescribing_rate','year']]\n",
    "prescribe_df.columns"
   ]
  },
  {
   "cell_type": "markdown",
   "metadata": {},
   "source": [
    "#### Selecting columns by number\n",
    "Below you can see perform the same task but with numbers instead of column names. Remember, indexing starts at 0 and the second number (i.e. 3) is not inclusive!"
   ]
  },
  {
   "cell_type": "code",
   "execution_count": 14,
   "metadata": {
    "scrolled": true
   },
   "outputs": [
    {
     "data": {
      "text/html": [
       "<div>\n",
       "<style scoped>\n",
       "    .dataframe tbody tr th:only-of-type {\n",
       "        vertical-align: middle;\n",
       "    }\n",
       "\n",
       "    .dataframe tbody tr th {\n",
       "        vertical-align: top;\n",
       "    }\n",
       "\n",
       "    .dataframe thead th {\n",
       "        text-align: right;\n",
       "    }\n",
       "</style>\n",
       "<table border=\"1\" class=\"dataframe\">\n",
       "  <thead>\n",
       "    <tr style=\"text-align: right;\">\n",
       "      <th></th>\n",
       "      <th>state</th>\n",
       "      <th>prescribing_rate</th>\n",
       "      <th>year</th>\n",
       "    </tr>\n",
       "  </thead>\n",
       "  <tbody>\n",
       "    <tr>\n",
       "      <td>0</td>\n",
       "      <td>Alabama</td>\n",
       "      <td>107.2</td>\n",
       "      <td>2017</td>\n",
       "    </tr>\n",
       "    <tr>\n",
       "      <td>1</td>\n",
       "      <td>Alabama</td>\n",
       "      <td>121.0</td>\n",
       "      <td>2016</td>\n",
       "    </tr>\n",
       "    <tr>\n",
       "      <td>2</td>\n",
       "      <td>Alabama</td>\n",
       "      <td>125.0</td>\n",
       "      <td>2015</td>\n",
       "    </tr>\n",
       "    <tr>\n",
       "      <td>3</td>\n",
       "      <td>Alabama</td>\n",
       "      <td>135.2</td>\n",
       "      <td>2014</td>\n",
       "    </tr>\n",
       "    <tr>\n",
       "      <td>4</td>\n",
       "      <td>Alabama</td>\n",
       "      <td>142.4</td>\n",
       "      <td>2013</td>\n",
       "    </tr>\n",
       "    <tr>\n",
       "      <td>...</td>\n",
       "      <td>...</td>\n",
       "      <td>...</td>\n",
       "      <td>...</td>\n",
       "    </tr>\n",
       "    <tr>\n",
       "      <td>607</td>\n",
       "      <td>Wyoming</td>\n",
       "      <td>80.4</td>\n",
       "      <td>2010</td>\n",
       "    </tr>\n",
       "    <tr>\n",
       "      <td>608</td>\n",
       "      <td>Wyoming</td>\n",
       "      <td>81.0</td>\n",
       "      <td>2009</td>\n",
       "    </tr>\n",
       "    <tr>\n",
       "      <td>609</td>\n",
       "      <td>Wyoming</td>\n",
       "      <td>81.0</td>\n",
       "      <td>2008</td>\n",
       "    </tr>\n",
       "    <tr>\n",
       "      <td>610</td>\n",
       "      <td>Wyoming</td>\n",
       "      <td>80.8</td>\n",
       "      <td>2007</td>\n",
       "    </tr>\n",
       "    <tr>\n",
       "      <td>611</td>\n",
       "      <td>Wyoming</td>\n",
       "      <td>79.9</td>\n",
       "      <td>2006</td>\n",
       "    </tr>\n",
       "  </tbody>\n",
       "</table>\n",
       "<p>612 rows × 3 columns</p>\n",
       "</div>"
      ],
      "text/plain": [
       "       state  prescribing_rate  year\n",
       "0    Alabama             107.2  2017\n",
       "1    Alabama             121.0  2016\n",
       "2    Alabama             125.0  2015\n",
       "3    Alabama             135.2  2014\n",
       "4    Alabama             142.4  2013\n",
       "..       ...               ...   ...\n",
       "607  Wyoming              80.4  2010\n",
       "608  Wyoming              81.0  2009\n",
       "609  Wyoming              81.0  2008\n",
       "610  Wyoming              80.8  2007\n",
       "611  Wyoming              79.9  2006\n",
       "\n",
       "[612 rows x 3 columns]"
      ]
     },
     "execution_count": 14,
     "metadata": {},
     "output_type": "execute_result"
    }
   ],
   "source": [
    "prescribe_data.iloc[:,0:3]"
   ]
  },
  {
   "cell_type": "markdown",
   "metadata": {},
   "source": [
    "### Dropping columns\n",
    "You can also specify specific columns to drop, while keeping all over columns"
   ]
  },
  {
   "cell_type": "code",
   "execution_count": 15,
   "metadata": {},
   "outputs": [
    {
     "data": {
      "text/plain": [
       "Index(['state', 'prescribing_rate', 'year', 'state_abbr', 'region'], dtype='object')"
      ]
     },
     "execution_count": 15,
     "metadata": {},
     "output_type": "execute_result"
    }
   ],
   "source": [
    "# Drop overdose_rate column\n",
    "overdose_df = prescribe_data.drop(columns=['overdose_rate'])\n",
    "overdose_df.columns"
   ]
  },
  {
   "cell_type": "markdown",
   "metadata": {},
   "source": [
    "### Summary statistics by group\n",
    "Use groupby() to find grouped summary statistics. Below putting the column names inside brackets specifies to only find the mean of the two listed columns inside the brackets and not any other columns."
   ]
  },
  {
   "cell_type": "code",
   "execution_count": 16,
   "metadata": {
    "scrolled": true
   },
   "outputs": [
    {
     "data": {
      "text/html": [
       "<div>\n",
       "<style scoped>\n",
       "    .dataframe tbody tr th:only-of-type {\n",
       "        vertical-align: middle;\n",
       "    }\n",
       "\n",
       "    .dataframe tbody tr th {\n",
       "        vertical-align: top;\n",
       "    }\n",
       "\n",
       "    .dataframe thead th {\n",
       "        text-align: right;\n",
       "    }\n",
       "</style>\n",
       "<table border=\"1\" class=\"dataframe\">\n",
       "  <thead>\n",
       "    <tr style=\"text-align: right;\">\n",
       "      <th></th>\n",
       "      <th>prescribing_rate</th>\n",
       "      <th>overdose_rate</th>\n",
       "    </tr>\n",
       "    <tr>\n",
       "      <th>region</th>\n",
       "      <th></th>\n",
       "      <th></th>\n",
       "    </tr>\n",
       "  </thead>\n",
       "  <tbody>\n",
       "    <tr>\n",
       "      <td>Midwest</td>\n",
       "      <td>72.907639</td>\n",
       "      <td>4.845113</td>\n",
       "    </tr>\n",
       "    <tr>\n",
       "      <td>Northeast</td>\n",
       "      <td>65.965741</td>\n",
       "      <td>8.232407</td>\n",
       "    </tr>\n",
       "    <tr>\n",
       "      <td>South</td>\n",
       "      <td>98.998958</td>\n",
       "      <td>7.663021</td>\n",
       "    </tr>\n",
       "    <tr>\n",
       "      <td>West</td>\n",
       "      <td>73.900000</td>\n",
       "      <td>6.218954</td>\n",
       "    </tr>\n",
       "  </tbody>\n",
       "</table>\n",
       "</div>"
      ],
      "text/plain": [
       "           prescribing_rate  overdose_rate\n",
       "region                                    \n",
       "Midwest           72.907639       4.845113\n",
       "Northeast         65.965741       8.232407\n",
       "South             98.998958       7.663021\n",
       "West              73.900000       6.218954"
      ]
     },
     "execution_count": 16,
     "metadata": {},
     "output_type": "execute_result"
    }
   ],
   "source": [
    "# Find mean prescribing rate and overdose rate\n",
    "prescribe_data.groupby('region')['prescribing_rate','overdose_rate'].mean()"
   ]
  },
  {
   "cell_type": "markdown",
   "metadata": {},
   "source": [
    "### Graphing with matplotlib\n",
    "Create a quick scatterplot to look for outliers. Use the structure **plt.scatter(df.x_column, df.y_column)**"
   ]
  },
  {
   "cell_type": "code",
   "execution_count": 17,
   "metadata": {
    "scrolled": true
   },
   "outputs": [
    {
     "data": {
      "text/plain": [
       "<matplotlib.collections.PathCollection at 0x7f968c4b6290>"
      ]
     },
     "execution_count": 17,
     "metadata": {},
     "output_type": "execute_result"
    },
    {
     "data": {
      "image/png": "[encoded data removed]",
      "text/plain": [
       "<Figure size 432x288 with 1 Axes>"
      ]
     },
     "metadata": {
      "needs_background": "light"
     },
     "output_type": "display_data"
    }
   ],
   "source": [
    "# Create quick scatter plot of prescribing rate and overdose rate\n",
    "plt.scatter(prescribe_data.prescribing_rate,prescribe_data.overdose_rate)"
   ]
  },
  {
   "cell_type": "markdown",
   "metadata": {},
   "source": [
    "### User-defined functions\n",
    "#### One Input\n",
    "The easiest way to create a new column using information from another column is to use a user-defined function and then the apply function to go through all rows. Use the following structure:\n",
    "\n",
    "def function_name(input_value):\n",
    "\n",
    "    function to complete\n",
    "    return value_to_return\n",
    "    \n",
    "Now we will use the apply function to create a new bucketed column with this structure:\n",
    "\n",
    "**df.loc[:, 'new_column'] = df.input_column_name(function_name)**"
   ]
  },
  {
   "cell_type": "markdown",
   "metadata": {},
   "source": [
    "### If/else statements\n",
    "You can create if/else statements in Python as follows;\n",
    "\n",
    "if *first statement returning in True/False*:\n",
    "    \n",
    "    do something\n",
    "    \n",
    "elif *second statement to be performed if first statement is not true*:\n",
    "    \n",
    "    do something\n",
    "    \n",
    "else: <- Only used if first two conditions are not True\n",
    "    \n",
    "    do something"
   ]
  },
  {
   "cell_type": "code",
   "execution_count": 18,
   "metadata": {},
   "outputs": [],
   "source": [
    "# Recode current variable to create a new variable with a user-defined function\n",
    "def high_low_prescribe(rate):\n",
    "    if rate > 79.40539215686273:\n",
    "        return 'high_prescribing'\n",
    "    else:\n",
    "        return 'low_prescribing'\n",
    "    \n",
    "prescribe_data.loc[:, 'high_low_prescribe'] = prescribe_data.prescribing_rate.apply(high_low_prescribe)"
   ]
  },
  {
   "cell_type": "code",
   "execution_count": 19,
   "metadata": {
    "scrolled": true
   },
   "outputs": [
    {
     "data": {
      "text/plain": [
       "low_prescribing     321\n",
       "high_prescribing    291\n",
       "Name: high_low_prescribe, dtype: int64"
      ]
     },
     "execution_count": 19,
     "metadata": {},
     "output_type": "execute_result"
    }
   ],
   "source": [
    "# Find number of values in the new created columns by value\n",
    "prescribe_data.high_low_prescribe.value_counts()"
   ]
  },
  {
   "cell_type": "markdown",
   "metadata": {},
   "source": [
    "#### Two Inputs\n",
    "Below shows how to create a user-defined function with two inputs instead of one.\n",
    "\n",
    "Specify two values in parentheses after new function name\n",
    "\n",
    "Change your apply function to accommodate two inputs with this structure:\n",
    "df.apply(lambda x: function_name(input1, input2), axis=1)\n",
    "- For input1 and input2, it can be a single value or a series. If it is a series use df.column_name.\n",
    "- axis=1 specifies that we want to apply the function to rows not columns"
   ]
  },
  {
   "cell_type": "code",
   "execution_count": 20,
   "metadata": {},
   "outputs": [],
   "source": [
    "# Showing how to recode variables to create new variables when there are two inputs to the user-defined function\n",
    "# Redoing the code above without hard coding the mean (avoiding hard coding is a best practice)\n",
    "mean_pres = prescribe_data.prescribing_rate.mean()\n",
    "\n",
    "# Recoding to mark high and low prescribing states\n",
    "def high_low_prescribe(rate, mean):\n",
    "    if rate > mean:\n",
    "        return 'high_prescribing'\n",
    "    else:\n",
    "        return 'low_prescribing'\n",
    "    \n",
    "prescribe_data.loc[:, 'high_low_prescribe'] = prescribe_data.apply(lambda x: high_low_prescribe(x.prescribing_rate, mean_pres), axis=1)"
   ]
  },
  {
   "cell_type": "code",
   "execution_count": 21,
   "metadata": {},
   "outputs": [],
   "source": [
    "# Recoding to mark high and low overdose states\n",
    "mean_od = prescribe_data.overdose_rate.mean()\n",
    "\n",
    "def high_low_overdose(rate, mean):\n",
    "    if rate > mean:\n",
    "        return 'high_overdoses'\n",
    "    else:\n",
    "        return 'low_overdoses'\n",
    "    \n",
    "prescribe_data.loc[:, 'high_low_overdoses'] = prescribe_data.apply(lambda x: high_low_overdose(x.overdose_rate, mean_od), axis=1)"
   ]
  },
  {
   "cell_type": "code",
   "execution_count": 22,
   "metadata": {},
   "outputs": [
    {
     "data": {
      "text/plain": [
       "low_prescribing     321\n",
       "high_prescribing    291\n",
       "Name: high_low_prescribe, dtype: int64"
      ]
     },
     "execution_count": 22,
     "metadata": {},
     "output_type": "execute_result"
    }
   ],
   "source": [
    "# Printing the number of values in each category to show it is the same as above\n",
    "prescribe_data.high_low_prescribe.value_counts()"
   ]
  },
  {
   "cell_type": "code",
   "execution_count": 23,
   "metadata": {},
   "outputs": [
    {
     "data": {
      "text/plain": [
       "low_overdoses     429\n",
       "high_overdoses    183\n",
       "Name: high_low_overdoses, dtype: int64"
      ]
     },
     "execution_count": 23,
     "metadata": {},
     "output_type": "execute_result"
    }
   ],
   "source": [
    "prescribe_data.high_low_overdoses.value_counts()"
   ]
  },
  {
   "cell_type": "code",
   "execution_count": 24,
   "metadata": {},
   "outputs": [
    {
     "data": {
      "text/plain": [
       "count    592.000000\n",
       "mean       6.805743\n",
       "std        5.423637\n",
       "min        0.200000\n",
       "25%        3.500000\n",
       "50%        5.000000\n",
       "75%        7.900000\n",
       "max       43.100000\n",
       "Name: overdose_rate, dtype: float64"
      ]
     },
     "execution_count": 24,
     "metadata": {},
     "output_type": "execute_result"
    }
   ],
   "source": [
    "prescribe_data.overdose_rate.describe()"
   ]
  },
  {
   "cell_type": "code",
   "execution_count": 25,
   "metadata": {},
   "outputs": [
    {
     "data": {
      "text/plain": [
       "(612, 8)"
      ]
     },
     "execution_count": 25,
     "metadata": {},
     "output_type": "execute_result"
    }
   ],
   "source": [
    "# Show number of rows and columns in the original dataframe\n",
    "prescribe_data.shape"
   ]
  },
  {
   "cell_type": "markdown",
   "metadata": {},
   "source": [
    "### Filtering dataframes\n",
    "Filter dataframe rows using indexing with the following structure:\n",
    "**df[df.column_to_filter_by == 'value']**"
   ]
  },
  {
   "cell_type": "markdown",
   "metadata": {},
   "source": [
    "### Getting number of rows and columns\n",
    "To get the number of rows and columns in a dataframe use **df.shape**. The output will be (# of rows, # of columns)."
   ]
  },
  {
   "cell_type": "code",
   "execution_count": 26,
   "metadata": {},
   "outputs": [
    {
     "data": {
      "text/plain": [
       "(291, 8)"
      ]
     },
     "execution_count": 26,
     "metadata": {},
     "output_type": "execute_result"
    }
   ],
   "source": [
    "# Filtering the prescribe_data dataframe to just include high prescribing states\n",
    "high_prescribing = prescribe_data[prescribe_data.high_low_prescribe == 'high_prescribing']\n",
    "# Printing the resulting dataframe's number of rows and columns\n",
    "high_prescribing.shape"
   ]
  },
  {
   "cell_type": "code",
   "execution_count": 27,
   "metadata": {},
   "outputs": [
    {
     "data": {
      "text/html": [
       "<div>\n",
       "<style scoped>\n",
       "    .dataframe tbody tr th:only-of-type {\n",
       "        vertical-align: middle;\n",
       "    }\n",
       "\n",
       "    .dataframe tbody tr th {\n",
       "        vertical-align: top;\n",
       "    }\n",
       "\n",
       "    .dataframe thead th {\n",
       "        text-align: right;\n",
       "    }\n",
       "</style>\n",
       "<table border=\"1\" class=\"dataframe\">\n",
       "  <thead>\n",
       "    <tr style=\"text-align: right;\">\n",
       "      <th></th>\n",
       "      <th>county</th>\n",
       "      <th>state_abbr</th>\n",
       "      <th>FIPS</th>\n",
       "      <th>prescribing_rate</th>\n",
       "      <th>year</th>\n",
       "      <th>rur_mic_metro</th>\n",
       "      <th>rural_metro</th>\n",
       "      <th>state</th>\n",
       "      <th>region</th>\n",
       "    </tr>\n",
       "  </thead>\n",
       "  <tbody>\n",
       "    <tr>\n",
       "      <td>0</td>\n",
       "      <td>Anchorage</td>\n",
       "      <td>AK</td>\n",
       "      <td>2020</td>\n",
       "      <td>71.5</td>\n",
       "      <td>2006</td>\n",
       "      <td>Metropolitan</td>\n",
       "      <td>Metropolitan</td>\n",
       "      <td>Alaska</td>\n",
       "      <td>West</td>\n",
       "    </tr>\n",
       "    <tr>\n",
       "      <td>1</td>\n",
       "      <td>Fairbanks North Star</td>\n",
       "      <td>AK</td>\n",
       "      <td>2090</td>\n",
       "      <td>54.7</td>\n",
       "      <td>2006</td>\n",
       "      <td>Metropolitan</td>\n",
       "      <td>Metropolitan</td>\n",
       "      <td>Alaska</td>\n",
       "      <td>West</td>\n",
       "    </tr>\n",
       "    <tr>\n",
       "      <td>2</td>\n",
       "      <td>Juneau</td>\n",
       "      <td>AK</td>\n",
       "      <td>2110</td>\n",
       "      <td>95.3</td>\n",
       "      <td>2006</td>\n",
       "      <td>Micropolitan</td>\n",
       "      <td>Rural</td>\n",
       "      <td>Alaska</td>\n",
       "      <td>West</td>\n",
       "    </tr>\n",
       "    <tr>\n",
       "      <td>3</td>\n",
       "      <td>Kenai Peninsula</td>\n",
       "      <td>AK</td>\n",
       "      <td>2122</td>\n",
       "      <td>89.1</td>\n",
       "      <td>2006</td>\n",
       "      <td>Micropolitan</td>\n",
       "      <td>Rural</td>\n",
       "      <td>Alaska</td>\n",
       "      <td>West</td>\n",
       "    </tr>\n",
       "    <tr>\n",
       "      <td>4</td>\n",
       "      <td>Ketchikan Gateway</td>\n",
       "      <td>AK</td>\n",
       "      <td>2130</td>\n",
       "      <td>144.4</td>\n",
       "      <td>2006</td>\n",
       "      <td>Micropolitan</td>\n",
       "      <td>Rural</td>\n",
       "      <td>Alaska</td>\n",
       "      <td>West</td>\n",
       "    </tr>\n",
       "  </tbody>\n",
       "</table>\n",
       "</div>"
      ],
      "text/plain": [
       "                 county state_abbr  FIPS  prescribing_rate  year  \\\n",
       "0             Anchorage         AK  2020              71.5  2006   \n",
       "1  Fairbanks North Star         AK  2090              54.7  2006   \n",
       "2                Juneau         AK  2110              95.3  2006   \n",
       "3       Kenai Peninsula         AK  2122              89.1  2006   \n",
       "4     Ketchikan Gateway         AK  2130             144.4  2006   \n",
       "\n",
       "  rur_mic_metro   rural_metro   state region  \n",
       "0  Metropolitan  Metropolitan  Alaska   West  \n",
       "1  Metropolitan  Metropolitan  Alaska   West  \n",
       "2  Micropolitan         Rural  Alaska   West  \n",
       "3  Micropolitan         Rural  Alaska   West  \n",
       "4  Micropolitan         Rural  Alaska   West  "
      ]
     },
     "execution_count": 27,
     "metadata": {},
     "output_type": "execute_result"
    }
   ],
   "source": [
    "pres_data_county.head()"
   ]
  },
  {
   "cell_type": "code",
   "execution_count": 28,
   "metadata": {},
   "outputs": [
    {
     "data": {
      "text/plain": [
       "Index(['state', 'prescribing_rate', 'year', 'state_abbr', 'region',\n",
       "       'overdose_rate', 'high_low_prescribe', 'high_low_overdoses'],\n",
       "      dtype='object')"
      ]
     },
     "execution_count": 28,
     "metadata": {},
     "output_type": "execute_result"
    }
   ],
   "source": [
    "prescribe_data.columns"
   ]
  },
  {
   "cell_type": "code",
   "execution_count": 29,
   "metadata": {},
   "outputs": [],
   "source": [
    "# Rename columns to mark which columns are state metrics for merge\n",
    "prescribe_data.rename(columns={'prescribing_rate':'pres_rate_state',\n",
    "                               'overdose_rate':'od_rate_state'},inplace=True)"
   ]
  },
  {
   "cell_type": "code",
   "execution_count": 30,
   "metadata": {},
   "outputs": [
    {
     "data": {
      "text/plain": [
       "Index(['state', 'pres_rate_state', 'year', 'state_abbr', 'region',\n",
       "       'od_rate_state', 'high_low_prescribe', 'high_low_overdoses'],\n",
       "      dtype='object')"
      ]
     },
     "execution_count": 30,
     "metadata": {},
     "output_type": "execute_result"
    }
   ],
   "source": [
    "prescribe_data.columns"
   ]
  },
  {
   "cell_type": "code",
   "execution_count": 31,
   "metadata": {},
   "outputs": [
    {
     "data": {
      "text/plain": [
       "Index(['county', 'state_abbr', 'FIPS', 'prescribing_rate', 'year',\n",
       "       'rur_mic_metro', 'rural_metro', 'state', 'region'],\n",
       "      dtype='object')"
      ]
     },
     "execution_count": 31,
     "metadata": {},
     "output_type": "execute_result"
    }
   ],
   "source": [
    "pres_data_county.columns"
   ]
  },
  {
   "cell_type": "code",
   "execution_count": 32,
   "metadata": {},
   "outputs": [],
   "source": [
    "# Rename columns to mark which columns are county metrics for merge\n",
    "pres_data_county.rename(columns={'prescribing_rate':'pres_rate_county'},inplace=True)"
   ]
  },
  {
   "cell_type": "code",
   "execution_count": 33,
   "metadata": {
    "scrolled": true
   },
   "outputs": [
    {
     "data": {
      "text/plain": [
       "Index(['county', 'state_abbr', 'FIPS', 'pres_rate_county', 'year',\n",
       "       'rur_mic_metro', 'rural_metro', 'state', 'region'],\n",
       "      dtype='object')"
      ]
     },
     "execution_count": 33,
     "metadata": {},
     "output_type": "execute_result"
    }
   ],
   "source": [
    "pres_data_county.columns"
   ]
  },
  {
   "cell_type": "markdown",
   "metadata": {},
   "source": [
    "### Merging Two Dataframes\n",
    "Use pd.merge() to merge two dataframes. Use the following structure:\n",
    "**pd.merge(df1, df2, how=\"merge_type\", on=[col_merge_on1, col_merge_on2])**\n",
    "\n",
    "See this link for more examples: https://www.tutorialspoint.com/python_pandas/python_pandas_merging_joining.htm"
   ]
  },
  {
   "cell_type": "code",
   "execution_count": 34,
   "metadata": {},
   "outputs": [],
   "source": [
    "# Merge county and state overdose/prescribing data\n",
    "pres_merged = pd.merge(pres_data_county, prescribe_data, how='left', on=['state','state_abbr','region','year'])"
   ]
  },
  {
   "cell_type": "code",
   "execution_count": 35,
   "metadata": {},
   "outputs": [
    {
     "data": {
      "text/plain": [
       "(33823, 13)"
      ]
     },
     "execution_count": 35,
     "metadata": {},
     "output_type": "execute_result"
    }
   ],
   "source": [
    "# Check to make sure number of rows stayed constant (no duplicates)\n",
    "pres_merged.shape"
   ]
  },
  {
   "cell_type": "code",
   "execution_count": 36,
   "metadata": {
    "scrolled": true
   },
   "outputs": [
    {
     "data": {
      "text/plain": [
       "(33823, 9)"
      ]
     },
     "execution_count": 36,
     "metadata": {},
     "output_type": "execute_result"
    }
   ],
   "source": [
    "pres_data_county.shape"
   ]
  },
  {
   "cell_type": "markdown",
   "metadata": {},
   "source": [
    "### Count nulls in a column\n",
    "Count nulls in a column by using the following structure: **df.column_name.isnull().sum()**"
   ]
  },
  {
   "cell_type": "code",
   "execution_count": 37,
   "metadata": {},
   "outputs": [
    {
     "data": {
      "text/plain": [
       "0"
      ]
     },
     "execution_count": 37,
     "metadata": {},
     "output_type": "execute_result"
    }
   ],
   "source": [
    "# check for nulls in rur_mic_metro\n",
    "pres_merged.rur_mic_metro.isnull().sum()"
   ]
  },
  {
   "cell_type": "code",
   "execution_count": 38,
   "metadata": {},
   "outputs": [
    {
     "data": {
      "text/plain": [
       "523"
      ]
     },
     "execution_count": 38,
     "metadata": {},
     "output_type": "execute_result"
    }
   ],
   "source": [
    "######## Check for nulls in od_rate_state\n",
    "pres_merged.od_rate_state.isnull().sum()"
   ]
  },
  {
   "cell_type": "code",
   "execution_count": 39,
   "metadata": {},
   "outputs": [
    {
     "data": {
      "text/plain": [
       "2015    2963\n",
       "2016    2962\n",
       "2014    2960\n",
       "2017    2955\n",
       "2008    2758\n",
       "2006    2754\n",
       "2013    2753\n",
       "2009    2750\n",
       "2007    2746\n",
       "2011    2745\n",
       "2010    2741\n",
       "2012    2736\n",
       "Name: year, dtype: int64"
      ]
     },
     "execution_count": 39,
     "metadata": {},
     "output_type": "execute_result"
    }
   ],
   "source": [
    "# Find value counts of each year so we can see below if our year filter works\n",
    "pres_merged.year.value_counts()"
   ]
  },
  {
   "cell_type": "code",
   "execution_count": 40,
   "metadata": {},
   "outputs": [
    {
     "data": {
      "text/html": [
       "<div>\n",
       "<style scoped>\n",
       "    .dataframe tbody tr th:only-of-type {\n",
       "        vertical-align: middle;\n",
       "    }\n",
       "\n",
       "    .dataframe tbody tr th {\n",
       "        vertical-align: top;\n",
       "    }\n",
       "\n",
       "    .dataframe thead th {\n",
       "        text-align: right;\n",
       "    }\n",
       "</style>\n",
       "<table border=\"1\" class=\"dataframe\">\n",
       "  <thead>\n",
       "    <tr style=\"text-align: right;\">\n",
       "      <th></th>\n",
       "      <th>county</th>\n",
       "      <th>state_abbr</th>\n",
       "      <th>FIPS</th>\n",
       "      <th>pres_rate_county</th>\n",
       "      <th>year</th>\n",
       "      <th>rur_mic_metro</th>\n",
       "      <th>rural_metro</th>\n",
       "      <th>state</th>\n",
       "      <th>region</th>\n",
       "      <th>pres_rate_state</th>\n",
       "      <th>od_rate_state</th>\n",
       "      <th>high_low_prescribe</th>\n",
       "      <th>high_low_overdoses</th>\n",
       "    </tr>\n",
       "  </thead>\n",
       "  <tbody>\n",
       "    <tr>\n",
       "      <td>0</td>\n",
       "      <td>Anchorage</td>\n",
       "      <td>AK</td>\n",
       "      <td>2020</td>\n",
       "      <td>71.5</td>\n",
       "      <td>2006</td>\n",
       "      <td>Metropolitan</td>\n",
       "      <td>Metropolitan</td>\n",
       "      <td>Alaska</td>\n",
       "      <td>West</td>\n",
       "      <td>63.4</td>\n",
       "      <td>3.3</td>\n",
       "      <td>low_prescribing</td>\n",
       "      <td>low_overdoses</td>\n",
       "    </tr>\n",
       "    <tr>\n",
       "      <td>1</td>\n",
       "      <td>Fairbanks North Star</td>\n",
       "      <td>AK</td>\n",
       "      <td>2090</td>\n",
       "      <td>54.7</td>\n",
       "      <td>2006</td>\n",
       "      <td>Metropolitan</td>\n",
       "      <td>Metropolitan</td>\n",
       "      <td>Alaska</td>\n",
       "      <td>West</td>\n",
       "      <td>63.4</td>\n",
       "      <td>3.3</td>\n",
       "      <td>low_prescribing</td>\n",
       "      <td>low_overdoses</td>\n",
       "    </tr>\n",
       "    <tr>\n",
       "      <td>2</td>\n",
       "      <td>Juneau</td>\n",
       "      <td>AK</td>\n",
       "      <td>2110</td>\n",
       "      <td>95.3</td>\n",
       "      <td>2006</td>\n",
       "      <td>Micropolitan</td>\n",
       "      <td>Rural</td>\n",
       "      <td>Alaska</td>\n",
       "      <td>West</td>\n",
       "      <td>63.4</td>\n",
       "      <td>3.3</td>\n",
       "      <td>low_prescribing</td>\n",
       "      <td>low_overdoses</td>\n",
       "    </tr>\n",
       "    <tr>\n",
       "      <td>3</td>\n",
       "      <td>Kenai Peninsula</td>\n",
       "      <td>AK</td>\n",
       "      <td>2122</td>\n",
       "      <td>89.1</td>\n",
       "      <td>2006</td>\n",
       "      <td>Micropolitan</td>\n",
       "      <td>Rural</td>\n",
       "      <td>Alaska</td>\n",
       "      <td>West</td>\n",
       "      <td>63.4</td>\n",
       "      <td>3.3</td>\n",
       "      <td>low_prescribing</td>\n",
       "      <td>low_overdoses</td>\n",
       "    </tr>\n",
       "    <tr>\n",
       "      <td>4</td>\n",
       "      <td>Ketchikan Gateway</td>\n",
       "      <td>AK</td>\n",
       "      <td>2130</td>\n",
       "      <td>144.4</td>\n",
       "      <td>2006</td>\n",
       "      <td>Micropolitan</td>\n",
       "      <td>Rural</td>\n",
       "      <td>Alaska</td>\n",
       "      <td>West</td>\n",
       "      <td>63.4</td>\n",
       "      <td>3.3</td>\n",
       "      <td>low_prescribing</td>\n",
       "      <td>low_overdoses</td>\n",
       "    </tr>\n",
       "  </tbody>\n",
       "</table>\n",
       "</div>"
      ],
      "text/plain": [
       "                 county state_abbr  FIPS  pres_rate_county  year  \\\n",
       "0             Anchorage         AK  2020              71.5  2006   \n",
       "1  Fairbanks North Star         AK  2090              54.7  2006   \n",
       "2                Juneau         AK  2110              95.3  2006   \n",
       "3       Kenai Peninsula         AK  2122              89.1  2006   \n",
       "4     Ketchikan Gateway         AK  2130             144.4  2006   \n",
       "\n",
       "  rur_mic_metro   rural_metro   state region  pres_rate_state  od_rate_state  \\\n",
       "0  Metropolitan  Metropolitan  Alaska   West             63.4            3.3   \n",
       "1  Metropolitan  Metropolitan  Alaska   West             63.4            3.3   \n",
       "2  Micropolitan         Rural  Alaska   West             63.4            3.3   \n",
       "3  Micropolitan         Rural  Alaska   West             63.4            3.3   \n",
       "4  Micropolitan         Rural  Alaska   West             63.4            3.3   \n",
       "\n",
       "  high_low_prescribe high_low_overdoses  \n",
       "0    low_prescribing      low_overdoses  \n",
       "1    low_prescribing      low_overdoses  \n",
       "2    low_prescribing      low_overdoses  \n",
       "3    low_prescribing      low_overdoses  \n",
       "4    low_prescribing      low_overdoses  "
      ]
     },
     "execution_count": 40,
     "metadata": {},
     "output_type": "execute_result"
    }
   ],
   "source": [
    "# Making sure merged dataframe looks good\n",
    "pres_merged.head()"
   ]
  },
  {
   "cell_type": "code",
   "execution_count": 41,
   "metadata": {},
   "outputs": [],
   "source": [
    "# Filter data to just 2017 data (the most recent year) so it will merge with demographic data\n",
    "pres_merged_2017 = pres_merged[pres_merged.year == 2017]"
   ]
  },
  {
   "cell_type": "code",
   "execution_count": 42,
   "metadata": {},
   "outputs": [
    {
     "data": {
      "text/plain": [
       "2017    2955\n",
       "Name: year, dtype: int64"
      ]
     },
     "execution_count": 42,
     "metadata": {},
     "output_type": "execute_result"
    }
   ],
   "source": [
    "# Check to make sure just 2017 data is left and it matches the value_counts number above\n",
    "pres_merged_2017.year.value_counts()\n",
    "# NOTE: 2018 data is actually a combined metric of 2014-2018 data so will work well for our 2017 prescribing/overdose data"
   ]
  },
  {
   "cell_type": "code",
   "execution_count": 43,
   "metadata": {},
   "outputs": [
    {
     "data": {
      "text/plain": [
       "Index(['county', 'state', 'FIPS', 'pop_total_2018', 'pop_lt_18_2018',\n",
       "       'pop_18_to_64_2018', 'pop_gt_65_2018', 'pop_median_2018',\n",
       "       'pop_pct_change_2016_17', 'pop_pct_change_2010_11',\n",
       "       'pct_gt_high_school', 'pct_gt_bachelors', 'pct_public_ins_lt_65',\n",
       "       'pct_public_ins_lt_19', 'pct_public_ins_19_to_64', 'unemployment_pct',\n",
       "       'pct_married_15_over', 'pct_2_plus_races', 'pct_white', 'pct_black',\n",
       "       'pct_am_ind_AK_native', 'pct_asian', 'pct_HA_pacific_islander',\n",
       "       'pct_hispanic', 'med_hh_income', 'pct_govt_cash_asst',\n",
       "       'pct_food_stamps', 'pct_lt_poverty', 'pct_private_ins_lt_65',\n",
       "       'pct_private_ins_lt_19', 'pct_private_ins_19_to_64'],\n",
       "      dtype='object')"
      ]
     },
     "execution_count": 43,
     "metadata": {},
     "output_type": "execute_result"
    }
   ],
   "source": [
    "# Print columns in census_data\n",
    "census_data.columns"
   ]
  },
  {
   "cell_type": "markdown",
   "metadata": {},
   "source": [
    "### Create new columns with math procedures\n",
    "- Use the same .loc procedure as shown before to create the new column\n",
    "- Refer to other columns in the dataframe using df.column_name\n",
    "- Use * for multiplication, / for division, - for subtraction, and + for addition"
   ]
  },
  {
   "cell_type": "code",
   "execution_count": 44,
   "metadata": {},
   "outputs": [],
   "source": [
    "census_data.loc[:,'pct_pop_lt_18'] = census_data.pop_lt_18_2018/census_data.pop_total_2018*100\n",
    "census_data.loc[:,'pct_pop_18_to_64'] = census_data.pop_18_to_64_2018/census_data.pop_total_2018*100\n",
    "census_data.loc[:,'pct_pop_gt_65'] = census_data.pop_gt_65_2018/census_data.pop_total_2018*100\n",
    "\n",
    "######### Add same percent metrics for 18 to 64 and greater than 65"
   ]
  },
  {
   "cell_type": "code",
   "execution_count": 45,
   "metadata": {},
   "outputs": [
    {
     "data": {
      "text/plain": [
       "0       23.674035\n",
       "1       21.607911\n",
       "2       20.867328\n",
       "3       20.477679\n",
       "4       23.153527\n",
       "          ...    \n",
       "3137    26.224710\n",
       "3138    18.365755\n",
       "3139    28.789596\n",
       "3140    22.739379\n",
       "3141    20.769341\n",
       "Name: pct_pop_lt_18, Length: 3142, dtype: float64"
      ]
     },
     "execution_count": 45,
     "metadata": {},
     "output_type": "execute_result"
    }
   ],
   "source": [
    "# Print calculated columns to make sure they were calculated correctly\n",
    "census_data.loc[:,'pct_pop_lt_18']"
   ]
  },
  {
   "cell_type": "code",
   "execution_count": 46,
   "metadata": {},
   "outputs": [
    {
     "data": {
      "text/plain": [
       "0       60.763296\n",
       "1       57.948739\n",
       "2       59.712230\n",
       "3       63.049107\n",
       "4       58.609959\n",
       "          ...    \n",
       "3137    61.664073\n",
       "3138    66.218968\n",
       "3139    57.130893\n",
       "3140    55.573874\n",
       "3141    58.719678\n",
       "Name: pct_pop_18_to_64, Length: 3142, dtype: float64"
      ]
     },
     "execution_count": 46,
     "metadata": {},
     "output_type": "execute_result"
    }
   ],
   "source": [
    "census_data.loc[:,'pct_pop_18_to_64']"
   ]
  },
  {
   "cell_type": "code",
   "execution_count": 47,
   "metadata": {},
   "outputs": [
    {
     "data": {
      "text/plain": [
       "0       15.562670\n",
       "1       20.443350\n",
       "2       19.420441\n",
       "3       16.473214\n",
       "4       18.236515\n",
       "          ...    \n",
       "3137    12.111217\n",
       "3138    15.415277\n",
       "3139    14.079511\n",
       "3140    21.686747\n",
       "3141    20.510980\n",
       "Name: pct_pop_gt_65, Length: 3142, dtype: float64"
      ]
     },
     "execution_count": 47,
     "metadata": {},
     "output_type": "execute_result"
    }
   ],
   "source": [
    "census_data.loc[:,'pct_pop_gt_65']"
   ]
  },
  {
   "cell_type": "code",
   "execution_count": 48,
   "metadata": {},
   "outputs": [
    {
     "data": {
      "text/plain": [
       "8.6"
      ]
     },
     "execution_count": 48,
     "metadata": {},
     "output_type": "execute_result"
    }
   ],
   "source": [
    "# How to calculate the 33rd percentile of poverty is shown below. Use these in your user-defined function\n",
    "poverty_33_percentile = census_data.pct_lt_poverty.quantile(q=0.3333)\n",
    "poverty_33_percentile"
   ]
  },
  {
   "cell_type": "code",
   "execution_count": 49,
   "metadata": {},
   "outputs": [
    {
     "data": {
      "text/plain": [
       "12.9"
      ]
     },
     "execution_count": 49,
     "metadata": {},
     "output_type": "execute_result"
    }
   ],
   "source": [
    "# How to calculate the 66th percentile of poverty is shown below. Use these in your user-defined function\n",
    "poverty_66_percentile = census_data.pct_lt_poverty.quantile(q=0.6666)\n",
    "poverty_66_percentile"
   ]
  },
  {
   "cell_type": "code",
   "execution_count": 50,
   "metadata": {
    "scrolled": true
   },
   "outputs": [
    {
     "data": {
      "text/plain": [
       "Index(['county', 'state', 'FIPS', 'pop_median_2018', 'pop_pct_change_2016_17',\n",
       "       'pop_pct_change_2010_11', 'pct_gt_high_school', 'pct_gt_bachelors',\n",
       "       'pct_public_ins_lt_65', 'pct_public_ins_lt_19',\n",
       "       'pct_public_ins_19_to_64', 'unemployment_pct', 'pct_married_15_over',\n",
       "       'pct_2_plus_races', 'pct_white', 'pct_black', 'pct_am_ind_AK_native',\n",
       "       'pct_asian', 'pct_HA_pacific_islander', 'pct_hispanic', 'med_hh_income',\n",
       "       'pct_govt_cash_asst', 'pct_food_stamps', 'pct_lt_poverty',\n",
       "       'pct_private_ins_lt_65', 'pct_private_ins_lt_19',\n",
       "       'pct_private_ins_19_to_64', 'pct_pop_lt_18', 'pct_pop_18_to_64',\n",
       "       'pct_pop_gt_65'],\n",
       "      dtype='object')"
      ]
     },
     "execution_count": 50,
     "metadata": {},
     "output_type": "execute_result"
    }
   ],
   "source": [
    "# Drop raw population metrics\n",
    "census_data = census_data.drop(columns=['pop_total_2018', 'pop_lt_18_2018','pop_18_to_64_2018', 'pop_gt_65_2018'])\n",
    "census_data.columns"
   ]
  },
  {
   "cell_type": "code",
   "execution_count": 51,
   "metadata": {
    "scrolled": true
   },
   "outputs": [
    {
     "data": {
      "text/plain": [
       "Index(['county', 'state_abbr', 'FIPS', 'pres_rate_county', 'year',\n",
       "       'rur_mic_metro', 'rural_metro', 'state', 'region', 'pres_rate_state',\n",
       "       'od_rate_state', 'high_low_prescribe', 'high_low_overdoses'],\n",
       "      dtype='object')"
      ]
     },
     "execution_count": 51,
     "metadata": {},
     "output_type": "execute_result"
    }
   ],
   "source": [
    "pres_merged_2017.columns"
   ]
  },
  {
   "cell_type": "markdown",
   "metadata": {},
   "source": [
    "# Exercises\n",
    "Complete exercises below. Make sure to check your code for accuracy and investigate if needed to make sure your code was done correctly (i.e. investigate missing values, count rows after merges). There is more than one way to everything in Python so your answers may look different than mine!"
   ]
  },
  {
   "cell_type": "markdown",
   "metadata": {},
   "source": [
    "### Exercise 1: Merge in census data. Use an inner join"
   ]
  },
  {
   "cell_type": "markdown",
   "metadata": {},
   "source": [
    "### Exercise 2: Create user-defined function to find states with high, medium, and low poverty based on pct_lt_poverty rate calculated earlier"
   ]
  },
  {
   "cell_type": "markdown",
   "metadata": {},
   "source": [
    "### Exercise 3: Use value_counts() to count the number of states in each bucket. The buckets should be close (not exact) to equal"
   ]
  }
 ],
 "metadata": {
  "kernelspec": {
   "display_name": "Python 3",
   "language": "python",
   "name": "python3"
  },
  "language_info": {
   "codemirror_mode": {
    "name": "ipython",
    "version": 3
   },
   "file_extension": ".py",
   "mimetype": "text/x-python",
   "name": "python",
   "nbconvert_exporter": "python",
   "pygments_lexer": "ipython3",
   "version": "3.7.4"
  }
 },
 "nbformat": 4,
 "nbformat_minor": 2
}
